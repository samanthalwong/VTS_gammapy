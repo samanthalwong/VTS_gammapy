{
 "cells": [
  {
   "cell_type": "code",
   "execution_count": 15,
   "metadata": {},
   "outputs": [],
   "source": [
    "%matplotlib inline"
   ]
  },
  {
   "cell_type": "markdown",
   "metadata": {},
   "source": [
    "\n",
    "# Light curves for flares\n",
    "\n",
    "Compute the light curve of a PKS 2155-304 flare on 10 minutes time intervals.\n",
    "\n",
    "## Prerequisites\n",
    "\n",
    "-  Understanding of how the light curve estimator works, please refer to\n",
    "   the :doc:`light curve notebook </tutorials/analysis-time/light_curve`.\n",
    "\n",
    "## Context\n",
    "\n",
    "Frequently, especially when studying flares of bright sources, it is\n",
    "necessary to explore the time behaviour of a source on short time\n",
    "scales, in particular on time scales shorter than observing runs.\n",
    "\n",
    "A typical example is given by the flare of PKS 2155-304 during the night\n",
    "from July 29 to 30 2006. See the [following\n",
    "article](https://ui.adsabs.harvard.edu/abs/2009A%26A...502..749A/abstract)_.\n",
    "\n",
    "**Objective: Compute the light curve of a PKS 2155-304 flare on 5\n",
    "minutes time intervals, i.e. smaller than the duration of individual\n",
    "observations.**\n",
    "\n",
    "## Proposed approach\n",
    "\n",
    "We have seen in the general presentation of the light curve estimator,\n",
    "see the :doc:`light curve notebook </tutorials/analysis-time/light_curve>`, Gammapy produces\n",
    "datasets in a given time interval, by default that of the parent\n",
    "observation. To be able to produce datasets on smaller time steps, it is\n",
    "necessary to split the observations into the required time intervals.\n",
    "\n",
    "This is easily performed with the `~gammapy.data.Observations.select_time` method of\n",
    "`~gammapy.data.Observations`. If you pass it a list of time intervals\n",
    "it will produce a list of time filtered observations in a new\n",
    "`~gammapy.data.Observations` object. Data reduction can then be\n",
    "performed and will result in datasets defined on the required time\n",
    "intervals and light curve estimation can proceed directly.\n",
    "\n",
    "In summary, we have to:\n",
    "\n",
    "-  Select relevant `~gammapy.data.Observations` from the\n",
    "   `~gammapy.data.DataStore`\n",
    "-  Apply the time selection in our predefined time intervals to obtain a\n",
    "   new `~gammapy.data.Observations`\n",
    "-  Perform the data reduction (in 1D or 3D)\n",
    "-  Define the source model\n",
    "-  Extract the light curve from the reduced dataset\n",
    "\n",
    "Here, we will use the PKS 2155-304 observations from the H.E.S.S. first\n",
    "public test data release. We will use time intervals of 5 minutes\n",
    "duration. The tutorial is implemented with the intermediate level API.\n",
    "\n",
    "## Setup\n",
    "\n",
    "As usual, we’ll start with some general imports…\n"
   ]
  },
  {
   "cell_type": "code",
   "execution_count": 3,
   "metadata": {},
   "outputs": [],
   "source": [
    "import logging\n",
    "import numpy as np\n",
    "import astropy.units as u\n",
    "from astropy.coordinates import Angle, SkyCoord\n",
    "from astropy.time import Time\n",
    "from regions import CircleSkyRegion\n",
    "\n",
    "# %matplotlib inline\n",
    "import matplotlib.pyplot as plt\n",
    "\n",
    "log = logging.getLogger(__name__)\n",
    "\n",
    "from gammapy.data import DataStore\n",
    "from gammapy.datasets import Datasets, SpectrumDataset\n",
    "from gammapy.estimators import LightCurveEstimator\n",
    "from gammapy.makers import (\n",
    "    ReflectedRegionsBackgroundMaker,\n",
    "    SafeMaskMaker,\n",
    "    SpectrumDatasetMaker,\n",
    ")\n",
    "from gammapy.maps import MapAxis, RegionGeom\n",
    "from gammapy.modeling.models import PowerLawSpectralModel, SkyModel"
   ]
  },
  {
   "cell_type": "markdown",
   "metadata": {},
   "source": [
    "## Select the data\n",
    "\n",
    "We first set the datastore.\n",
    "\n",
    "\n"
   ]
  },
  {
   "cell_type": "code",
   "execution_count": 4,
   "metadata": {},
   "outputs": [
    {
     "name": "stdout",
     "output_type": "stream",
     "text": [
      "Data store:\n",
      "HDU index table:\n",
      "BASE_DIR: /raid/romulus/swong/LIV/mrk421_5min\n",
      "Rows: 48\n",
      "OBS_ID: 50099 -- 50110\n",
      "HDU_TYPE: ['aeff', 'edisp', 'events', 'gti']\n",
      "HDU_CLASS: ['aeff_2d', 'edisp_2d', 'events', 'gti']\n",
      "\n",
      "\n",
      "Observation table:\n",
      "Observatory name: 'N/A'\n",
      "Number of observations: 12\n",
      "\n"
     ]
    }
   ],
   "source": [
    "data_store = DataStore.from_dir(\"/raid/romulus/swong/LIV/mrk421_5min/\")\n",
    "data_store.info()"
   ]
  },
  {
   "cell_type": "code",
   "execution_count": 5,
   "metadata": {},
   "outputs": [
    {
     "name": "stdout",
     "output_type": "stream",
     "text": [
      "Number of selected observations : 12\n"
     ]
    }
   ],
   "source": [
    "observations = data_store.get_observations(required_irf='point-like')\n",
    "print(f\"Number of selected observations : {len(observations)}\")"
   ]
  },
  {
   "cell_type": "code",
   "execution_count": 6,
   "metadata": {},
   "outputs": [
    {
     "name": "stdout",
     "output_type": "stream",
     "text": [
      "Number of selected observations : 12\n"
     ]
    }
   ],
   "source": [
    "target_position = SkyCoord(166.0791667 * u.deg, 38.1947222* u.deg, frame=\"icrs\")\n",
    "selection = dict(\n",
    "    type=\"sky_circle\",\n",
    "    frame=\"icrs\",\n",
    "    lon=target_position.ra,\n",
    "    lat=target_position.dec,\n",
    "    radius=2 * u.deg,\n",
    ")\n",
    "obs_ids = data_store.obs_table.select_observations(selection)[\"OBS_ID\"]\n",
    "observations = data_store.get_observations(obs_ids,skip_missing=False,required_irf='point-like')\n",
    "print(f\"Number of selected observations : {len(observations)}\")"
   ]
  },
  {
   "cell_type": "markdown",
   "metadata": {},
   "source": [
    "## Define time intervals\n",
    "\n",
    "We create the list of time intervals. Each time interval is an\n",
    "`astropy.time.Time` object, containing a start and stop time.\n",
    "\n",
    "\n"
   ]
  },
  {
   "cell_type": "code",
   "execution_count": 7,
   "metadata": {},
   "outputs": [],
   "source": [
    "t0 = Time(\"2010-02-17T07:29:23.712\")\n",
    "duration = 5 * u.min\n",
    "n_time_bins = 30\n",
    "times = t0 + np.arange(n_time_bins) * duration\n",
    "time_intervals = [Time([tstart, tstop]) for tstart, tstop in zip(times[:-1], times[1:])]"
   ]
  },
  {
   "cell_type": "markdown",
   "metadata": {},
   "source": [
    "## Filter the observations list in time intervals\n",
    "\n",
    "Here we apply the list of time intervals to the observations with\n",
    "`~gammapy.data.Observations.select_time()`.\n",
    "\n",
    "This will return a new list of Observations filtered by time_intervals.\n",
    "For each time interval, a new observation is created that converts the\n",
    "intersection of the GTIs and time interval.\n",
    "\n",
    "\n"
   ]
  },
  {
   "cell_type": "code",
   "execution_count": 8,
   "metadata": {},
   "outputs": [
    {
     "name": "stdout",
     "output_type": "stream",
     "text": [
      "Number of observations after time filtering: 34\n",
      "\n",
      "GTI info:\n",
      "- Number of GTIs: 1\n",
      "- Duration: 300.0 s\n",
      "- Start: 159176065.712 s MET\n",
      "- Start: 2010-02-17T07:34:23.712 (time standard: UTC)\n",
      "- Stop: 159176365.712 s MET\n",
      "- Stop: 2010-02-17T07:39:23.712 (time standard: UTC)\n",
      "\n"
     ]
    }
   ],
   "source": [
    "short_observations = observations.select_time(time_intervals)\n",
    "# check that observations have been filtered\n",
    "print(f\"Number of observations after time filtering: {len(short_observations)}\\n\")\n",
    "print(short_observations[1].gti)"
   ]
  },
  {
   "cell_type": "markdown",
   "metadata": {},
   "source": [
    "As we can see, we have now observations of duration equal to the chosen\n",
    "time step.\n",
    "\n",
    "Now data reduction and light curve extraction can proceed exactly as\n",
    "before.\n",
    "\n",
    "\n"
   ]
  },
  {
   "cell_type": "markdown",
   "metadata": {},
   "source": [
    "## Building 1D datasets from the new observations\n",
    "\n",
    "Here we will perform the data reduction in 1D with reflected regions.\n",
    "\n",
    "*Beware, with small time intervals the background normalization with OFF\n",
    "regions might become problematic.*\n",
    "\n",
    "\n"
   ]
  },
  {
   "cell_type": "markdown",
   "metadata": {},
   "source": [
    "### Defining the geometry\n",
    "\n",
    "We define the energy axes. As usual, the true energy axis has to cover a\n",
    "wider range to ensure a good coverage of the measured energy range\n",
    "chosen.\n",
    "\n",
    "We need to define the ON extraction region. Its size follows typical\n",
    "spectral extraction regions for VERITAS analyses.\n",
    "\n",
    "\n"
   ]
  },
  {
   "cell_type": "code",
   "execution_count": 9,
   "metadata": {},
   "outputs": [],
   "source": [
    "# Target definition\n",
    "energy_axis = MapAxis.from_energy_bounds(\"0.11 TeV\", \"4 TeV\", nbin=10)\n",
    "energy_axis_true = MapAxis.from_energy_bounds(\n",
    "    \"0.11 TeV\", \"4 TeV\", nbin=10, name=\"energy_true\"\n",
    ")\n",
    "\n",
    "on_region_radius = Angle(\"0.0894427191 deg\")\n",
    "on_region = CircleSkyRegion(center=target_position, radius=on_region_radius)\n",
    "\n",
    "geom = RegionGeom.create(region=on_region, axes=[energy_axis])"
   ]
  },
  {
   "cell_type": "markdown",
   "metadata": {},
   "source": [
    "### Creation of the data reduction makers\n",
    "\n",
    "We now create the dataset and background makers for the selected\n",
    "geometry.\n",
    "\n",
    "\n"
   ]
  },
  {
   "cell_type": "code",
   "execution_count": 10,
   "metadata": {},
   "outputs": [],
   "source": [
    "dataset_maker = SpectrumDatasetMaker(\n",
    "    containment_correction=False, selection=[\"counts\", \"exposure\", \"edisp\"]\n",
    ")\n",
    "bkg_maker = ReflectedRegionsBackgroundMaker()\n",
    "safe_mask_masker = SafeMaskMaker(methods=[\"aeff-max\"], aeff_percent=10)"
   ]
  },
  {
   "cell_type": "markdown",
   "metadata": {},
   "source": [
    "### Creation of the datasets\n",
    "\n",
    "Now we perform the actual data reduction in the time_intervals.\n",
    "\n",
    "\n"
   ]
  },
  {
   "cell_type": "code",
   "execution_count": 11,
   "metadata": {},
   "outputs": [
    {
     "name": "stderr",
     "output_type": "stream",
     "text": [
      "/homes/wang/swong/lib/python3.9/site-packages/gammapy/maps/geom.py:48: RuntimeWarning: invalid value encountered in cast\n",
      "  p_idx = np.rint(p).astype(int)\n",
      "/homes/wang/swong/lib/python3.9/site-packages/gammapy/maps/geom.py:48: RuntimeWarning: invalid value encountered in cast\n",
      "  p_idx = np.rint(p).astype(int)\n",
      "/homes/wang/swong/lib/python3.9/site-packages/gammapy/maps/geom.py:48: RuntimeWarning: invalid value encountered in cast\n",
      "  p_idx = np.rint(p).astype(int)\n",
      "/homes/wang/swong/lib/python3.9/site-packages/gammapy/maps/geom.py:48: RuntimeWarning: invalid value encountered in cast\n",
      "  p_idx = np.rint(p).astype(int)\n",
      "/homes/wang/swong/lib/python3.9/site-packages/gammapy/maps/geom.py:48: RuntimeWarning: invalid value encountered in cast\n",
      "  p_idx = np.rint(p).astype(int)\n",
      "/homes/wang/swong/lib/python3.9/site-packages/gammapy/maps/geom.py:48: RuntimeWarning: invalid value encountered in cast\n",
      "  p_idx = np.rint(p).astype(int)\n",
      "/homes/wang/swong/lib/python3.9/site-packages/gammapy/maps/geom.py:48: RuntimeWarning: invalid value encountered in cast\n",
      "  p_idx = np.rint(p).astype(int)\n",
      "/homes/wang/swong/lib/python3.9/site-packages/gammapy/maps/geom.py:48: RuntimeWarning: invalid value encountered in cast\n",
      "  p_idx = np.rint(p).astype(int)\n",
      "/homes/wang/swong/lib/python3.9/site-packages/gammapy/maps/geom.py:48: RuntimeWarning: invalid value encountered in cast\n",
      "  p_idx = np.rint(p).astype(int)\n",
      "/homes/wang/swong/lib/python3.9/site-packages/gammapy/maps/geom.py:48: RuntimeWarning: invalid value encountered in cast\n",
      "  p_idx = np.rint(p).astype(int)\n",
      "/homes/wang/swong/lib/python3.9/site-packages/gammapy/maps/geom.py:48: RuntimeWarning: invalid value encountered in cast\n",
      "  p_idx = np.rint(p).astype(int)\n",
      "/homes/wang/swong/lib/python3.9/site-packages/gammapy/maps/geom.py:48: RuntimeWarning: invalid value encountered in cast\n",
      "  p_idx = np.rint(p).astype(int)\n",
      "/homes/wang/swong/lib/python3.9/site-packages/gammapy/maps/geom.py:48: RuntimeWarning: invalid value encountered in cast\n",
      "  p_idx = np.rint(p).astype(int)\n",
      "/homes/wang/swong/lib/python3.9/site-packages/gammapy/maps/geom.py:48: RuntimeWarning: invalid value encountered in cast\n",
      "  p_idx = np.rint(p).astype(int)\n",
      "/homes/wang/swong/lib/python3.9/site-packages/gammapy/maps/geom.py:48: RuntimeWarning: invalid value encountered in cast\n",
      "  p_idx = np.rint(p).astype(int)\n",
      "/homes/wang/swong/lib/python3.9/site-packages/gammapy/maps/geom.py:48: RuntimeWarning: invalid value encountered in cast\n",
      "  p_idx = np.rint(p).astype(int)\n",
      "/homes/wang/swong/lib/python3.9/site-packages/gammapy/maps/geom.py:48: RuntimeWarning: invalid value encountered in cast\n",
      "  p_idx = np.rint(p).astype(int)\n",
      "/homes/wang/swong/lib/python3.9/site-packages/gammapy/maps/geom.py:48: RuntimeWarning: invalid value encountered in cast\n",
      "  p_idx = np.rint(p).astype(int)\n",
      "/homes/wang/swong/lib/python3.9/site-packages/gammapy/maps/geom.py:48: RuntimeWarning: invalid value encountered in cast\n",
      "  p_idx = np.rint(p).astype(int)\n",
      "/homes/wang/swong/lib/python3.9/site-packages/gammapy/maps/geom.py:48: RuntimeWarning: invalid value encountered in cast\n",
      "  p_idx = np.rint(p).astype(int)\n",
      "/homes/wang/swong/lib/python3.9/site-packages/gammapy/maps/geom.py:48: RuntimeWarning: invalid value encountered in cast\n",
      "  p_idx = np.rint(p).astype(int)\n",
      "/homes/wang/swong/lib/python3.9/site-packages/gammapy/maps/geom.py:48: RuntimeWarning: invalid value encountered in cast\n",
      "  p_idx = np.rint(p).astype(int)\n",
      "/homes/wang/swong/lib/python3.9/site-packages/gammapy/maps/geom.py:48: RuntimeWarning: invalid value encountered in cast\n",
      "  p_idx = np.rint(p).astype(int)\n",
      "/homes/wang/swong/lib/python3.9/site-packages/gammapy/maps/geom.py:48: RuntimeWarning: invalid value encountered in cast\n",
      "  p_idx = np.rint(p).astype(int)\n",
      "/homes/wang/swong/lib/python3.9/site-packages/gammapy/maps/geom.py:48: RuntimeWarning: invalid value encountered in cast\n",
      "  p_idx = np.rint(p).astype(int)\n",
      "/homes/wang/swong/lib/python3.9/site-packages/gammapy/maps/geom.py:48: RuntimeWarning: invalid value encountered in cast\n",
      "  p_idx = np.rint(p).astype(int)\n",
      "/homes/wang/swong/lib/python3.9/site-packages/gammapy/maps/geom.py:48: RuntimeWarning: invalid value encountered in cast\n",
      "  p_idx = np.rint(p).astype(int)\n",
      "/homes/wang/swong/lib/python3.9/site-packages/gammapy/maps/geom.py:48: RuntimeWarning: invalid value encountered in cast\n",
      "  p_idx = np.rint(p).astype(int)\n",
      "/homes/wang/swong/lib/python3.9/site-packages/gammapy/maps/geom.py:48: RuntimeWarning: invalid value encountered in cast\n",
      "  p_idx = np.rint(p).astype(int)\n",
      "/homes/wang/swong/lib/python3.9/site-packages/gammapy/maps/geom.py:48: RuntimeWarning: invalid value encountered in cast\n",
      "  p_idx = np.rint(p).astype(int)\n",
      "/homes/wang/swong/lib/python3.9/site-packages/gammapy/maps/geom.py:48: RuntimeWarning: invalid value encountered in cast\n",
      "  p_idx = np.rint(p).astype(int)\n",
      "/homes/wang/swong/lib/python3.9/site-packages/gammapy/maps/geom.py:48: RuntimeWarning: invalid value encountered in cast\n",
      "  p_idx = np.rint(p).astype(int)\n",
      "/homes/wang/swong/lib/python3.9/site-packages/gammapy/maps/geom.py:48: RuntimeWarning: invalid value encountered in cast\n",
      "  p_idx = np.rint(p).astype(int)\n",
      "/homes/wang/swong/lib/python3.9/site-packages/gammapy/maps/geom.py:48: RuntimeWarning: invalid value encountered in cast\n",
      "  p_idx = np.rint(p).astype(int)\n",
      "/homes/wang/swong/lib/python3.9/site-packages/gammapy/maps/geom.py:48: RuntimeWarning: invalid value encountered in cast\n",
      "  p_idx = np.rint(p).astype(int)\n",
      "/homes/wang/swong/lib/python3.9/site-packages/gammapy/maps/geom.py:48: RuntimeWarning: invalid value encountered in cast\n",
      "  p_idx = np.rint(p).astype(int)\n",
      "/homes/wang/swong/lib/python3.9/site-packages/gammapy/maps/geom.py:48: RuntimeWarning: invalid value encountered in cast\n",
      "  p_idx = np.rint(p).astype(int)\n",
      "/homes/wang/swong/lib/python3.9/site-packages/gammapy/maps/geom.py:48: RuntimeWarning: invalid value encountered in cast\n",
      "  p_idx = np.rint(p).astype(int)\n",
      "/homes/wang/swong/lib/python3.9/site-packages/gammapy/maps/geom.py:48: RuntimeWarning: invalid value encountered in cast\n",
      "  p_idx = np.rint(p).astype(int)\n",
      "/homes/wang/swong/lib/python3.9/site-packages/gammapy/maps/geom.py:48: RuntimeWarning: invalid value encountered in cast\n",
      "  p_idx = np.rint(p).astype(int)\n",
      "/homes/wang/swong/lib/python3.9/site-packages/gammapy/maps/geom.py:48: RuntimeWarning: invalid value encountered in cast\n",
      "  p_idx = np.rint(p).astype(int)\n",
      "/homes/wang/swong/lib/python3.9/site-packages/gammapy/maps/geom.py:48: RuntimeWarning: invalid value encountered in cast\n",
      "  p_idx = np.rint(p).astype(int)\n",
      "/homes/wang/swong/lib/python3.9/site-packages/gammapy/maps/geom.py:48: RuntimeWarning: invalid value encountered in cast\n",
      "  p_idx = np.rint(p).astype(int)\n",
      "/homes/wang/swong/lib/python3.9/site-packages/gammapy/maps/geom.py:48: RuntimeWarning: invalid value encountered in cast\n",
      "  p_idx = np.rint(p).astype(int)\n",
      "/homes/wang/swong/lib/python3.9/site-packages/gammapy/maps/geom.py:48: RuntimeWarning: invalid value encountered in cast\n",
      "  p_idx = np.rint(p).astype(int)\n",
      "/homes/wang/swong/lib/python3.9/site-packages/gammapy/maps/geom.py:48: RuntimeWarning: invalid value encountered in cast\n",
      "  p_idx = np.rint(p).astype(int)\n",
      "/homes/wang/swong/lib/python3.9/site-packages/gammapy/maps/geom.py:48: RuntimeWarning: invalid value encountered in cast\n",
      "  p_idx = np.rint(p).astype(int)\n",
      "/homes/wang/swong/lib/python3.9/site-packages/gammapy/maps/geom.py:48: RuntimeWarning: invalid value encountered in cast\n",
      "  p_idx = np.rint(p).astype(int)\n",
      "/homes/wang/swong/lib/python3.9/site-packages/gammapy/maps/geom.py:48: RuntimeWarning: invalid value encountered in cast\n",
      "  p_idx = np.rint(p).astype(int)\n",
      "/homes/wang/swong/lib/python3.9/site-packages/gammapy/maps/geom.py:48: RuntimeWarning: invalid value encountered in cast\n",
      "  p_idx = np.rint(p).astype(int)\n",
      "/homes/wang/swong/lib/python3.9/site-packages/gammapy/maps/geom.py:48: RuntimeWarning: invalid value encountered in cast\n",
      "  p_idx = np.rint(p).astype(int)\n",
      "/homes/wang/swong/lib/python3.9/site-packages/gammapy/maps/geom.py:48: RuntimeWarning: invalid value encountered in cast\n",
      "  p_idx = np.rint(p).astype(int)\n",
      "/homes/wang/swong/lib/python3.9/site-packages/gammapy/maps/geom.py:48: RuntimeWarning: invalid value encountered in cast\n",
      "  p_idx = np.rint(p).astype(int)\n",
      "/homes/wang/swong/lib/python3.9/site-packages/gammapy/maps/geom.py:48: RuntimeWarning: invalid value encountered in cast\n",
      "  p_idx = np.rint(p).astype(int)\n",
      "/homes/wang/swong/lib/python3.9/site-packages/gammapy/maps/geom.py:48: RuntimeWarning: invalid value encountered in cast\n",
      "  p_idx = np.rint(p).astype(int)\n"
     ]
    },
    {
     "name": "stderr",
     "output_type": "stream",
     "text": [
      "/homes/wang/swong/lib/python3.9/site-packages/gammapy/maps/geom.py:48: RuntimeWarning: invalid value encountered in cast\n",
      "  p_idx = np.rint(p).astype(int)\n",
      "/homes/wang/swong/lib/python3.9/site-packages/gammapy/maps/geom.py:48: RuntimeWarning: invalid value encountered in cast\n",
      "  p_idx = np.rint(p).astype(int)\n",
      "/homes/wang/swong/lib/python3.9/site-packages/gammapy/maps/geom.py:48: RuntimeWarning: invalid value encountered in cast\n",
      "  p_idx = np.rint(p).astype(int)\n",
      "/homes/wang/swong/lib/python3.9/site-packages/gammapy/maps/geom.py:48: RuntimeWarning: invalid value encountered in cast\n",
      "  p_idx = np.rint(p).astype(int)\n",
      "/homes/wang/swong/lib/python3.9/site-packages/gammapy/maps/geom.py:48: RuntimeWarning: invalid value encountered in cast\n",
      "  p_idx = np.rint(p).astype(int)\n",
      "/homes/wang/swong/lib/python3.9/site-packages/gammapy/maps/geom.py:48: RuntimeWarning: invalid value encountered in cast\n",
      "  p_idx = np.rint(p).astype(int)\n",
      "/homes/wang/swong/lib/python3.9/site-packages/gammapy/maps/geom.py:48: RuntimeWarning: invalid value encountered in cast\n",
      "  p_idx = np.rint(p).astype(int)\n",
      "/homes/wang/swong/lib/python3.9/site-packages/gammapy/maps/geom.py:48: RuntimeWarning: invalid value encountered in cast\n",
      "  p_idx = np.rint(p).astype(int)\n",
      "/homes/wang/swong/lib/python3.9/site-packages/gammapy/maps/geom.py:48: RuntimeWarning: invalid value encountered in cast\n",
      "  p_idx = np.rint(p).astype(int)\n",
      "/homes/wang/swong/lib/python3.9/site-packages/gammapy/maps/geom.py:48: RuntimeWarning: invalid value encountered in cast\n",
      "  p_idx = np.rint(p).astype(int)\n",
      "/homes/wang/swong/lib/python3.9/site-packages/gammapy/maps/geom.py:48: RuntimeWarning: invalid value encountered in cast\n",
      "  p_idx = np.rint(p).astype(int)\n",
      "/homes/wang/swong/lib/python3.9/site-packages/gammapy/maps/geom.py:48: RuntimeWarning: invalid value encountered in cast\n",
      "  p_idx = np.rint(p).astype(int)\n",
      "/homes/wang/swong/lib/python3.9/site-packages/gammapy/maps/geom.py:48: RuntimeWarning: invalid value encountered in cast\n",
      "  p_idx = np.rint(p).astype(int)\n"
     ]
    }
   ],
   "source": [
    "datasets = Datasets()\n",
    "\n",
    "dataset_empty = SpectrumDataset.create(geom=geom, energy_axis_true=energy_axis_true)\n",
    "\n",
    "for obs in short_observations:\n",
    "    dataset = dataset_maker.run(dataset_empty.copy(), obs)\n",
    "\n",
    "    dataset_on_off = bkg_maker.run(dataset, obs)\n",
    "    dataset_on_off = safe_mask_masker.run(dataset_on_off, obs)\n",
    "    datasets.append(dataset_on_off)"
   ]
  },
  {
   "cell_type": "markdown",
   "metadata": {},
   "source": [
    "## Define the Model\n",
    "\n",
    "Here we use only a spectral model in the\n",
    "`~gammapy.modeling.models.SkyModel` object.\n",
    "\n",
    "\n"
   ]
  },
  {
   "cell_type": "code",
   "execution_count": 12,
   "metadata": {},
   "outputs": [],
   "source": [
    "spectral_model = PowerLawSpectralModel(\n",
    "    index=2, amplitude=5.5e-9 * u.Unit(\"1 / (cm2 s TeV)\"), reference=1 * u.TeV\n",
    ")\n",
    "spectral_model.parameters[\"index\"].frozen = False\n",
    "\n",
    "sky_model = SkyModel(spatial_model=None, spectral_model=spectral_model, name=\"mrk421\")"
   ]
  },
  {
   "cell_type": "markdown",
   "metadata": {},
   "source": [
    "### Assign to model to all datasets\n",
    "\n",
    "We assign each dataset its spectral model\n",
    "\n",
    "\n"
   ]
  },
  {
   "cell_type": "code",
   "execution_count": 13,
   "metadata": {},
   "outputs": [],
   "source": [
    "datasets.models = sky_model"
   ]
  },
  {
   "cell_type": "markdown",
   "metadata": {},
   "source": [
    "## Extract the light curve\n",
    "\n",
    "We first create the `~gammapy.estimators.LightCurveEstimator` for the\n",
    "list of datasets we just produced. We give the estimator the name of the\n",
    "source component to be fitted.\n",
    "\n",
    "\n"
   ]
  },
  {
   "cell_type": "code",
   "execution_count": 32,
   "metadata": {},
   "outputs": [],
   "source": [
    "lc_maker_1d = LightCurveEstimator(\n",
    "    energy_edges=[0.11, 4] * u.TeV,\n",
    "    source=0,\n",
    "    time_intervals=time_intervals,\n",
    "    selection_optional=None,\n",
    ")"
   ]
  },
  {
   "cell_type": "markdown",
   "metadata": {},
   "source": [
    "We can now perform the light curve extraction itself.\n",
    "\n",
    "\n"
   ]
  },
  {
   "cell_type": "code",
   "execution_count": 33,
   "metadata": {},
   "outputs": [],
   "source": [
    "lc_1d = lc_maker_1d.run(datasets)"
   ]
  },
  {
   "cell_type": "markdown",
   "metadata": {},
   "source": [
    "# Overlay LC from ED"
   ]
  },
  {
   "cell_type": "code",
   "execution_count": 34,
   "metadata": {},
   "outputs": [
    {
     "data": {
      "text/plain": [
       "<ErrorbarContainer object of 3 artists>"
      ]
     },
     "execution_count": 34,
     "metadata": {},
     "output_type": "execute_result"
    },
    {
     "data": {
      "image/png": "[encoded data removed]",
      "text/plain": [
       "<Figure size 576x432 with 1 Axes>"
      ]
     },
     "metadata": {
      "needs_background": "light"
     },
     "output_type": "display_data"
    }
   ],
   "source": [
    "x,y,xerr,yerr = np.genfromtxt('ed_lc.txt',delimiter=',',dtype=str,unpack=True)\n",
    "\n",
    "time = np.array(())\n",
    "flux = np.array(())\n",
    "time_err = np.array(())\n",
    "flux_err = np.array(())\n",
    "\n",
    "for i in range(len(x)):\n",
    "    time = np.append(time,float(x[i].split('=')[1]))\n",
    "    flux = np.append(flux,float(y[i].split('=')[1]))\n",
    "    time_err = np.append(time_err,float(xerr[i].split('=')[1]))\n",
    "    flux_err = np.append(flux_err,float(yerr[i].split('=')[1]))\n",
    "    \n",
    "mjd = np.linspace(55244.312,55244.530,62)\n",
    "plt.figure(figsize=(8, 6))\n",
    "plt.errorbar(mjd,flux,yerr=flux_err,xerr=time_err,ls='',marker='.')"
   ]
  },
  {
   "cell_type": "code",
   "execution_count": 35,
   "metadata": {},
   "outputs": [],
   "source": [
    "t = Time(mjd, format='mjd')\n",
    "\"\"\"for i in t:\n",
    "    print(i)\"\"\"\n",
    "iso_t = t.iso"
   ]
  },
  {
   "cell_type": "markdown",
   "metadata": {},
   "source": [
    "# Overlay LC from paper"
   ]
  },
  {
   "cell_type": "code",
   "execution_count": 17,
   "metadata": {},
   "outputs": [
    {
     "name": "stdout",
     "output_type": "stream",
     "text": [
      "55244.40931\n"
     ]
    },
    {
     "data": {
      "image/png": "[encoded data removed]",
      "text/plain": [
       "<Figure size 800x600 with 1 Axes>"
      ]
     },
     "metadata": {},
     "output_type": "display_data"
    }
   ],
   "source": [
    "from astropy.table import Table\n",
    "import numpy as np\n",
    "import matplotlib.pyplot as plt\n",
    "header=\"\"\"# %ECSV 1.0\n",
    "# ---\n",
    "# datatype:\n",
    "# - {name: time_min, datatype: float64}\n",
    "# - {name: time_max, datatype: float64}\n",
    "# - {name: e_ref, unit: TeV, datatype: string, subtype: 'float64[1]'}\n",
    "# - {name: e_min, unit: TeV, datatype: string, subtype: 'float64[1]'}\n",
    "# - {name: e_max, unit: TeV, datatype: string, subtype: 'float64[1]'}\n",
    "# - {name: flux, unit: 1 / (cm2 s), datatype: string, subtype: 'float64[1]'}\n",
    "# - {name: flux_err, unit: 1 / (cm2 s), datatype: string, subtype: 'float64[1]'}\n",
    "# - {name: ts, unit: '', datatype: string, subtype: 'float64[1]'}\n",
    "# - {name: sqrt_ts, unit: '', datatype: string, subtype: 'float64[1]'}\n",
    "# - {name: npred, unit: '', datatype: string, subtype: 'float64[1,44]'}\n",
    "# - {name: npred_excess, unit: '', datatype: string, subtype: 'float64[1,44]'}\n",
    "# - {name: stat, unit: '', datatype: string, subtype: 'float64[1]'}\n",
    "# - {name: is_ul, datatype: string, subtype: 'bool[1]'}\n",
    "# - {name: counts, unit: '', datatype: string, subtype: 'float64[1,44]'}\n",
    "# - {name: success, unit: '', datatype: string, subtype: 'bool[1]'}\n",
    "# schema: astropy-2.0\n",
    "time_min time_max e_ref e_min e_max flux flux_err ts sqrt_ts npred npred_excess stat is_ul counts success\"\"\"\n",
    "\n",
    "with open(\"temptest.ecsv\", \"w\") as myfile:\n",
    "    myfile.write(header)\n",
    "\n",
    "filename = \"VER-000049-lc-6.ecsv\"\n",
    "\n",
    "imp_tab=Table.read(\"VER-000049-lc-6.ecsv\")\n",
    "imp_tab[\"e_max\"]=imp_tab[\"e_cut\"]\n",
    "imp_tab[\"e_ref\"]=np.exp(np.log(imp_tab[\"e_min\"])+np.log(imp_tab[\"e_max\"])/2)\n",
    "\n",
    "imp_tab[\"time_min\"]=imp_tab[\"e_cut\"]\n",
    "imp_tab[\"time_max\"]=imp_tab[\"time\"]+(imp_tab[\"time_bin\"]/2.01)\n",
    "imp_tab[\"time_min\"]=imp_tab[\"time\"]-(imp_tab[\"time_bin\"]/2.01)\n",
    "\n",
    "print(imp_tab[\"time\"][-1])\n",
    "\n",
    "extend=\"[[NaN,NaN,NaN,NaN,NaN,NaN,NaN,NaN,NaN,NaN,NaN,NaN,NaN,NaN,NaN,NaN,NaN,NaN,NaN,NaN,NaN,NaN,NaN,NaN,NaN,NaN,NaN,NaN,NaN,NaN,NaN,NaN,NaN,NaN,NaN,NaN,NaN,NaN,NaN,NaN,NaN,NaN,NaN,NaN]] [[NaN,NaN,NaN,NaN,NaN,NaN,NaN,NaN,NaN,NaN,NaN,NaN,NaN,NaN,NaN,NaN,NaN,NaN,NaN,NaN,NaN,NaN,NaN,NaN,NaN,NaN,NaN,NaN,NaN,NaN,NaN,NaN,NaN,NaN,NaN,NaN,NaN,NaN,NaN,NaN,NaN,NaN,NaN,NaN]] [0.0] [false] [[NaN,NaN,NaN,NaN,NaN,NaN,NaN,NaN,NaN,NaN,NaN,NaN,NaN,NaN,NaN,NaN,NaN,NaN,NaN,NaN,NaN,NaN,NaN,NaN,NaN,NaN,NaN,NaN,NaN,NaN,NaN,NaN,NaN,NaN,NaN,NaN,NaN,NaN,NaN,NaN,NaN,NaN,NaN,NaN]] [true]\"\n",
    "#for i in range(len(imp_tab)):\n",
    "for i in range(len(imp_tab)):\n",
    "\n",
    "    with open(\"temptest.ecsv\", \"a\") as myfile:\n",
    "        myfile.write(f'\\n{imp_tab[i][\"time_min\"]} {imp_tab[i][\"time_max\"]} [{imp_tab[i][\"e_ref\"]}] [{imp_tab[i][\"e_min\"]}] [{imp_tab[i][\"e_max\"]}] [{imp_tab[i][\"flux\"]}] [{imp_tab[i][\"flux_err\"]}] [0] [0] {extend}')\n",
    "\n",
    "\n",
    "from gammapy.estimators import FluxPoints\n",
    "lc_test=FluxPoints.read('temptest.ecsv',reference_model=spectral_model,sed_type='flux',format='lightcurve')\n",
    "plt.figure(figsize=(8, 6))\n",
    "lc_test.plot(sed_type='flux',marker=\"o\")\n",
    "plt.show()"
   ]
  },
  {
   "cell_type": "code",
   "execution_count": 19,
   "metadata": {},
   "outputs": [
    {
     "name": "stdout",
     "output_type": "stream",
     "text": [
      "28\n"
     ]
    },
    {
     "data": {
      "image/png": "[encoded data removed]",
      "text/plain": [
       "<Figure size 800x600 with 1 Axes>"
      ]
     },
     "metadata": {},
     "output_type": "display_data"
    }
   ],
   "source": [
    "with open(\"temptest2.ecsv\", \"w\") as myfile:\n",
    "    myfile.write(header)\n",
    "\n",
    "filename = \"ED_output.ecsv\"\n",
    "\n",
    "imp_tab=Table.read(\"ED_output.ecsv\")\n",
    "imp_tab[\"e_max\"]=imp_tab[\"e_cut\"]\n",
    "imp_tab[\"e_ref\"]=np.exp(np.log(imp_tab[\"e_min\"])+np.log(imp_tab[\"e_max\"])/2)\n",
    "\n",
    "#imp_tab[\"time_min\"]=imp_tab[\"e_cut\"]\n",
    "imp_tab[\"time_max\"]=imp_tab[\"time\"]+(imp_tab[\"time_bin\"]/2.01)\n",
    "imp_tab[\"time_min\"]=imp_tab[\"time\"]-(imp_tab[\"time_bin\"]/2.01)\n",
    "\n",
    "extend=\"[[NaN,NaN,NaN,NaN,NaN,NaN,NaN,NaN,NaN,NaN,NaN,NaN,NaN,NaN,NaN,NaN,NaN,NaN,NaN,NaN,NaN,NaN,NaN,NaN,NaN,NaN,NaN,NaN,NaN,NaN,NaN,NaN,NaN,NaN,NaN,NaN,NaN,NaN,NaN,NaN,NaN,NaN,NaN,NaN]] [[NaN,NaN,NaN,NaN,NaN,NaN,NaN,NaN,NaN,NaN,NaN,NaN,NaN,NaN,NaN,NaN,NaN,NaN,NaN,NaN,NaN,NaN,NaN,NaN,NaN,NaN,NaN,NaN,NaN,NaN,NaN,NaN,NaN,NaN,NaN,NaN,NaN,NaN,NaN,NaN,NaN,NaN,NaN,NaN]] [0.0] [false] [[NaN,NaN,NaN,NaN,NaN,NaN,NaN,NaN,NaN,NaN,NaN,NaN,NaN,NaN,NaN,NaN,NaN,NaN,NaN,NaN,NaN,NaN,NaN,NaN,NaN,NaN,NaN,NaN,NaN,NaN,NaN,NaN,NaN,NaN,NaN,NaN,NaN,NaN,NaN,NaN,NaN,NaN,NaN,NaN]] [true]\"\n",
    "#for i in range(len(imp_tab)):\n",
    "\n",
    "ind = np.where(imp_tab[\"time\"]>55244.40931)[0][0]\n",
    "print(ind)\n",
    "for i in range(ind):\n",
    "\n",
    "    with open(\"temptest2.ecsv\", \"a\") as myfile:\n",
    "        myfile.write(f'\\n{imp_tab[i][\"time_min\"]} {imp_tab[i][\"time_max\"]} [{imp_tab[i][\"e_ref\"]}] [{imp_tab[i][\"e_min\"]}] [{imp_tab[i][\"e_max\"]}] [{imp_tab[i][\"flux\"]}] [{imp_tab[i][\"flux_err\"]}] [0] [0] {extend}')\n",
    "\n",
    "\n",
    "from gammapy.estimators import FluxPoints\n",
    "lc_test2=FluxPoints.read('temptest2.ecsv',reference_model=spectral_model,sed_type='flux',format='lightcurve')\n",
    "plt.figure(figsize=(8, 6))\n",
    "lc_test2.plot(sed_type='dnde',marker=\"o\")\n",
    "plt.show()"
   ]
  },
  {
   "cell_type": "markdown",
   "metadata": {},
   "source": [
    "Finally we plot the result for the 1D lightcurve:\n",
    "\n",
    "\n"
   ]
  },
  {
   "cell_type": "code",
   "execution_count": 38,
   "metadata": {
    "scrolled": false
   },
   "outputs": [
    {
     "data": {
      "image/png": "[encoded data removed]",
      "text/plain": [
       "<Figure size 576x432 with 1 Axes>"
      ]
     },
     "metadata": {
      "needs_background": "light"
     },
     "output_type": "display_data"
    }
   ],
   "source": [
    "plt.figure(figsize=(8, 6))\n",
    "lc_1d.plot(marker=\"o\",color='g',label='Gammapy')\n",
    "lc_test.plot(sed_type='dnde',marker=\"o\",color='darkgoldenrod',label='Abeysekara et al.')\n",
    "lc_test2.plot(sed_type='dnde',marker=\"o\",label='Eventdisplay')\n",
    "plt.ylabel('dnde 1/(cm2 s TeV) 110 GeV < E < 4 TeV')\n",
    "plt.show()"
   ]
  },
  {
   "cell_type": "markdown",
   "metadata": {},
   "source": [
    "# Extract light curve points + export to file"
   ]
  },
  {
   "cell_type": "code",
   "execution_count": 39,
   "metadata": {},
   "outputs": [
    {
     "data": {
      "text/html": [
       "<div><i>Table length=29</i>\n",
       "<table id=\"table140715128225408\" class=\"table-striped table-bordered table-condensed\">\n",
       "<thead><tr><th>time_min</th><th>time_max</th><th>e_ref</th><th>e_min</th><th>e_max</th><th>dnde</th><th>dnde_err</th><th>ts</th><th>sqrt_ts</th><th>npred</th><th>npred_excess</th><th>stat</th><th>is_ul</th><th>counts</th><th>success</th></tr></thead>\n",
       "<thead><tr><th></th><th></th><th>TeV</th><th>TeV</th><th>TeV</th><th>1 / (cm2 s TeV)</th><th>1 / (cm2 s TeV)</th><th></th><th></th><th></th><th></th><th></th><th></th><th></th><th></th></tr></thead>\n",
       "<thead><tr><th>float64</th><th>float64</th><th>float64[1]</th><th>float64[1]</th><th>float64[1]</th><th>float64[1]</th><th>float64[1]</th><th>float64[1]</th><th>float64[1]</th><th>float64[1,34]</th><th>float64[1,34]</th><th>float64[1]</th><th>bool[1]</th><th>float64[1,34]</th><th>bool[1]</th></tr></thead>\n",
       "<tr><td>55244.31284601852</td><td>55244.31631824074</td><td>0.66332495807108</td><td>0.11000000000000001</td><td>4.0</td><td>1.1144354735951685e-09</td><td>7.135473866496667e-11</td><td>1245.7273691397236</td><td>35.29486321180072</td><td>248.0621885881977 .. nan</td><td>246.00704956054688 .. nan</td><td>1.7492786471337425</td><td>False</td><td>248.0 .. nan</td><td>True</td></tr>\n",
       "<tr><td>55244.31631824074</td><td>55244.319790462956</td><td>0.66332495807108</td><td>0.11000000000000001</td><td>4.0</td><td>1.0281009403273903e-09</td><td>6.857088214048522e-11</td><td>1130.8871086113875</td><td>33.6286649840785</td><td>nan .. nan</td><td>nan .. nan</td><td>11.702808984503678</td><td>False</td><td>nan .. nan</td><td>True</td></tr>\n",
       "<tr><td>55244.319790462956</td><td>55244.32326268518</td><td>0.66332495807108</td><td>0.11000000000000001</td><td>4.0</td><td>1.187447099268626e-09</td><td>7.375940877800058e-11</td><td>1281.255594180663</td><td>35.79463080101068</td><td>nan .. nan</td><td>nan .. nan</td><td>7.119829807798176</td><td>False</td><td>nan .. nan</td><td>True</td></tr>\n",
       "<tr><td>55244.32326268518</td><td>55244.3267349074</td><td>0.66332495807108</td><td>0.11000000000000001</td><td>4.0</td><td>1.0769091846274004e-09</td><td>7.25865673861122e-11</td><td>1114.1809328785666</td><td>33.37934889836179</td><td>nan .. nan</td><td>nan .. nan</td><td>23.299780891097853</td><td>False</td><td>nan .. nan</td><td>True</td></tr>\n",
       "<tr><td>55244.3267349074</td><td>55244.33020712963</td><td>0.66332495807108</td><td>0.11000000000000001</td><td>4.0</td><td>8.951028968444256e-10</td><td>5.821137469176222e-11</td><td>1132.4641232977688</td><td>33.652104292269286</td><td>nan .. nan</td><td>nan .. nan</td><td>4.293361519538294</td><td>False</td><td>nan .. nan</td><td>True</td></tr>\n",
       "<tr><td>55244.33020712963</td><td>55244.33367935185</td><td>0.66332495807108</td><td>0.11000000000000001</td><td>4.0</td><td>9.035912851111392e-10</td><td>5.857776902744893e-11</td><td>1106.899953646201</td><td>33.27010600593574</td><td>nan .. nan</td><td>nan .. nan</td><td>8.596704316578554</td><td>False</td><td>nan .. nan</td><td>True</td></tr>\n",
       "<tr><td>55244.33367935185</td><td>55244.33715157407</td><td>0.66332495807108</td><td>0.11000000000000001</td><td>4.0</td><td>9.488883629866853e-10</td><td>6.011564769993067e-11</td><td>1147.0655316109903</td><td>33.868355903571555</td><td>nan .. nan</td><td>nan .. nan</td><td>4.162999979329783</td><td>False</td><td>nan .. nan</td><td>True</td></tr>\n",
       "<tr><td>55244.33715157407</td><td>55244.34062379629</td><td>0.66332495807108</td><td>0.11000000000000001</td><td>4.0</td><td>1.0389919458335315e-09</td><td>6.742844604392691e-11</td><td>1136.3620454956315</td><td>33.70996952676806</td><td>nan .. nan</td><td>nan .. nan</td><td>12.971195778097657</td><td>False</td><td>nan .. nan</td><td>True</td></tr>\n",
       "<tr><td>55244.34062379629</td><td>55244.34409601852</td><td>0.66332495807108</td><td>0.11000000000000001</td><td>4.0</td><td>1.268093839367209e-09</td><td>6.94830479068306e-11</td><td>1676.994145897011</td><td>40.95111898223309</td><td>nan .. nan</td><td>nan .. nan</td><td>6.4149978356117145</td><td>False</td><td>nan .. nan</td><td>True</td></tr>\n",
       "<tr><td>55244.34409601852</td><td>55244.34756824074</td><td>0.66332495807108</td><td>0.11000000000000001</td><td>4.0</td><td>1.2058369299772168e-09</td><td>6.768971018290043e-11</td><td>1623.005954741531</td><td>40.286548061872104</td><td>nan .. nan</td><td>nan .. nan</td><td>11.038603734190707</td><td>False</td><td>nan .. nan</td><td>True</td></tr>\n",
       "<tr><td>55244.34756824074</td><td>55244.351040462956</td><td>0.66332495807108</td><td>0.11000000000000001</td><td>4.0</td><td>1.1475241894741229e-09</td><td>6.610494437174606e-11</td><td>1496.5204627686423</td><td>38.684886748814996</td><td>nan .. nan</td><td>nan .. nan</td><td>23.640189868754945</td><td>False</td><td>nan .. nan</td><td>True</td></tr>\n",
       "<tr><td>55244.351040462956</td><td>55244.35451268518</td><td>0.66332495807108</td><td>0.11000000000000001</td><td>4.0</td><td>9.987552233020494e-10</td><td>6.537850348864754e-11</td><td>1165.7692235740915</td><td>34.14336280412478</td><td>nan .. nan</td><td>nan .. nan</td><td>23.29858853892921</td><td>False</td><td>nan .. nan</td><td>True</td></tr>\n",
       "<tr><td>...</td><td>...</td><td>...</td><td>...</td><td>...</td><td>...</td><td>...</td><td>...</td><td>...</td><td>...</td><td>...</td><td>...</td><td>...</td><td>...</td><td>...</td></tr>\n",
       "<tr><td>55244.36840157407</td><td>55244.37187379629</td><td>0.66332495807108</td><td>0.11000000000000001</td><td>4.0</td><td>7.386395557580053e-10</td><td>5.7560549027632246e-11</td><td>784.5301955884886</td><td>28.009466178213547</td><td>nan .. nan</td><td>nan .. nan</td><td>7.065052877515592</td><td>False</td><td>nan .. nan</td><td>True</td></tr>\n",
       "<tr><td>55244.37187379629</td><td>55244.37534601852</td><td>0.66332495807108</td><td>0.11000000000000001</td><td>4.0</td><td>6.868420441155164e-10</td><td>5.090915442368024e-11</td><td>880.6517476088538</td><td>29.675777118870094</td><td>nan .. nan</td><td>nan .. nan</td><td>10.354183251147585</td><td>False</td><td>nan .. nan</td><td>True</td></tr>\n",
       "<tr><td>55244.37534601852</td><td>55244.37881824074</td><td>0.66332495807108</td><td>0.11000000000000001</td><td>4.0</td><td>7.727345646847682e-10</td><td>5.3944310204102205e-11</td><td>986.3717052512637</td><td>31.406555131871176</td><td>nan .. nan</td><td>nan .. nan</td><td>13.865460768096424</td><td>False</td><td>nan .. nan</td><td>True</td></tr>\n",
       "<tr><td>55244.37881824074</td><td>55244.382290462956</td><td>0.66332495807108</td><td>0.11000000000000001</td><td>4.0</td><td>7.774561007828798e-10</td><td>5.4204733376772817e-11</td><td>983.3358845375722</td><td>31.35818688217755</td><td>nan .. nan</td><td>nan .. nan</td><td>6.63021866641124</td><td>False</td><td>nan .. nan</td><td>True</td></tr>\n",
       "<tr><td>55244.382290462956</td><td>55244.38576268518</td><td>0.66332495807108</td><td>0.11000000000000001</td><td>4.0</td><td>8.488498815900215e-10</td><td>5.656268639943578e-11</td><td>1078.3128121440254</td><td>32.837673671318825</td><td>nan .. nan</td><td>nan .. nan</td><td>17.332833432800673</td><td>False</td><td>nan .. nan</td><td>True</td></tr>\n",
       "<tr><td>55244.38576268518</td><td>55244.3892349074</td><td>0.66332495807108</td><td>0.11000000000000001</td><td>4.0</td><td>7.239347032813247e-10</td><td>5.2254158993290134e-11</td><td>903.9022270628291</td><td>30.06496677302054</td><td>nan .. nan</td><td>nan .. nan</td><td>15.96678769703794</td><td>False</td><td>nan .. nan</td><td>True</td></tr>\n",
       "<tr><td>55244.3892349074</td><td>55244.39270712963</td><td>0.66332495807108</td><td>0.11000000000000001</td><td>4.0</td><td>6.652311437492958e-10</td><td>5.404538270239633e-11</td><td>699.859377583253</td><td>26.454855463284108</td><td>nan .. nan</td><td>nan .. nan</td><td>19.45353696173149</td><td>False</td><td>nan .. nan</td><td>True</td></tr>\n",
       "<tr><td>55244.39270712963</td><td>55244.39617935185</td><td>0.66332495807108</td><td>0.11000000000000001</td><td>4.0</td><td>7.480449184342987e-10</td><td>5.260678012985699e-11</td><td>961.6426515064144</td><td>31.0103636145469</td><td>nan .. nan</td><td>nan .. nan</td><td>6.569394352495973</td><td>False</td><td>nan .. nan</td><td>True</td></tr>\n",
       "<tr><td>55244.39617935185</td><td>55244.39965157407</td><td>0.66332495807108</td><td>0.11000000000000001</td><td>4.0</td><td>8.763605874305926e-10</td><td>5.685892375296826e-11</td><td>1151.0599426580275</td><td>33.92727431813566</td><td>nan .. nan</td><td>nan .. nan</td><td>9.162229488897927</td><td>False</td><td>nan .. nan</td><td>True</td></tr>\n",
       "<tr><td>55244.39965157407</td><td>55244.40312379629</td><td>0.66332495807108</td><td>0.11000000000000001</td><td>4.0</td><td>7.836894624072946e-10</td><td>5.3864713468239566e-11</td><td>993.6138489590849</td><td>31.521640962346563</td><td>nan .. nan</td><td>nan .. nan</td><td>6.7494863773152804</td><td>False</td><td>nan .. nan</td><td>True</td></tr>\n",
       "<tr><td>55244.40312379629</td><td>55244.40659601852</td><td>0.66332495807108</td><td>0.11000000000000001</td><td>4.0</td><td>8.179651415252926e-10</td><td>5.4957359911445363e-11</td><td>1057.3246041109842</td><td>32.51652816816371</td><td>nan .. nan</td><td>nan .. nan</td><td>8.05544547998584</td><td>False</td><td>nan .. nan</td><td>True</td></tr>\n",
       "<tr><td>55244.40659601852</td><td>55244.41006824074</td><td>0.66332495807108</td><td>0.11000000000000001</td><td>4.0</td><td>6.405792116754847e-10</td><td>4.86697146292598e-11</td><td>822.7885152911788</td><td>28.684290391975512</td><td>nan .. nan</td><td>nan .. nan</td><td>9.090193150016818</td><td>False</td><td>nan .. nan</td><td>True</td></tr>\n",
       "<tr><td>55244.41006824074</td><td>55244.413540462956</td><td>0.66332495807108</td><td>0.11000000000000001</td><td>4.0</td><td>6.198601738885945e-10</td><td>5.606136138247301e-11</td><td>577.1918854519074</td><td>24.024818114855883</td><td>nan .. 67.86816382096427</td><td>nan .. 66.93136596679688</td><td>16.177833677032886</td><td>False</td><td>nan .. 66.0</td><td>True</td></tr>\n",
       "</table></div>"
      ],
      "text/plain": [
       "<Table length=29>\n",
       "     time_min           time_max           e_ref              e_min        ...        stat         is_ul      counts    success\n",
       "                                            TeV                TeV         ...                                                 \n",
       "     float64            float64          float64[1]         float64[1]     ...     float64[1]     bool[1] float64[1,34] bool[1]\n",
       "------------------ ------------------ ---------------- ------------------- ... ------------------ ------- ------------- -------\n",
       " 55244.31284601852  55244.31631824074 0.66332495807108 0.11000000000000001 ... 1.7492786471337425   False  248.0 .. nan    True\n",
       " 55244.31631824074 55244.319790462956 0.66332495807108 0.11000000000000001 ... 11.702808984503678   False    nan .. nan    True\n",
       "55244.319790462956  55244.32326268518 0.66332495807108 0.11000000000000001 ...  7.119829807798176   False    nan .. nan    True\n",
       " 55244.32326268518   55244.3267349074 0.66332495807108 0.11000000000000001 ... 23.299780891097853   False    nan .. nan    True\n",
       "  55244.3267349074  55244.33020712963 0.66332495807108 0.11000000000000001 ...  4.293361519538294   False    nan .. nan    True\n",
       " 55244.33020712963  55244.33367935185 0.66332495807108 0.11000000000000001 ...  8.596704316578554   False    nan .. nan    True\n",
       " 55244.33367935185  55244.33715157407 0.66332495807108 0.11000000000000001 ...  4.162999979329783   False    nan .. nan    True\n",
       " 55244.33715157407  55244.34062379629 0.66332495807108 0.11000000000000001 ... 12.971195778097657   False    nan .. nan    True\n",
       " 55244.34062379629  55244.34409601852 0.66332495807108 0.11000000000000001 ... 6.4149978356117145   False    nan .. nan    True\n",
       " 55244.34409601852  55244.34756824074 0.66332495807108 0.11000000000000001 ... 11.038603734190707   False    nan .. nan    True\n",
       " 55244.34756824074 55244.351040462956 0.66332495807108 0.11000000000000001 ... 23.640189868754945   False    nan .. nan    True\n",
       "55244.351040462956  55244.35451268518 0.66332495807108 0.11000000000000001 ...  23.29858853892921   False    nan .. nan    True\n",
       "               ...                ...              ...                 ... ...                ...     ...           ...     ...\n",
       " 55244.36840157407  55244.37187379629 0.66332495807108 0.11000000000000001 ...  7.065052877515592   False    nan .. nan    True\n",
       " 55244.37187379629  55244.37534601852 0.66332495807108 0.11000000000000001 ... 10.354183251147585   False    nan .. nan    True\n",
       " 55244.37534601852  55244.37881824074 0.66332495807108 0.11000000000000001 ... 13.865460768096424   False    nan .. nan    True\n",
       " 55244.37881824074 55244.382290462956 0.66332495807108 0.11000000000000001 ...   6.63021866641124   False    nan .. nan    True\n",
       "55244.382290462956  55244.38576268518 0.66332495807108 0.11000000000000001 ... 17.332833432800673   False    nan .. nan    True\n",
       " 55244.38576268518   55244.3892349074 0.66332495807108 0.11000000000000001 ...  15.96678769703794   False    nan .. nan    True\n",
       "  55244.3892349074  55244.39270712963 0.66332495807108 0.11000000000000001 ...  19.45353696173149   False    nan .. nan    True\n",
       " 55244.39270712963  55244.39617935185 0.66332495807108 0.11000000000000001 ...  6.569394352495973   False    nan .. nan    True\n",
       " 55244.39617935185  55244.39965157407 0.66332495807108 0.11000000000000001 ...  9.162229488897927   False    nan .. nan    True\n",
       " 55244.39965157407  55244.40312379629 0.66332495807108 0.11000000000000001 ... 6.7494863773152804   False    nan .. nan    True\n",
       " 55244.40312379629  55244.40659601852 0.66332495807108 0.11000000000000001 ...   8.05544547998584   False    nan .. nan    True\n",
       " 55244.40659601852  55244.41006824074 0.66332495807108 0.11000000000000001 ...  9.090193150016818   False    nan .. nan    True\n",
       " 55244.41006824074 55244.413540462956 0.66332495807108 0.11000000000000001 ... 16.177833677032886   False   nan .. 66.0    True"
      ]
     },
     "metadata": {},
     "output_type": "display_data"
    }
   ],
   "source": [
    "out = lc_1d.to_table(sed_type='dnde',format='lightcurve')\n",
    "display(out)\n",
    "out.write('421_2010_values.ecsv', overwrite=True)  "
   ]
  },
  {
   "cell_type": "markdown",
   "metadata": {},
   "source": [
    "# Fit to flux points"
   ]
  },
  {
   "cell_type": "markdown",
   "metadata": {},
   "source": [
    "## Custom exponential function to match paper\n",
    "\n",
    "$F(t) = A \\times exp[\\frac{|t − t_{peak}|}{t_{rise,decay}}]$"
   ]
  },
  {
   "cell_type": "code",
   "execution_count": 26,
   "metadata": {},
   "outputs": [],
   "source": [
    "from gammapy.data import Observation, observatory_locations\n",
    "from gammapy.datasets import Datasets, FluxPointsDataset, SpectrumDataset\n",
    "from gammapy.estimators import LightCurveEstimator\n",
    "from gammapy.irf import load_cta_irfs\n",
    "from gammapy.makers import SpectrumDatasetMaker\n",
    "from gammapy.maps import MapAxis, RegionGeom, TimeMapAxis\n",
    "from gammapy.modeling import Fit\n",
    "from gammapy.modeling.models import (\n",
    "    ExpDecayTemporalModel,\n",
    "    PowerLawSpectralModel,\n",
    "    SkyModel,\n",
    ")"
   ]
  },
  {
   "cell_type": "code",
   "execution_count": 32,
   "metadata": {},
   "outputs": [],
   "source": [
    "from gammapy.modeling import Parameter\n",
    "from gammapy.modeling.models import TemporalModel\n",
    "\n",
    "\n",
    "class CustomExponential(TemporalModel):\n",
    "    \"\"\"Custom exponential function to match https://arxiv.org/pdf/2002.03567\n",
    "\n",
    "    Parameters\n",
    "    ----------\n",
    "    amplitude : `astropy.units.Quantity`\n",
    "        Amplitude of the spectra model.\n",
    "    tdecay : `astropy.units.Quantity`\n",
    "        Halving time or Doubling rime. Negative value indicates halving time.\n",
    "    tpeak : `astropy.units.Quantity`\n",
    "        Time at peak energy.\n",
    "\n",
    "    \"\"\"\n",
    "\n",
    "    tag = \"CustomExponential\"\n",
    "    amplitude = Parameter(\"amplitude\", \"5.5e-9 cm-2 s-1 TeV-1\", min=0, is_norm=True)\n",
    "    tdecay = Parameter(\"tdecay\", -28*u.min)\n",
    "    tpeak = Parameter(\"tpeak\", 18*u.min)\n",
    "\n",
    "    @staticmethod\n",
    "    def evaluate(time,amplitude,tdecay,tpeak):\n",
    "        return amplitude * np.exp(np.abs(time-tpeak)/tdecay)"
   ]
  },
  {
   "cell_type": "code",
   "execution_count": 33,
   "metadata": {},
   "outputs": [],
   "source": [
    "from gammapy.modeling import Fit\n",
    "\n",
    "# Create the datasets by iterating over the returned lightcurve\n",
    "datasets = Datasets()\n",
    "\n",
    "for idx, fp in enumerate(lc_1d.iter_by_axis(axis_name=\"time\")):\n",
    "    dataset = FluxPointsDataset(data=fp, name=f\"time-bin-{idx}\")\n",
    "    datasets.append(dataset)"
   ]
  },
  {
   "cell_type": "code",
   "execution_count": 34,
   "metadata": {},
   "outputs": [
    {
     "ename": "AttributeError",
     "evalue": "'CustomExponential' object has no attribute 'integral'",
     "output_type": "error",
     "traceback": [
      "\u001b[0;31m---------------------------------------------------------------------------\u001b[0m",
      "\u001b[0;31mAttributeError\u001b[0m                            Traceback (most recent call last)",
      "Input \u001b[0;32mIn [34]\u001b[0m, in \u001b[0;36m<cell line: 7>\u001b[0;34m()\u001b[0m\n\u001b[1;32m      2\u001b[0m spectral_model1 \u001b[38;5;241m=\u001b[39m PowerLawSpectralModel(\n\u001b[1;32m      3\u001b[0m     index\u001b[38;5;241m=\u001b[39m\u001b[38;5;241m-\u001b[39m\u001b[38;5;241m2.0\u001b[39m, amplitude\u001b[38;5;241m=\u001b[39m\u001b[38;5;124m\"\u001b[39m\u001b[38;5;124m5e-9 cm-2 s-1 TeV-1\u001b[39m\u001b[38;5;124m\"\u001b[39m, reference\u001b[38;5;241m=\u001b[39m\u001b[38;5;124m\"\u001b[39m\u001b[38;5;124m1 TeV\u001b[39m\u001b[38;5;124m\"\u001b[39m\n\u001b[1;32m      4\u001b[0m )\n\u001b[1;32m      5\u001b[0m temporal_model1 \u001b[38;5;241m=\u001b[39m CustomExponential(amplitude\u001b[38;5;241m=\u001b[39m\u001b[38;5;124m\"\u001b[39m\u001b[38;5;124m5.5e-9 cm-2 s-1 TeV-1\u001b[39m\u001b[38;5;124m\"\u001b[39m,tdecay\u001b[38;5;241m=\u001b[39m\u001b[38;5;241m-\u001b[39m\u001b[38;5;241m28\u001b[39m\u001b[38;5;241m*\u001b[39mu\u001b[38;5;241m.\u001b[39mmin,tpeak\u001b[38;5;241m=\u001b[39m\u001b[38;5;241m18\u001b[39m\u001b[38;5;241m*\u001b[39mu\u001b[38;5;241m.\u001b[39mmin)\n\u001b[0;32m----> 7\u001b[0m model \u001b[38;5;241m=\u001b[39m \u001b[43mSkyModel\u001b[49m\u001b[43m(\u001b[49m\n\u001b[1;32m      8\u001b[0m \u001b[43m    \u001b[49m\u001b[43mspectral_model\u001b[49m\u001b[38;5;241;43m=\u001b[39;49m\u001b[43mspectral_model1\u001b[49m\u001b[43m,\u001b[49m\n\u001b[1;32m      9\u001b[0m \u001b[43m    \u001b[49m\u001b[43mtemporal_model\u001b[49m\u001b[38;5;241;43m=\u001b[39;49m\u001b[43mtemporal_model1\u001b[49m\u001b[43m,\u001b[49m\n\u001b[1;32m     10\u001b[0m \u001b[43m    \u001b[49m\u001b[43mname\u001b[49m\u001b[38;5;241;43m=\u001b[39;49m\u001b[38;5;124;43m\"\u001b[39;49m\u001b[38;5;124;43mmodel-test\u001b[39;49m\u001b[38;5;124;43m\"\u001b[39;49m\u001b[43m,\u001b[49m\n\u001b[1;32m     11\u001b[0m \u001b[43m)\u001b[49m\n\u001b[1;32m     13\u001b[0m datasets\u001b[38;5;241m.\u001b[39mmodels \u001b[38;5;241m=\u001b[39m model\n",
      "File \u001b[0;32m~/.local/lib/python3.9/site-packages/gammapy/modeling/models/cube.py:71\u001b[0m, in \u001b[0;36mSkyModel.__init__\u001b[0;34m(self, spectral_model, spatial_model, temporal_model, name, apply_irf, datasets_names)\u001b[0m\n\u001b[1;32m     69\u001b[0m \u001b[38;5;28mself\u001b[39m\u001b[38;5;241m.\u001b[39mapply_irf \u001b[38;5;241m=\u001b[39m apply_irf\n\u001b[1;32m     70\u001b[0m \u001b[38;5;28mself\u001b[39m\u001b[38;5;241m.\u001b[39mdatasets_names \u001b[38;5;241m=\u001b[39m datasets_names\n\u001b[0;32m---> 71\u001b[0m \u001b[38;5;28;43mself\u001b[39;49m\u001b[38;5;241;43m.\u001b[39;49m\u001b[43m_check_unit\u001b[49m\u001b[43m(\u001b[49m\u001b[43m)\u001b[49m\n\u001b[1;32m     73\u001b[0m is_norm \u001b[38;5;241m=\u001b[39m np\u001b[38;5;241m.\u001b[39marray([par\u001b[38;5;241m.\u001b[39mis_norm \u001b[38;5;28;01mfor\u001b[39;00m par \u001b[38;5;129;01min\u001b[39;00m spectral_model\u001b[38;5;241m.\u001b[39mparameters])\n\u001b[1;32m     75\u001b[0m \u001b[38;5;28;01mif\u001b[39;00m \u001b[38;5;129;01mnot\u001b[39;00m np\u001b[38;5;241m.\u001b[39many(is_norm):\n",
      "File \u001b[0;32m~/.local/lib/python3.9/site-packages/gammapy/modeling/models/cube.py:114\u001b[0m, in \u001b[0;36mSkyModel._check_unit\u001b[0;34m(self)\u001b[0m\n\u001b[1;32m    111\u001b[0m geom \u001b[38;5;241m=\u001b[39m WcsGeom\u001b[38;5;241m.\u001b[39mcreate(skydir\u001b[38;5;241m=\u001b[39m\u001b[38;5;28mself\u001b[39m\u001b[38;5;241m.\u001b[39mposition, npix\u001b[38;5;241m=\u001b[39m(\u001b[38;5;241m2\u001b[39m, \u001b[38;5;241m2\u001b[39m), axes\u001b[38;5;241m=\u001b[39m[axis])\n\u001b[1;32m    113\u001b[0m gti \u001b[38;5;241m=\u001b[39m GTI\u001b[38;5;241m.\u001b[39mcreate(\u001b[38;5;241m1\u001b[39m \u001b[38;5;241m*\u001b[39m u\u001b[38;5;241m.\u001b[39mday, \u001b[38;5;241m2\u001b[39m \u001b[38;5;241m*\u001b[39m u\u001b[38;5;241m.\u001b[39mday)\n\u001b[0;32m--> 114\u001b[0m value \u001b[38;5;241m=\u001b[39m \u001b[38;5;28;43mself\u001b[39;49m\u001b[38;5;241;43m.\u001b[39;49m\u001b[43mevaluate_geom\u001b[49m\u001b[43m(\u001b[49m\u001b[43mgeom\u001b[49m\u001b[43m,\u001b[49m\u001b[43m \u001b[49m\u001b[43mgti\u001b[49m\u001b[43m)\u001b[49m\n\u001b[1;32m    116\u001b[0m \u001b[38;5;28;01mif\u001b[39;00m \u001b[38;5;28mself\u001b[39m\u001b[38;5;241m.\u001b[39mapply_irf[\u001b[38;5;124m\"\u001b[39m\u001b[38;5;124mexposure\u001b[39m\u001b[38;5;124m\"\u001b[39m]:\n\u001b[1;32m    117\u001b[0m     ref_unit \u001b[38;5;241m=\u001b[39m u\u001b[38;5;241m.\u001b[39mUnit(\u001b[38;5;124m\"\u001b[39m\u001b[38;5;124mcm-2 s-1 MeV-1 sr-1\u001b[39m\u001b[38;5;124m\"\u001b[39m)\n",
      "File \u001b[0;32m~/.local/lib/python3.9/site-packages/gammapy/modeling/models/cube.py:343\u001b[0m, in \u001b[0;36mSkyModel.evaluate_geom\u001b[0;34m(self, geom, gti)\u001b[0m\n\u001b[1;32m    340\u001b[0m     value \u001b[38;5;241m=\u001b[39m value \u001b[38;5;241m*\u001b[39m \u001b[38;5;28mself\u001b[39m\u001b[38;5;241m.\u001b[39mspatial_model\u001b[38;5;241m.\u001b[39mevaluate_geom(geom)\n\u001b[1;32m    342\u001b[0m \u001b[38;5;28;01mif\u001b[39;00m \u001b[38;5;28mself\u001b[39m\u001b[38;5;241m.\u001b[39mtemporal_model:\n\u001b[0;32m--> 343\u001b[0m     integral \u001b[38;5;241m=\u001b[39m \u001b[38;5;28;43mself\u001b[39;49m\u001b[38;5;241;43m.\u001b[39;49m\u001b[43mtemporal_model\u001b[49m\u001b[38;5;241;43m.\u001b[39;49m\u001b[43mintegral\u001b[49m(gti\u001b[38;5;241m.\u001b[39mtime_start, gti\u001b[38;5;241m.\u001b[39mtime_stop)\n\u001b[1;32m    344\u001b[0m     value \u001b[38;5;241m=\u001b[39m value \u001b[38;5;241m*\u001b[39m np\u001b[38;5;241m.\u001b[39msum(integral)\n\u001b[1;32m    346\u001b[0m \u001b[38;5;28;01mreturn\u001b[39;00m value\n",
      "File \u001b[0;32m~/.local/lib/python3.9/site-packages/gammapy/modeling/models/core.py:78\u001b[0m, in \u001b[0;36mModelBase.__getattribute__\u001b[0;34m(self, name)\u001b[0m\n\u001b[1;32m     77\u001b[0m \u001b[38;5;28;01mdef\u001b[39;00m \u001b[38;5;21m__getattribute__\u001b[39m(\u001b[38;5;28mself\u001b[39m, name):\n\u001b[0;32m---> 78\u001b[0m     value \u001b[38;5;241m=\u001b[39m \u001b[38;5;28;43mobject\u001b[39;49m\u001b[38;5;241;43m.\u001b[39;49m\u001b[38;5;21;43m__getattribute__\u001b[39;49m\u001b[43m(\u001b[49m\u001b[38;5;28;43mself\u001b[39;49m\u001b[43m,\u001b[49m\u001b[43m \u001b[49m\u001b[43mname\u001b[49m\u001b[43m)\u001b[49m\n\u001b[1;32m     80\u001b[0m     \u001b[38;5;28;01mif\u001b[39;00m \u001b[38;5;28misinstance\u001b[39m(value, Parameter):\n\u001b[1;32m     81\u001b[0m         \u001b[38;5;28;01mreturn\u001b[39;00m value\u001b[38;5;241m.\u001b[39m\u001b[38;5;21m__get__\u001b[39m(\u001b[38;5;28mself\u001b[39m, \u001b[38;5;28;01mNone\u001b[39;00m)\n",
      "\u001b[0;31mAttributeError\u001b[0m: 'CustomExponential' object has no attribute 'integral'"
     ]
    }
   ],
   "source": [
    "# Define the model:\n",
    "spectral_model1 = PowerLawSpectralModel(\n",
    "    index=-2.0, amplitude=\"5e-9 cm-2 s-1 TeV-1\", reference=\"1 TeV\"\n",
    ")\n",
    "temporal_model1 = CustomExponential(amplitude=\"5.5e-9 cm-2 s-1 TeV-1\",tdecay=-28*u.min,tpeak=18*u.min)\n",
    "\n",
    "model = SkyModel(\n",
    "    spectral_model=spectral_model1,\n",
    "    temporal_model=temporal_model1,\n",
    "    name=\"model-test\",\n",
    ")\n",
    "\n",
    "datasets.models = model"
   ]
  },
  {
   "cell_type": "code",
   "execution_count": 108,
   "metadata": {},
   "outputs": [
    {
     "name": "stderr",
     "output_type": "stream",
     "text": [
      "/homes/wang/swong/.local/lib/python3.9/site-packages/astropy/units/quantity.py:673: RuntimeWarning: overflow encountered in power\n",
      "  result = super().__array_ufunc__(function, method, *arrays, **kwargs)\n",
      "/homes/wang/swong/.local/lib/python3.9/site-packages/astropy/units/quantity.py:673: RuntimeWarning: invalid value encountered in multiply\n",
      "  result = super().__array_ufunc__(function, method, *arrays, **kwargs)\n"
     ]
    },
    {
     "data": {
      "text/html": [
       "<div><i>Table length=5</i>\n",
       "<table id=\"table140306669407632\" class=\"table-striped table-bordered table-condensed\">\n",
       "<thead><tr><th>type</th><th>name</th><th>value</th><th>unit</th><th>error</th><th>min</th><th>max</th><th>frozen</th><th>is_norm</th><th>link</th></tr></thead>\n",
       "<thead><tr><th>str8</th><th>str9</th><th>float64</th><th>str14</th><th>float64</th><th>float64</th><th>float64</th><th>bool</th><th>bool</th><th>str1</th></tr></thead>\n",
       "<tr><td>spectral</td><td>index</td><td>-2.0000e+00</td><td></td><td>1.000e+00</td><td>nan</td><td>nan</td><td>False</td><td>False</td><td></td></tr>\n",
       "<tr><td>spectral</td><td>amplitude</td><td>5.0000e-09</td><td>cm-2 s-1 TeV-1</td><td>1.000e+00</td><td>nan</td><td>nan</td><td>False</td><td>True</td><td></td></tr>\n",
       "<tr><td>spectral</td><td>reference</td><td>1.0000e+00</td><td>TeV</td><td>0.000e+00</td><td>nan</td><td>nan</td><td>True</td><td>False</td><td></td></tr>\n",
       "<tr><td>temporal</td><td>t0</td><td>8.4000e+01</td><td>min</td><td>1.000e+00</td><td>nan</td><td>nan</td><td>False</td><td>False</td><td></td></tr>\n",
       "<tr><td>temporal</td><td>t_ref</td><td>5.1544e+04</td><td>d</td><td>0.000e+00</td><td>nan</td><td>nan</td><td>True</td><td>False</td><td></td></tr>\n",
       "</table></div>"
      ],
      "text/plain": [
       "<Table length=5>\n",
       "  type      name      value         unit        error     min     max   frozen is_norm link\n",
       "  str8      str9     float64       str14       float64  float64 float64  bool    bool  str1\n",
       "-------- --------- ----------- -------------- --------- ------- ------- ------ ------- ----\n",
       "spectral     index -2.0000e+00                1.000e+00     nan     nan  False   False     \n",
       "spectral amplitude  5.0000e-09 cm-2 s-1 TeV-1 1.000e+00     nan     nan  False    True     \n",
       "spectral reference  1.0000e+00            TeV 0.000e+00     nan     nan   True   False     \n",
       "temporal        t0  8.4000e+01            min 1.000e+00     nan     nan  False   False     \n",
       "temporal     t_ref  5.1544e+04              d 0.000e+00     nan     nan   True   False     "
      ]
     },
     "metadata": {},
     "output_type": "display_data"
    }
   ],
   "source": [
    "fit = Fit()\n",
    "result = fit.run(datasets=datasets)\n",
    "display(result.parameters.to_table())\n",
    "\n",
    "plt.show()"
   ]
  },
  {
   "cell_type": "code",
   "execution_count": 109,
   "metadata": {},
   "outputs": [
    {
     "data": {
      "text/plain": [
       "<matplotlib.legend.Legend at 0x7f9bb0eda2e0>"
      ]
     },
     "execution_count": 109,
     "metadata": {},
     "output_type": "execute_result"
    },
    {
     "data": {
      "image/png": "[encoded data removed]",
      "text/plain": [
       "<Figure size 576x432 with 1 Axes>"
      ]
     },
     "metadata": {
      "needs_background": "light"
     },
     "output_type": "display_data"
    }
   ],
   "source": [
    "fig, ax = plt.subplots(\n",
    "    figsize=(8, 6),\n",
    "    gridspec_kw={\"left\": 0.16, \"bottom\": 0.2, \"top\": 0.98, \"right\": 0.98},\n",
    ")\n",
    "lc_1d.plot(ax=ax, sed_type=\"norm\", axis_name=\"time\")\n",
    "\n",
    "\n",
    "time_range = lc_1d.geom.axes[\"time\"].time_bounds\n",
    "temporal_model1.plot(ax=ax, time_range=time_range, label=\"Best fit model\")\n",
    "\n",
    "ax.set_yscale(\"linear\")\n",
    "ax.legend()"
   ]
  },
  {
   "cell_type": "code",
   "execution_count": null,
   "metadata": {},
   "outputs": [],
   "source": []
  }
 ],
 "metadata": {
  "kernelspec": {
   "display_name": "Python 3 (ipykernel)",
   "language": "python",
   "name": "python3"
  },
  "language_info": {
   "codemirror_mode": {
    "name": "ipython",
    "version": 3
   },
   "file_extension": ".py",
   "mimetype": "text/x-python",
   "name": "python",
   "nbconvert_exporter": "python",
   "pygments_lexer": "ipython3",
   "version": "3.9.2"
  }
 },
 "nbformat": 4,
 "nbformat_minor": 1
}
