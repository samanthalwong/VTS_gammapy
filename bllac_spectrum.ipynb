{
 "cells": [
  {
   "cell_type": "code",
   "execution_count": 1,
   "metadata": {},
   "outputs": [],
   "source": [
    "from pathlib import Path\n",
    "\n",
    "# Check package versions\n",
    "import numpy as np\n",
    "import astropy.units as u\n",
    "from astropy.coordinates import Angle, SkyCoord\n",
    "from regions import CircleSkyRegion\n",
    "\n",
    "# %matplotlib inline\n",
    "import matplotlib.pyplot as plt"
   ]
  },
  {
   "cell_type": "code",
   "execution_count": 2,
   "metadata": {},
   "outputs": [
    {
     "name": "stderr",
     "output_type": "stream",
     "text": [
      "/homes/wang/swong/lib/python3.9/site-packages/tqdm/auto.py:22: TqdmWarning: IProgress not found. Please update jupyter and ipywidgets. See https://ipywidgets.readthedocs.io/en/stable/user_install.html\n",
      "  from .autonotebook import tqdm as notebook_tqdm\n"
     ]
    }
   ],
   "source": [
    "from IPython.display import display\n",
    "from gammapy.data import DataStore\n",
    "from gammapy.datasets import (\n",
    "    Datasets,\n",
    "    FluxPointsDataset,\n",
    "    SpectrumDataset,\n",
    "    SpectrumDatasetOnOff,\n",
    ")\n",
    "from gammapy.estimators import FluxPointsEstimator\n",
    "from gammapy.makers import (\n",
    "    ReflectedRegionsBackgroundMaker,\n",
    "    SafeMaskMaker,\n",
    "    SpectrumDatasetMaker,\n",
    ")\n",
    "from gammapy.maps import MapAxis, RegionGeom, WcsGeom\n",
    "from gammapy.modeling import Fit\n",
    "from gammapy.modeling.models import (\n",
    "    ExpCutoffPowerLawSpectralModel,\n",
    "    SkyModel,\n",
    "    create_crab_spectral_model,\n",
    ")\n",
    "from gammapy.modeling.models import Models, PowerLawSpectralModel, SkyModel"
   ]
  },
  {
   "cell_type": "markdown",
   "metadata": {},
   "source": [
    "# Import data\n",
    "\n",
    "not sure if there's a way to work around the obs_ids list - this is needed later but it's kinda annoying"
   ]
  },
  {
   "cell_type": "code",
   "execution_count": 3,
   "metadata": {},
   "outputs": [
    {
     "name": "stdout",
     "output_type": "stream",
     "text": [
      "Observations\n",
      "Number of observations: 6\n",
      "Observation\n",
      "\n",
      "\tobs id            : 83016 \n",
      " \ttstart            : 57666.16\n",
      "\ttstop             : 57666.18\n",
      "\tduration          : 1801.00 s\n",
      "\tpointing (icrs)   : 330.7 deg, 41.8 deg\n",
      "\n",
      "\tdeadtime fraction : 15.4%\n",
      "Observation\n",
      "\n",
      "\tobs id            : 83017 \n",
      " \ttstart            : 57666.19\n",
      "\ttstop             : 57666.21\n",
      "\tduration          : 1801.00 s\n",
      "\tpointing (icrs)   : 331.4 deg, 42.3 deg\n",
      "\n",
      "\tdeadtime fraction : 14.5%\n",
      "Observation\n",
      "\n",
      "\tobs id            : 83018 \n",
      " \ttstart            : 57666.21\n",
      "\ttstop             : 57666.23\n",
      "\tduration          : 1801.00 s\n",
      "\tpointing (icrs)   : 330.0 deg, 42.3 deg\n",
      "\n",
      "\tdeadtime fraction : 14.7%\n",
      "Observation\n",
      "\n",
      "\tobs id            : 83019 \n",
      " \ttstart            : 57666.23\n",
      "\ttstop             : 57666.25\n",
      "\tduration          : 1801.00 s\n",
      "\tpointing (icrs)   : 330.7 deg, 42.8 deg\n",
      "\n",
      "\tdeadtime fraction : 14.4%\n",
      "Observation\n",
      "\n",
      "\tobs id            : 83020 \n",
      " \ttstart            : 57666.25\n",
      "\ttstop             : 57666.27\n",
      "\tduration          : 1801.00 s\n",
      "\tpointing (icrs)   : 330.7 deg, 41.8 deg\n",
      "\n",
      "\tdeadtime fraction : 14.2%\n",
      "Observation\n",
      "\n",
      "\tobs id            : 83021 \n",
      " \ttstart            : 57666.27\n",
      "\ttstop             : 57666.29\n",
      "\tduration          : 1801.00 s\n",
      "\tpointing (icrs)   : 331.4 deg, 42.3 deg\n",
      "\n",
      "\tdeadtime fraction : 15.0%\n",
      "\n"
     ]
    }
   ],
   "source": [
    "datastore = DataStore.from_dir(\"/raid/romulus/swong/LIV/bllac\")\n",
    "observations = datastore.get_observations(required_irf=\"point-like\")\n",
    "\n",
    "obs_ids = [62672,62673,62674,62675,62676,62677]\n",
    "\n",
    "print(observations)"
   ]
  },
  {
   "cell_type": "markdown",
   "metadata": {},
   "source": [
    "# Source Details"
   ]
  },
  {
   "cell_type": "code",
   "execution_count": 4,
   "metadata": {},
   "outputs": [],
   "source": [
    "target_position = SkyCoord(330.6804167 * u.deg, 42.2777778* u.deg, frame=\"icrs\")\n",
    "on_region_radius = Angle(\"0.08944272 deg\")\n",
    "on_region = CircleSkyRegion(center=target_position, radius=on_region_radius)"
   ]
  },
  {
   "cell_type": "code",
   "execution_count": 5,
   "metadata": {},
   "outputs": [],
   "source": [
    "energy_axis = MapAxis.from_energy_bounds(\n",
    "    0.1, 30, nbin=10, per_decade=True, unit=\"TeV\", name=\"energy\"\n",
    ")\n",
    "energy_axis_true = MapAxis.from_energy_bounds(\n",
    "    0.1, 30, nbin=20, per_decade=True, unit=\"TeV\", name=\"energy_true\"\n",
    ")\n",
    "\n",
    "geom = RegionGeom.create(region=on_region, axes=[energy_axis])\n",
    "dataset_empty = SpectrumDataset.create(geom=geom, energy_axis_true=energy_axis_true)\n",
    "\n",
    "dataset_maker = SpectrumDatasetMaker(\n",
    "    containment_correction=False, selection=[\"counts\", \"exposure\", \"edisp\"]\n",
    ")\n",
    "bkg_maker = ReflectedRegionsBackgroundMaker()\n",
    "safe_mask_masker = SafeMaskMaker(methods=[\"aeff-max\"], aeff_percent=10)"
   ]
  },
  {
   "cell_type": "markdown",
   "metadata": {},
   "source": [
    "# Make background region and mask"
   ]
  },
  {
   "cell_type": "code",
   "execution_count": 6,
   "metadata": {},
   "outputs": [
    {
     "name": "stderr",
     "output_type": "stream",
     "text": [
      "/homes/wang/swong/lib/python3.9/site-packages/gammapy/maps/geom.py:48: RuntimeWarning: invalid value encountered in cast\n",
      "  p_idx = np.rint(p).astype(int)\n",
      "/homes/wang/swong/lib/python3.9/site-packages/gammapy/maps/geom.py:48: RuntimeWarning: invalid value encountered in cast\n",
      "  p_idx = np.rint(p).astype(int)\n",
      "/homes/wang/swong/lib/python3.9/site-packages/gammapy/maps/geom.py:48: RuntimeWarning: invalid value encountered in cast\n",
      "  p_idx = np.rint(p).astype(int)\n",
      "/homes/wang/swong/lib/python3.9/site-packages/gammapy/maps/geom.py:48: RuntimeWarning: invalid value encountered in cast\n",
      "  p_idx = np.rint(p).astype(int)\n",
      "/homes/wang/swong/lib/python3.9/site-packages/gammapy/maps/geom.py:48: RuntimeWarning: invalid value encountered in cast\n",
      "  p_idx = np.rint(p).astype(int)\n",
      "/homes/wang/swong/lib/python3.9/site-packages/gammapy/maps/geom.py:48: RuntimeWarning: invalid value encountered in cast\n",
      "  p_idx = np.rint(p).astype(int)\n",
      "/homes/wang/swong/lib/python3.9/site-packages/gammapy/maps/geom.py:48: RuntimeWarning: invalid value encountered in cast\n",
      "  p_idx = np.rint(p).astype(int)\n",
      "/homes/wang/swong/lib/python3.9/site-packages/gammapy/maps/geom.py:48: RuntimeWarning: invalid value encountered in cast\n",
      "  p_idx = np.rint(p).astype(int)\n",
      "/homes/wang/swong/lib/python3.9/site-packages/gammapy/maps/geom.py:48: RuntimeWarning: invalid value encountered in cast\n",
      "  p_idx = np.rint(p).astype(int)\n",
      "/homes/wang/swong/lib/python3.9/site-packages/gammapy/maps/geom.py:48: RuntimeWarning: invalid value encountered in cast\n",
      "  p_idx = np.rint(p).astype(int)\n",
      "/homes/wang/swong/lib/python3.9/site-packages/gammapy/maps/geom.py:48: RuntimeWarning: invalid value encountered in cast\n",
      "  p_idx = np.rint(p).astype(int)\n"
     ]
    },
    {
     "name": "stdout",
     "output_type": "stream",
     "text": [
      "Datasets\n",
      "--------\n",
      "\n",
      "Dataset 0: \n",
      "\n",
      "  Type       : SpectrumDatasetOnOff\n",
      "  Name       : 62672\n",
      "  Instrument : VERITAS\n",
      "  Models     : \n",
      "\n",
      "Dataset 1: \n",
      "\n",
      "  Type       : SpectrumDatasetOnOff\n",
      "  Name       : 62673\n",
      "  Instrument : VERITAS\n",
      "  Models     : \n",
      "\n",
      "Dataset 2: \n",
      "\n",
      "  Type       : SpectrumDatasetOnOff\n",
      "  Name       : 62674\n",
      "  Instrument : VERITAS\n",
      "  Models     : \n",
      "\n",
      "Dataset 3: \n",
      "\n",
      "  Type       : SpectrumDatasetOnOff\n",
      "  Name       : 62675\n",
      "  Instrument : VERITAS\n",
      "  Models     : \n",
      "\n",
      "Dataset 4: \n",
      "\n",
      "  Type       : SpectrumDatasetOnOff\n",
      "  Name       : 62676\n",
      "  Instrument : VERITAS\n",
      "  Models     : \n",
      "\n",
      "Dataset 5: \n",
      "\n",
      "  Type       : SpectrumDatasetOnOff\n",
      "  Name       : 62677\n",
      "  Instrument : VERITAS\n",
      "  Models     : \n",
      "\n",
      "\n"
     ]
    },
    {
     "name": "stderr",
     "output_type": "stream",
     "text": [
      "/homes/wang/swong/lib/python3.9/site-packages/gammapy/maps/geom.py:48: RuntimeWarning: invalid value encountered in cast\n",
      "  p_idx = np.rint(p).astype(int)\n"
     ]
    }
   ],
   "source": [
    "datasets = Datasets()\n",
    "for obs_id, observation in zip(obs_ids, observations):\n",
    "    dataset = dataset_maker.run(dataset_empty.copy(name=str(obs_id)), observation)\n",
    "    dataset_on_off = bkg_maker.run(dataset, observation)\n",
    "    dataset_on_off = safe_mask_masker.run(dataset_on_off, observation)\n",
    "    datasets.append(dataset_on_off)\n",
    "\n",
    "print(datasets)"
   ]
  },
  {
   "cell_type": "code",
   "execution_count": 7,
   "metadata": {},
   "outputs": [
    {
     "data": {
      "text/html": [
       "<div><i>Table length=6</i>\n",
       "<table id=\"table140456600993696\" class=\"table-striped table-bordered table-condensed\">\n",
       "<thead><tr><th>name</th><th>counts</th><th>excess</th><th>sqrt_ts</th><th>background</th><th>npred</th><th>npred_background</th><th>npred_signal</th><th>exposure_min</th><th>exposure_max</th><th>livetime</th><th>ontime</th><th>counts_rate</th><th>background_rate</th><th>excess_rate</th><th>n_bins</th><th>n_fit_bins</th><th>stat_type</th><th>stat_sum</th><th>counts_off</th><th>acceptance</th><th>acceptance_off</th><th>alpha</th></tr></thead>\n",
       "<thead><tr><th></th><th></th><th></th><th></th><th></th><th></th><th></th><th></th><th>m2 s</th><th>m2 s</th><th>s</th><th>s</th><th>1 / s</th><th>1 / s</th><th>1 / s</th><th></th><th></th><th></th><th></th><th></th><th></th><th></th><th></th></tr></thead>\n",
       "<thead><tr><th>str7</th><th>int64</th><th>float64</th><th>float64</th><th>float64</th><th>float64</th><th>float64</th><th>float64</th><th>float64</th><th>float64</th><th>float64</th><th>float64</th><th>float64</th><th>float64</th><th>float64</th><th>int64</th><th>int64</th><th>str5</th><th>float64</th><th>int64</th><th>float64</th><th>float64</th><th>float64</th></tr></thead>\n",
       "<tr><td>stacked</td><td>261</td><td>242.6875</td><td>27.355177253533423</td><td>18.3125</td><td>32.588235294117645</td><td>32.588235294117645</td><td>nan</td><td>4801136.5</td><td>181925728.0</td><td>1523.3331217806794</td><td>1801.0</td><td>0.1713348159166313</td><td>0.012021336461583565</td><td>0.15931347945504773</td><td>25</td><td>23</td><td>wstat</td><td>776.3555764154969</td><td>293</td><td>23.0</td><td>368.0</td><td>0.0625</td></tr>\n",
       "<tr><td>stacked</td><td>565</td><td>529.5625</td><td>41.24315357373134</td><td>35.4375</td><td>66.58823529411765</td><td>66.58823529411765</td><td>nan</td><td>9549082.0</td><td>363413184.0</td><td>3063.1226852352247</td><td>3602.0</td><td>0.18445229201017532</td><td>0.011569076279841748</td><td>0.17288321573033358</td><td>25</td><td>23</td><td>wstat</td><td>1757.8270926348773</td><td>567</td><td>23.0</td><td>368.0</td><td>0.0625</td></tr>\n",
       "<tr><td>stacked</td><td>934</td><td>878.9375</td><td>53.7092796761547</td><td>55.0625</td><td>106.76470588235293</td><td>106.76470588235293</td><td>nan</td><td>13741840.0</td><td>549052800.0</td><td>4600.061561981962</td><td>5403.0</td><td>0.20304076095833398</td><td>0.011969948501357885</td><td>0.1910708124569761</td><td>25</td><td>23</td><td>wstat</td><td>2957.842715483673</td><td>881</td><td>23.0</td><td>368.0</td><td>0.0625</td></tr>\n",
       "<tr><td>stacked</td><td>1306</td><td>1229.75</td><td>63.63510266315788</td><td>76.25</td><td>148.58823529411765</td><td>148.58823529411765</td><td>nan</td><td>16876610.0</td><td>745826816.0</td><td>6142.34249606099</td><td>7204.0</td><td>0.2126224646114283</td><td>0.012413830724824968</td><td>0.20020863388660332</td><td>25</td><td>23</td><td>wstat</td><td>4140.782699626377</td><td>1220</td><td>23.0</td><td>368.0</td><td>0.0625</td></tr>\n",
       "<tr><td>stacked</td><td>1639</td><td>1546.3125</td><td>71.7417118900333</td><td>92.6875</td><td>183.64705882352942</td><td>183.64705882352942</td><td>nan</td><td>19618810.0</td><td>959106880.0</td><td>7686.720315403247</td><td>9005.0</td><td>0.21322487780850366</td><td>0.012058133533786262</td><td>0.2011667442747174</td><td>25</td><td>23</td><td>wstat</td><td>5263.22889486721</td><td>1483</td><td>23.0</td><td>368.0</td><td>0.0625</td></tr>\n",
       "<tr><td>stacked</td><td>1779</td><td>1671.375</td><td>73.73517328233412</td><td>107.625</td><td>205.94117647058823</td><td>205.94117647058823</td><td>nan</td><td>20978948.0</td><td>1192019712.0</td><td>9217.726979667761</td><td>10806.0</td><td>0.19299768846745788</td><td>0.011675871962512734</td><td>0.18132181650494514</td><td>25</td><td>23</td><td>wstat</td><td>5540.863258407376</td><td>1722</td><td>23.0</td><td>368.0</td><td>0.0625</td></tr>\n",
       "</table></div>"
      ],
      "text/plain": [
       "<Table length=6>\n",
       "  name  counts   excess       sqrt_ts       background ...      stat_sum      counts_off acceptance acceptance_off  alpha \n",
       "                                                       ...                                                                \n",
       "  str7  int64   float64       float64        float64   ...      float64         int64     float64      float64     float64\n",
       "------- ------ --------- ------------------ ---------- ... ------------------ ---------- ---------- -------------- -------\n",
       "stacked    261  242.6875 27.355177253533423    18.3125 ...  776.3555764154969        293       23.0          368.0  0.0625\n",
       "stacked    565  529.5625  41.24315357373134    35.4375 ... 1757.8270926348773        567       23.0          368.0  0.0625\n",
       "stacked    934  878.9375   53.7092796761547    55.0625 ...  2957.842715483673        881       23.0          368.0  0.0625\n",
       "stacked   1306   1229.75  63.63510266315788      76.25 ...  4140.782699626377       1220       23.0          368.0  0.0625\n",
       "stacked   1639 1546.3125   71.7417118900333    92.6875 ...   5263.22889486721       1483       23.0          368.0  0.0625\n",
       "stacked   1779  1671.375  73.73517328233412    107.625 ...  5540.863258407376       1722       23.0          368.0  0.0625"
      ]
     },
     "metadata": {},
     "output_type": "display_data"
    }
   ],
   "source": [
    "info_table = datasets.info_table(cumulative=True)\n",
    "\n",
    "display(info_table)"
   ]
  },
  {
   "cell_type": "markdown",
   "metadata": {},
   "source": [
    "# Extract Source Characteristics for LIVelihood"
   ]
  },
  {
   "cell_type": "code",
   "execution_count": 8,
   "metadata": {},
   "outputs": [
    {
     "name": "stdout",
     "output_type": "stream",
     "text": [
      "Excess Photon Counts: 1671.375\n",
      "Hadron Counts: 107.625\n"
     ]
    }
   ],
   "source": [
    "Nexcess = sum(datasets.info_table()[\"excess\"])\n",
    "Nbackground = sum(datasets.info_table()[\"background\"])\n",
    "\n",
    "print(f'Excess Photon Counts: {Nexcess}')\n",
    "print(f'Hadron Counts: {Nbackground}')"
   ]
  },
  {
   "cell_type": "markdown",
   "metadata": {},
   "source": [
    "# Cumulative significance maps\n",
    "\n",
    "Useful for making spectra? nope but fun? sure"
   ]
  },
  {
   "cell_type": "code",
   "execution_count": 8,
   "metadata": {},
   "outputs": [
    {
     "data": {
      "text/plain": [
       "Text(0, 0.5, 'Sqrt(TS)')"
      ]
     },
     "execution_count": 8,
     "metadata": {},
     "output_type": "execute_result"
    },
    {
     "data": {
      "image/png": "[encoded data removed]",
      "text/plain": [
       "<Figure size 720x288 with 2 Axes>"
      ]
     },
     "metadata": {
      "needs_background": "light"
     },
     "output_type": "display_data"
    }
   ],
   "source": [
    "fig, (ax_excess, ax_sqrt_ts) = plt.subplots(figsize=(10, 4), ncols=2, nrows=1)\n",
    "ax_excess.plot(\n",
    "    info_table[\"livetime\"].to(\"h\"),\n",
    "    info_table[\"excess\"],\n",
    "    marker=\"o\",\n",
    "    ls=\"none\",\n",
    ")\n",
    "\n",
    "ax_excess.set_title(\"Excess\")\n",
    "ax_excess.set_xlabel(\"Livetime [h]\")\n",
    "ax_excess.set_ylabel(\"Excess events\")\n",
    "\n",
    "ax_sqrt_ts.plot(\n",
    "    info_table[\"livetime\"].to(\"h\"),\n",
    "    info_table[\"sqrt_ts\"],\n",
    "    marker=\"o\",\n",
    "    ls=\"none\",\n",
    ")\n",
    "\n",
    "ax_sqrt_ts.set_title(\"Sqrt(TS)\")\n",
    "ax_sqrt_ts.set_xlabel(\"Livetime [h]\")\n",
    "ax_sqrt_ts.set_ylabel(\"Sqrt(TS)\")"
   ]
  },
  {
   "cell_type": "markdown",
   "metadata": {},
   "source": [
    "# Spectral model\n",
    "\n",
    "Get model and parameters from paper"
   ]
  },
  {
   "cell_type": "code",
   "execution_count": 10,
   "metadata": {},
   "outputs": [],
   "source": [
    "from gammapy.modeling.models import LogParabolaSpectralModel, Models, SkyModel\n",
    "\n",
    "spectral_model = LogParabolaSpectralModel(\n",
    "    alpha=2.4,\n",
    "    amplitude=\"2.22e-9 cm-2 s-1 TeV-1\",\n",
    "    reference=0.2 * u.TeV,\n",
    "    beta=1.8,\n",
    ")\n",
    "model = SkyModel(spectral_model=spectral_model, name=\"bllac\")\n",
    "\n",
    "datasets.models = [model]\n",
    "\n",
    "fit_joint = Fit()\n",
    "result_joint = fit_joint.run(datasets=datasets)\n",
    "\n",
    "# we make a copy here to compare it later\n",
    "model_best_joint = model.copy()"
   ]
  },
  {
   "cell_type": "code",
   "execution_count": 11,
   "metadata": {},
   "outputs": [
    {
     "name": "stdout",
     "output_type": "stream",
     "text": [
      "LogParabolaSpectralModel\n",
      "\n",
      "  type      name     value         unit        error   min max frozen is_norm link\n",
      "-------- --------- ---------- -------------- --------- --- --- ------ ------- ----\n",
      "spectral amplitude 3.1330e-09 cm-2 s-1 TeV-1 1.066e-10 nan nan  False    True     \n",
      "spectral reference 2.0000e-01            TeV 0.000e+00 nan nan   True   False     \n",
      "spectral     alpha 2.5867e+00                1.168e-01 nan nan  False   False     \n",
      "spectral      beta 4.8417e-01                8.064e-02 nan nan  False   False     \n"
     ]
    }
   ],
   "source": [
    "print(spectral_model)"
   ]
  },
  {
   "cell_type": "code",
   "execution_count": 12,
   "metadata": {},
   "outputs": [
    {
     "name": "stdout",
     "output_type": "stream",
     "text": [
      "OptimizeResult\n",
      "\n",
      "\tbackend    : minuit\n",
      "\tmethod     : migrad\n",
      "\tsuccess    : True\n",
      "\tmessage    : Optimization terminated successfully.\n",
      "\tnfev       : 111\n",
      "\ttotal stat : 201.32\n",
      "\n",
      "CovarianceResult\n",
      "\n",
      "\tbackend    : minuit\n",
      "\tmethod     : hesse\n",
      "\tsuccess    : True\n",
      "\tmessage    : Hesse terminated successfully.\n",
      "\n"
     ]
    }
   ],
   "source": [
    "print(result_joint)"
   ]
  },
  {
   "cell_type": "code",
   "execution_count": 13,
   "metadata": {},
   "outputs": [
    {
     "data": {
      "text/html": [
       "<div><i>Table length=4</i>\n",
       "<table id=\"table140515669586704\" class=\"table-striped table-bordered table-condensed\">\n",
       "<thead><tr><th>model</th><th>type</th><th>name</th><th>value</th><th>unit</th><th>error</th><th>min</th><th>max</th><th>frozen</th><th>is_norm</th><th>link</th></tr></thead>\n",
       "<thead><tr><th>str5</th><th>str8</th><th>str9</th><th>float64</th><th>str14</th><th>float64</th><th>float64</th><th>float64</th><th>bool</th><th>bool</th><th>str1</th></tr></thead>\n",
       "<tr><td>bllac</td><td>spectral</td><td>amplitude</td><td>3.1330e-09</td><td>cm-2 s-1 TeV-1</td><td>1.066e-10</td><td>nan</td><td>nan</td><td>False</td><td>True</td><td></td></tr>\n",
       "<tr><td>bllac</td><td>spectral</td><td>reference</td><td>2.0000e-01</td><td>TeV</td><td>0.000e+00</td><td>nan</td><td>nan</td><td>True</td><td>False</td><td></td></tr>\n",
       "<tr><td>bllac</td><td>spectral</td><td>alpha</td><td>2.5867e+00</td><td></td><td>1.168e-01</td><td>nan</td><td>nan</td><td>False</td><td>False</td><td></td></tr>\n",
       "<tr><td>bllac</td><td>spectral</td><td>beta</td><td>4.8417e-01</td><td></td><td>8.064e-02</td><td>nan</td><td>nan</td><td>False</td><td>False</td><td></td></tr>\n",
       "</table></div>"
      ],
      "text/plain": [
       "<Table length=4>\n",
       "model   type      name     value         unit        error     min     max   frozen is_norm link\n",
       " str5   str8      str9    float64       str14       float64  float64 float64  bool    bool  str1\n",
       "----- -------- --------- ---------- -------------- --------- ------- ------- ------ ------- ----\n",
       "bllac spectral amplitude 3.1330e-09 cm-2 s-1 TeV-1 1.066e-10     nan     nan  False    True     \n",
       "bllac spectral reference 2.0000e-01            TeV 0.000e+00     nan     nan   True   False     \n",
       "bllac spectral     alpha 2.5867e+00                1.168e-01     nan     nan  False   False     \n",
       "bllac spectral      beta 4.8417e-01                8.064e-02     nan     nan  False   False     "
      ]
     },
     "metadata": {},
     "output_type": "display_data"
    }
   ],
   "source": [
    "display(result_joint.models.to_parameters_table())"
   ]
  },
  {
   "cell_type": "markdown",
   "metadata": {},
   "source": [
    "# Plot fit results with data"
   ]
  },
  {
   "cell_type": "code",
   "execution_count": 15,
   "metadata": {},
   "outputs": [
    {
     "data": {
      "text/plain": [
       "Text(0.5, 1.0, '1ES 1959+650')"
      ]
     },
     "execution_count": 15,
     "metadata": {},
     "output_type": "execute_result"
    },
    {
     "data": {
      "image/png": "[encoded data removed]",
      "text/plain": [
       "<Figure size 720x504 with 2 Axes>"
      ]
     },
     "metadata": {
      "needs_background": "light"
     },
     "output_type": "display_data"
    }
   ],
   "source": [
    "plt.figure(figsize=(10,7))\n",
    "ax_spectrum, ax_residuals = datasets[0].plot_fit()\n",
    "ax_spectrum.set_yscale('log')\n",
    "datasets[0].plot_masks(ax=ax_spectrum)\n",
    "ax_spectrum.set_title('1ES 1959+650')"
   ]
  },
  {
   "cell_type": "code",
   "execution_count": 105,
   "metadata": {},
   "outputs": [],
   "source": [
    "e_min, e_max = 0.11, 4\n",
    "energy_edges = np.geomspace(e_min, e_max, 8) * u.TeV"
   ]
  },
  {
   "cell_type": "code",
   "execution_count": 106,
   "metadata": {},
   "outputs": [],
   "source": [
    "fpe = FluxPointsEstimator(\n",
    "    energy_edges=energy_edges, source=\"bllac\", selection_optional=\"all\"\n",
    ")\n",
    "flux_points = fpe.run(datasets=datasets)"
   ]
  },
  {
   "cell_type": "code",
   "execution_count": 107,
   "metadata": {},
   "outputs": [
    {
     "data": {
      "text/html": [
       "<div><i>Table length=7</i>\n",
       "<table id=\"table140515393596336\" class=\"table-striped table-bordered table-condensed\">\n",
       "<thead><tr><th>e_ref</th><th>e_min</th><th>e_max</th><th>dnde</th><th>dnde_err</th><th>dnde_errp</th><th>dnde_errn</th><th>dnde_ul</th><th>ts</th><th>sqrt_ts</th><th>npred</th><th>npred_excess</th><th>stat</th><th>is_ul</th><th>counts</th><th>success</th><th>norm_scan</th><th>stat_scan</th></tr></thead>\n",
       "<thead><tr><th>TeV</th><th>TeV</th><th>TeV</th><th>1 / (cm2 s TeV)</th><th>1 / (cm2 s TeV)</th><th>1 / (cm2 s TeV)</th><th>1 / (cm2 s TeV)</th><th>1 / (cm2 s TeV)</th><th></th><th></th><th></th><th></th><th></th><th></th><th></th><th></th><th></th><th></th></tr></thead>\n",
       "<thead><tr><th>float64</th><th>float64</th><th>float64</th><th>float64</th><th>float64</th><th>float64</th><th>float64</th><th>float64</th><th>float64</th><th>float64</th><th>float64[6]</th><th>float32[6]</th><th>float64</th><th>bool</th><th>float64[6]</th><th>bool</th><th>float64[11]</th><th>float64[11]</th></tr></thead>\n",
       "<tr><td>0.141</td><td>0.100</td><td>0.198</td><td>7.990e-09</td><td>5.743e-10</td><td>5.867e-10</td><td>5.621e-10</td><td>9.188e-09</td><td>588.263</td><td>24.254</td><td>62.27568760116677 .. 0.0</td><td>56.858734 .. 0.0</td><td>11.930</td><td>False</td><td>47.0 .. 0.0</td><td>True</td><td>0.200 .. 5.000</td><td>287.785 .. 864.497</td></tr>\n",
       "<tr><td>0.249</td><td>0.198</td><td>0.313</td><td>1.655e-09</td><td>6.812e-11</td><td>6.897e-11</td><td>6.726e-11</td><td>1.794e-09</td><td>1939.197</td><td>44.036</td><td>117.62762991079637 .. 100.33816174576728</td><td>110.903275 .. 92.19371</td><td>37.236</td><td>False</td><td>94.0 .. 68.0</td><td>True</td><td>0.200 .. 5.000</td><td>820.596 .. 3260.400</td></tr>\n",
       "<tr><td>0.393</td><td>0.313</td><td>0.494</td><td>4.547e-10</td><td>2.088e-11</td><td>2.118e-11</td><td>2.057e-11</td><td>4.977e-10</td><td>1799.363</td><td>42.419</td><td>86.56627741246083 .. 83.57120738890521</td><td>82.969666 .. 80.46959</td><td>37.937</td><td>False</td><td>76.0 .. 46.0</td><td>True</td><td>0.200 .. 5.000</td><td>757.259 .. 2227.400</td></tr>\n",
       "<tr><td>0.620</td><td>0.494</td><td>0.779</td><td>8.967e-11</td><td>6.121e-12</td><td>6.255e-12</td><td>5.988e-12</td><td>1.024e-10</td><td>818.488</td><td>28.609</td><td>38.495808352539946 .. 39.566159334566684</td><td>36.752296 .. 37.454197</td><td>41.165</td><td>False</td><td>36.0 .. 17.0</td><td>True</td><td>0.200 .. 5.000</td><td>356.544 .. 1105.335</td></tr>\n",
       "<tr><td>1.097</td><td>0.779</td><td>1.545</td><td>8.631e-12</td><td>9.768e-13</td><td>1.012e-12</td><td>9.421e-13</td><td>1.073e-11</td><td>278.789</td><td>16.697</td><td>13.633566901202322 .. 15.426515465947551</td><td>13.032021 .. 14.4599</td><td>48.916</td><td>False</td><td>7.0 .. 7.0</td><td>True</td><td>0.200 .. 5.000</td><td>153.663 .. 493.304</td></tr>\n",
       "<tr><td>1.941</td><td>1.545</td><td>2.439</td><td>9.693e-13</td><td>2.889e-13</td><td>3.174e-13</td><td>2.618e-13</td><td>1.664e-12</td><td>45.305</td><td>6.731</td><td>1.8186546495679337 .. 2.3707142133559502</td><td>1.8186548 .. 2.187896</td><td>11.283</td><td>False</td><td>1.0 .. 1.0</td><td>True</td><td>0.200 .. 5.000</td><td>33.383 .. 43.282</td></tr>\n",
       "<tr><td>3.064</td><td>2.439</td><td>3.849</td><td>8.395e-14</td><td>6.703e-14</td><td>8.418e-14</td><td>6.064e-14</td><td>2.891e-13</td><td>1.890</td><td>1.375</td><td>0.27013671909365716 .. 0.41712095934224935</td><td>0.2701367 .. 0.34495974</td><td>6.913</td><td>True</td><td>0.0 .. 1.0</td><td>True</td><td>0.200 .. 5.000</td><td>8.219 .. 13.210</td></tr>\n",
       "</table></div>"
      ],
      "text/plain": [
       "<Table length=7>\n",
       " e_ref   e_min   e_max        dnde          dnde_err    ... is_ul    counts    success   norm_scan         stat_scan     \n",
       "  TeV     TeV     TeV   1 / (cm2 s TeV) 1 / (cm2 s TeV) ...                                                              \n",
       "float64 float64 float64     float64         float64     ...  bool  float64[6]    bool   float64[11]       float64[11]    \n",
       "------- ------- ------- --------------- --------------- ... ----- ------------ ------- -------------- -------------------\n",
       "  0.141   0.100   0.198       7.990e-09       5.743e-10 ... False  47.0 .. 0.0    True 0.200 .. 5.000  287.785 .. 864.497\n",
       "  0.249   0.198   0.313       1.655e-09       6.812e-11 ... False 94.0 .. 68.0    True 0.200 .. 5.000 820.596 .. 3260.400\n",
       "  0.393   0.313   0.494       4.547e-10       2.088e-11 ... False 76.0 .. 46.0    True 0.200 .. 5.000 757.259 .. 2227.400\n",
       "  0.620   0.494   0.779       8.967e-11       6.121e-12 ... False 36.0 .. 17.0    True 0.200 .. 5.000 356.544 .. 1105.335\n",
       "  1.097   0.779   1.545       8.631e-12       9.768e-13 ... False   7.0 .. 7.0    True 0.200 .. 5.000  153.663 .. 493.304\n",
       "  1.941   1.545   2.439       9.693e-13       2.889e-13 ... False   1.0 .. 1.0    True 0.200 .. 5.000    33.383 .. 43.282\n",
       "  3.064   2.439   3.849       8.395e-14       6.703e-14 ...  True   0.0 .. 1.0    True 0.200 .. 5.000     8.219 .. 13.210"
      ]
     },
     "metadata": {},
     "output_type": "display_data"
    }
   ],
   "source": [
    "display(flux_points.to_table(sed_type=\"dnde\", formatted=True))"
   ]
  },
  {
   "cell_type": "code",
   "execution_count": 108,
   "metadata": {},
   "outputs": [
    {
     "data": {
      "image/png": "[encoded data removed]",
      "text/plain": [
       "<Figure size 720x504 with 2 Axes>"
      ]
     },
     "metadata": {
      "needs_background": "light"
     },
     "output_type": "display_data"
    }
   ],
   "source": [
    "fig, ax = plt.subplots(figsize=(10,7))\n",
    "flux_points.plot(ax=ax, sed_type=\"dnde\", color=\"darkorange\")\n",
    "flux_points.plot_ts_profiles(ax=ax, sed_type=\"dnde\")\n",
    "ax.set_xscale('linear')"
   ]
  },
  {
   "cell_type": "code",
   "execution_count": 109,
   "metadata": {},
   "outputs": [
    {
     "data": {
      "text/plain": [
       "(<AxesSubplot: xlabel='Energy [TeV]', ylabel='e2dnde [erg / (cm2 s)]'>,\n",
       " <AxesSubplot: xlabel='Energy [TeV]', ylabel='Residuals\\n (data - model) / model'>)"
      ]
     },
     "execution_count": 109,
     "metadata": {},
     "output_type": "execute_result"
    },
    {
     "data": {
      "image/png": "[encoded data removed]",
      "text/plain": [
       "<Figure size 648x504 with 2 Axes>"
      ]
     },
     "metadata": {
      "needs_background": "light"
     },
     "output_type": "display_data"
    }
   ],
   "source": [
    "flux_points_dataset = FluxPointsDataset(data=flux_points, models=model_best_joint)\n",
    "flux_points_dataset.plot_fit()"
   ]
  },
  {
   "cell_type": "code",
   "execution_count": 110,
   "metadata": {},
   "outputs": [
    {
     "data": {
      "text/html": [
       "<div><i>Table length=4</i>\n",
       "<table id=\"table140515393723840\" class=\"table-striped table-bordered table-condensed\">\n",
       "<thead><tr><th>type</th><th>name</th><th>value</th><th>unit</th><th>error</th><th>min</th><th>max</th><th>frozen</th><th>is_norm</th><th>link</th></tr></thead>\n",
       "<thead><tr><th>str8</th><th>str9</th><th>float64</th><th>str14</th><th>float64</th><th>float64</th><th>float64</th><th>bool</th><th>bool</th><th>str1</th></tr></thead>\n",
       "<tr><td>spectral</td><td>amplitude</td><td>3.1330e-09</td><td>cm-2 s-1 TeV-1</td><td>1.066e-10</td><td>nan</td><td>nan</td><td>False</td><td>True</td><td></td></tr>\n",
       "<tr><td>spectral</td><td>reference</td><td>2.0000e-01</td><td>TeV</td><td>0.000e+00</td><td>nan</td><td>nan</td><td>True</td><td>False</td><td></td></tr>\n",
       "<tr><td>spectral</td><td>alpha</td><td>2.5867e+00</td><td></td><td>1.168e-01</td><td>nan</td><td>nan</td><td>False</td><td>False</td><td></td></tr>\n",
       "<tr><td>spectral</td><td>beta</td><td>4.8417e-01</td><td></td><td>8.064e-02</td><td>nan</td><td>nan</td><td>False</td><td>False</td><td></td></tr>\n",
       "</table></div>"
      ],
      "text/plain": [
       "<Table length=4>\n",
       "  type      name     value         unit        error     min     max   frozen is_norm link\n",
       "  str8      str9    float64       str14       float64  float64 float64  bool    bool  str1\n",
       "-------- --------- ---------- -------------- --------- ------- ------- ------ ------- ----\n",
       "spectral amplitude 3.1330e-09 cm-2 s-1 TeV-1 1.066e-10     nan     nan  False    True     \n",
       "spectral reference 2.0000e-01            TeV 0.000e+00     nan     nan   True   False     \n",
       "spectral     alpha 2.5867e+00                1.168e-01     nan     nan  False   False     \n",
       "spectral      beta 4.8417e-01                8.064e-02     nan     nan  False   False     "
      ]
     },
     "metadata": {},
     "output_type": "display_data"
    }
   ],
   "source": [
    "t = model_best_joint.parameters.to_table()\n",
    "display(t)"
   ]
  },
  {
   "cell_type": "markdown",
   "metadata": {},
   "source": [
    "# Overlay above analysis with fit from paper (VTSCat)"
   ]
  },
  {
   "cell_type": "code",
   "execution_count": 111,
   "metadata": {},
   "outputs": [
    {
     "name": "stdout",
     "output_type": "stream",
     "text": [
      "e_ref  e_min  e_max      e2dnde      e2dnde_err \n",
      " TeV    TeV    TeV   erg / (cm2 s) erg / (cm2 s)\n",
      "------ ------ ------ ------------- -------------\n",
      "0.1567 0.1259 0.1995  1.491028e-10   6.01919e-12\n",
      "0.2484 0.1995 0.3162  1.285154e-10  4.666097e-12\n",
      "0.3937 0.3162 0.5012  6.878903e-11  3.625703e-12\n",
      "0.6239 0.5012 0.7943  3.467475e-11  2.875011e-12\n",
      "0.9888 0.7943 1.2589   8.41201e-12   1.78579e-12\n",
      " 1.567 1.2589 1.9953  2.915176e-12  1.510699e-12\n"
     ]
    }
   ],
   "source": [
    "from astropy.table import Table\n",
    "paper = Table.read('bllac_paper_spectrum.ecsv', format='ascii.ecsv')\n",
    "print(paper)"
   ]
  },
  {
   "cell_type": "code",
   "execution_count": 112,
   "metadata": {},
   "outputs": [
    {
     "name": "stderr",
     "output_type": "stream",
     "text": [
      "/tmp/ipykernel_182256/3353962925.py:9: UserWarning: Attempt to set non-positive xlim on a log-scaled axis will be ignored.\n",
      "  ax.set_xlim(0,5)\n"
     ]
    },
    {
     "data": {
      "text/plain": [
       "<matplotlib.legend.Legend at 0x7fcc482f3c70>"
      ]
     },
     "execution_count": 112,
     "metadata": {},
     "output_type": "execute_result"
    },
    {
     "data": {
      "image/png": "[encoded data removed]",
      "text/plain": [
       "<Figure size 720x504 with 1 Axes>"
      ]
     },
     "metadata": {
      "needs_background": "light"
     },
     "output_type": "display_data"
    }
   ],
   "source": [
    "fig, ax = plt.subplots(figsize=(10,7))\n",
    "plt.errorbar(paper['e_ref'],paper['e2dnde']*1.602,yerr=paper['e2dnde_err']*1.602,color='darkorange',ls='',marker='o',label='1802.10113')\n",
    "flux_points.plot(ax=ax, sed_type=\"e2dnde\", color=\"k\",label='Gammapy')\n",
    "energy_bounds = [0.1, 10] * u.TeV\n",
    "spectral_model.plot(energy_bounds,sed_type='e2dnde',label='Log Parabola Fit')\n",
    "spectral_model.plot_error(energy_bounds,sed_type='e2dnde',alpha=0.2)\n",
    "ax.grid(which='minor')\n",
    "ax.grid(which='major')\n",
    "ax.set_xlim(0,5)\n",
    "ax.set_xscale('log')\n",
    "ax.legend()"
   ]
  },
  {
   "cell_type": "code",
   "execution_count": 113,
   "metadata": {},
   "outputs": [
    {
     "data": {
      "text/html": [
       "<div><i>Table length=7</i>\n",
       "<table id=\"table140515594079776\" class=\"table-striped table-bordered table-condensed\">\n",
       "<thead><tr><th>e_ref</th><th>e_min</th><th>e_max</th><th>dnde</th><th>dnde_err</th><th>dnde_errp</th><th>dnde_errn</th><th>dnde_ul</th><th>ts</th><th>sqrt_ts</th><th>npred</th><th>npred_excess</th><th>stat</th><th>is_ul</th><th>counts</th><th>success</th><th>norm_scan</th><th>stat_scan</th></tr></thead>\n",
       "<thead><tr><th>TeV</th><th>TeV</th><th>TeV</th><th>1 / (cm2 s TeV)</th><th>1 / (cm2 s TeV)</th><th>1 / (cm2 s TeV)</th><th>1 / (cm2 s TeV)</th><th>1 / (cm2 s TeV)</th><th></th><th></th><th></th><th></th><th></th><th></th><th></th><th></th><th></th><th></th></tr></thead>\n",
       "<thead><tr><th>float64</th><th>float64</th><th>float64</th><th>float64</th><th>float64</th><th>float64</th><th>float64</th><th>float64</th><th>float64</th><th>float64</th><th>float64[6]</th><th>float32[6]</th><th>float64</th><th>bool</th><th>float64[6]</th><th>bool</th><th>float64[11]</th><th>float64[11]</th></tr></thead>\n",
       "<tr><td>0.1408079822829465</td><td>0.10000000000000002</td><td>0.19826887874594568</td><td>7.989701474547773e-09</td><td>5.743416810830802e-10</td><td>5.867119166056226e-10</td><td>5.6212504271441e-10</td><td>9.188232963831279e-09</td><td>588.2626034964537</td><td>24.25412549436598</td><td>62.27568760116677 .. 0.0</td><td>56.858734 .. 0.0</td><td>11.929725089435237</td><td>False</td><td>47.0 .. 0.0</td><td>True</td><td>0.2 .. 4.999999999999999</td><td>287.78527690946703 .. 864.4967923315972</td></tr>\n",
       "<tr><td>0.24908031183062881</td><td>0.19826887874594568</td><td>0.31291346445318985</td><td>1.6545491378088905e-09</td><td>6.811807657341067e-11</td><td>6.89728685498739e-11</td><td>6.725676790936187e-11</td><td>1.7940665903002824e-09</td><td>1939.1971191435841</td><td>44.03631591247824</td><td>117.62762991079637 .. 100.33816174576728</td><td>110.903275 .. 92.19371</td><td>37.23558860329638</td><td>False</td><td>94.0 .. 68.0</td><td>True</td><td>0.2 .. 4.999999999999999</td><td>820.5964654197794 .. 3260.4003240990914</td></tr>\n",
       "<tr><td>0.39310548279174495</td><td>0.31291346445318985</td><td>0.49384874144349267</td><td>4.547256021009175e-10</td><td>2.0876292259549497e-11</td><td>2.1182568687423314e-11</td><td>2.057432811638156e-11</td><td>4.977290007778259e-10</td><td>1799.3629923391954</td><td>42.41889899961096</td><td>86.56627741246083 .. 83.57120738890521</td><td>82.969666 .. 80.46959</td><td>37.9368394357557</td><td>False</td><td>76.0 .. 46.0</td><td>True</td><td>0.2 .. 4.999999999999999</td><td>757.2593917177137 .. 2227.4002557941494</td></tr>\n",
       "<tr><td>0.6204100174164326</td><td>0.49384874144349267</td><td>0.779405833020029</td><td>8.966642740117569e-11</td><td>6.120920852836042e-12</td><td>6.254721604232142e-12</td><td>5.98848796310104e-12</td><td>1.024455797812898e-10</td><td>818.4883078548932</td><td>28.609234660418533</td><td>38.495808352539946 .. 39.566159334566684</td><td>36.752296 .. 37.454197</td><td>41.164784064480855</td><td>False</td><td>36.0 .. 17.0</td><td>True</td><td>0.2 .. 4.999999999999999</td><td>356.5440777567718 .. 1105.334520244211</td></tr>\n",
       "<tr><td>1.0974656272710936</td><td>0.779405833020029</td><td>1.5453192060093088</td><td>8.630770176362432e-12</td><td>9.768318793591896e-13</td><td>1.0122529875673893e-12</td><td>9.420725277947372e-13</td><td>1.0727381851917111e-11</td><td>278.78948837018214</td><td>16.696990398577288</td><td>13.633566901202322 .. 15.426515465947551</td><td>13.032021 .. 14.4599</td><td>48.91579214795593</td><td>False</td><td>7.0 .. 7.0</td><td>True</td><td>0.2 .. 4.999999999999999</td><td>153.6632237422974 .. 493.30357547755955</td></tr>\n",
       "<tr><td>1.941346479312398</td><td>1.5453192060093088</td><td>2.438865794253216</td><td>9.692845880871364e-13</td><td>2.889256613757706e-13</td><td>3.174361684423062e-13</td><td>2.617634303825015e-13</td><td>1.6635590145314125e-12</td><td>45.304645344276196</td><td>6.730872554452074</td><td>1.8186546495679337 .. 2.3707142133559502</td><td>1.8186548 .. 2.187896</td><td>11.283119198381984</td><td>False</td><td>1.0 .. 1.0</td><td>True</td><td>0.2 .. 4.999999999999999</td><td>33.3828940517158 .. 43.28242522542719</td></tr>\n",
       "<tr><td>3.0638870628004056</td><td>2.438865794253216</td><td>3.849085897106582</td><td>8.395124543230882e-14</td><td>6.70282913457165e-14</td><td>8.418402946061758e-14</td><td>6.063961958248122e-14</td><td>2.8913610226566687e-13</td><td>1.8902438835879423</td><td>1.3748614052288843</td><td>0.27013671909365716 .. 0.41712095934224935</td><td>0.2701367 .. 0.34495974</td><td>6.912519257662879</td><td>True</td><td>0.0 .. 1.0</td><td>True</td><td>0.2 .. 4.999999999999999</td><td>8.219026546821254 .. 13.210081904472522</td></tr>\n",
       "</table></div>"
      ],
      "text/plain": [
       "<Table length=7>\n",
       "       e_ref               e_min               e_max        ...        norm_scan                        stat_scan               \n",
       "        TeV                 TeV                 TeV         ...                                                                 \n",
       "      float64             float64             float64       ...       float64[11]                      float64[11]              \n",
       "------------------- ------------------- ------------------- ... ------------------------ ---------------------------------------\n",
       " 0.1408079822829465 0.10000000000000002 0.19826887874594568 ... 0.2 .. 4.999999999999999 287.78527690946703 .. 864.4967923315972\n",
       "0.24908031183062881 0.19826887874594568 0.31291346445318985 ... 0.2 .. 4.999999999999999 820.5964654197794 .. 3260.4003240990914\n",
       "0.39310548279174495 0.31291346445318985 0.49384874144349267 ... 0.2 .. 4.999999999999999 757.2593917177137 .. 2227.4002557941494\n",
       " 0.6204100174164326 0.49384874144349267   0.779405833020029 ... 0.2 .. 4.999999999999999  356.5440777567718 .. 1105.334520244211\n",
       " 1.0974656272710936   0.779405833020029  1.5453192060093088 ... 0.2 .. 4.999999999999999 153.6632237422974 .. 493.30357547755955\n",
       "  1.941346479312398  1.5453192060093088   2.438865794253216 ... 0.2 .. 4.999999999999999   33.3828940517158 .. 43.28242522542719\n",
       " 3.0638870628004056   2.438865794253216   3.849085897106582 ... 0.2 .. 4.999999999999999 8.219026546821254 .. 13.210081904472522"
      ]
     },
     "metadata": {},
     "output_type": "display_data"
    }
   ],
   "source": [
    "gammapy_flux = flux_points.to_table(sed_type='dnde')\n",
    "display(gammapy_flux)"
   ]
  },
  {
   "cell_type": "code",
   "execution_count": 114,
   "metadata": {},
   "outputs": [
    {
     "name": "stdout",
     "output_type": "stream",
     "text": [
      "[7.31628106e-09 1.73496044e-09 4.37301660e-10 9.00969683e-11\n",
      " 9.41860820e-12 7.18533274e-13 7.30982868e-14] 1 / (cm2 s TeV)\n",
      "         dnde         \n",
      "   1 / (cm2 s TeV)    \n",
      "----------------------\n",
      " 7.989701474547773e-09\n",
      "1.6545491378088905e-09\n",
      " 4.547256021009175e-10\n",
      " 8.966642740117569e-11\n",
      " 8.630770176362432e-12\n",
      " 9.692845880871364e-13\n",
      " 8.395124543230882e-14\n",
      "       dnde_err       \n",
      "   1 / (cm2 s TeV)    \n",
      "----------------------\n",
      " 5.743416810830802e-10\n",
      " 6.811807657341067e-11\n",
      "2.0876292259549497e-11\n",
      " 6.120920852836042e-12\n",
      " 9.768318793591896e-13\n",
      " 2.889256613757706e-13\n",
      "  6.70282913457165e-14\n"
     ]
    }
   ],
   "source": [
    "print(spectral_model(gammapy_flux['e_ref']))\n",
    "print(gammapy_flux['dnde'])\n",
    "print(gammapy_flux['dnde_err'])"
   ]
  },
  {
   "cell_type": "code",
   "execution_count": 115,
   "metadata": {},
   "outputs": [
    {
     "name": "stdout",
     "output_type": "stream",
     "text": [
      "4.89973964598958 4\n"
     ]
    }
   ],
   "source": [
    "def reduced_chi_squared(y, y_model,sigma,n_params):\n",
    "    chi_squared = np.sum(((y - y_model) / sigma) ** 2)\n",
    "    d_o_f = len(y) - n_params\n",
    "    return chi_squared, d_o_f\n",
    "\n",
    "chisq,dof = reduced_chi_squared(gammapy_flux['dnde'],spectral_model(gammapy_flux['e_ref']),gammapy_flux['dnde_err'],3)\n",
    "print(chisq,dof)"
   ]
  },
  {
   "cell_type": "code",
   "execution_count": null,
   "metadata": {},
   "outputs": [],
   "source": []
  }
 ],
 "metadata": {
  "kernelspec": {
   "display_name": "Python 3 (ipykernel)",
   "language": "python",
   "name": "python3"
  },
  "language_info": {
   "codemirror_mode": {
    "name": "ipython",
    "version": 3
   },
   "file_extension": ".py",
   "mimetype": "text/x-python",
   "name": "python",
   "nbconvert_exporter": "python",
   "pygments_lexer": "ipython3",
   "version": "3.9.2"
  }
 },
 "nbformat": 4,
 "nbformat_minor": 2
}
