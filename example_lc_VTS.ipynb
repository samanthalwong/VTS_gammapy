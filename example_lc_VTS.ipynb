{
 "cells": [
  {
   "cell_type": "code",
   "execution_count": 1,
   "metadata": {},
   "outputs": [],
   "source": [
    "%matplotlib inline"
   ]
  },
  {
   "cell_type": "markdown",
   "metadata": {},
   "source": [
    "\n",
    "# Light curve generator"
   ]
  },
  {
   "cell_type": "code",
   "execution_count": 26,
   "metadata": {},
   "outputs": [],
   "source": [
    "import logging\n",
    "import numpy as np\n",
    "import astropy.units as u\n",
    "from astropy.coordinates import Angle, SkyCoord\n",
    "from astropy.time import Time\n",
    "from regions import CircleSkyRegion\n",
    "\n",
    "# %matplotlib inline\n",
    "import matplotlib.pyplot as plt\n",
    "\n",
    "log = logging.getLogger(__name__)\n",
    "\n",
    "from gammapy.data import DataStore\n",
    "from gammapy.datasets import Datasets, SpectrumDataset\n",
    "from gammapy.estimators import LightCurveEstimator\n",
    "from gammapy.makers import (\n",
    "    ReflectedRegionsBackgroundMaker,\n",
    "    SafeMaskMaker,\n",
    "    SpectrumDatasetMaker,\n",
    ")\n",
    "from gammapy.maps import MapAxis, RegionGeom\n",
    "from gammapy.modeling.models import PowerLawSpectralModel, SkyModel"
   ]
  },
  {
   "cell_type": "markdown",
   "metadata": {},
   "source": [
    "## Select the data\n",
    "\n",
    "We first set the datastore. Again, this is where your .fits and .fits.gz files are. \n",
    "\n",
    "Make sure the number of observations matches the length of your initial runlist"
   ]
  },
  {
   "cell_type": "code",
   "execution_count": 27,
   "metadata": {},
   "outputs": [
    {
     "name": "stdout",
     "output_type": "stream",
     "text": [
      "Data store:\n",
      "HDU index table:\n",
      "BASE_DIR: /raid/romulus/swong/LIV/1es\n",
      "Rows: 24\n",
      "OBS_ID: 62672 -- 62677\n",
      "HDU_TYPE: ['aeff', 'edisp', 'events', 'gti']\n",
      "HDU_CLASS: ['aeff_2d', 'edisp_2d', 'events', 'gti']\n",
      "\n",
      "\n",
      "Observation table:\n",
      "Observatory name: 'N/A'\n",
      "Number of observations: 6\n",
      "\n"
     ]
    }
   ],
   "source": [
    "data_store = DataStore.from_dir(\"/raid/romulus/swong/LIV/1es/\")\n",
    "data_store.info()"
   ]
  },
  {
   "cell_type": "code",
   "execution_count": 28,
   "metadata": {},
   "outputs": [
    {
     "name": "stdout",
     "output_type": "stream",
     "text": [
      "Number of selected observations : 6\n"
     ]
    }
   ],
   "source": [
    "observations = data_store.get_observations(required_irf='point-like')\n",
    "print(f\"Number of selected observations : {len(observations)}\")"
   ]
  },
  {
   "cell_type": "markdown",
   "metadata": {},
   "source": [
    "You will need to change the `target_position` depending on your source. You can get this from TeVCat"
   ]
  },
  {
   "cell_type": "code",
   "execution_count": 29,
   "metadata": {},
   "outputs": [
    {
     "name": "stdout",
     "output_type": "stream",
     "text": [
      "Number of selected observations : 6\n"
     ]
    }
   ],
   "source": [
    "target_position = SkyCoord(299.9991667 * u.deg, 65.1486111* u.deg, frame=\"icrs\")\n",
    "selection = dict(\n",
    "    type=\"sky_circle\",\n",
    "    frame=\"icrs\",\n",
    "    lon=target_position.ra,\n",
    "    lat=target_position.dec,\n",
    "    radius=2 * u.deg,\n",
    ")\n",
    "obs_ids = data_store.obs_table.select_observations(selection)[\"OBS_ID\"]\n",
    "observations = data_store.get_observations(obs_ids,skip_missing=False,required_irf='point-like')\n",
    "print(f\"Number of selected observations : {len(observations)}\")"
   ]
  },
  {
   "cell_type": "markdown",
   "metadata": {},
   "source": [
    "## Define time intervals\n",
    "\n",
    "We create the list of time intervals. Each time interval is an\n",
    "`astropy.time.Time` object, containing a start and stop time.\n",
    "\n",
    "\n"
   ]
  },
  {
   "cell_type": "markdown",
   "metadata": {},
   "source": [
    "Duration = length of each time bin\n",
    "\n",
    "Make sure that `duration` * `n_time_bins` = total exposure time"
   ]
  },
  {
   "cell_type": "code",
   "execution_count": 30,
   "metadata": {},
   "outputs": [
    {
     "name": "stdout",
     "output_type": "stream",
     "text": [
      "2012-05-20 09:25:55.200\n"
     ]
    }
   ],
   "source": [
    "start_mjd = Time(56067.393,format='mjd')\n",
    "print(start_mjd.iso)\n",
    "t0 = Time(\"2012-05-20T09:25:55.200\")\n",
    "duration = 10 * u.min\n",
    "n_time_bins = 14\n",
    "times = t0 + np.arange(n_time_bins) * duration\n",
    "time_intervals = [Time([tstart, tstop]) for tstart, tstop in zip(times[:-1], times[1:])]"
   ]
  },
  {
   "cell_type": "markdown",
   "metadata": {},
   "source": [
    "## Filter the observations list in time intervals\n",
    "\n",
    "Here we apply the list of time intervals to the observations with\n",
    "`~gammapy.data.Observations.select_time()`.\n",
    "\n",
    "This will return a new list of Observations filtered by time_intervals.\n",
    "For each time interval, a new observation is created that converts the\n",
    "intersection of the GTIs and time interval.\n",
    "\n",
    "Make sure the start and stop times make sense (compare UTC times to loggen)\n"
   ]
  },
  {
   "cell_type": "code",
   "execution_count": 31,
   "metadata": {},
   "outputs": [
    {
     "name": "stdout",
     "output_type": "stream",
     "text": [
      "Number of observations after time filtering: 16\n",
      "\n",
      "GTI info:\n",
      "- Number of GTIs: 1\n",
      "- Duration: 34.85832825303078 s\n",
      "- Start: 230290557.2 s MET\n",
      "- Start: 2012-05-20T09:35:55.200 (time standard: UTC)\n",
      "- Stop: 230290592.05832824 s MET\n",
      "- Stop: 2012-05-20T09:36:30.058 (time standard: UTC)\n",
      "\n"
     ]
    }
   ],
   "source": [
    "short_observations = observations.select_time(time_intervals)\n",
    "# check that observations have been filtered\n",
    "print(f\"Number of observations after time filtering: {len(short_observations)}\\n\")\n",
    "print(short_observations[1].gti)"
   ]
  },
  {
   "cell_type": "markdown",
   "metadata": {},
   "source": [
    "As we can see, we have now observations of duration equal to the chosen\n",
    "time step.\n",
    "\n",
    "Now data reduction and light curve extraction can proceed exactly as\n",
    "before.\n",
    "\n",
    "\n"
   ]
  },
  {
   "cell_type": "markdown",
   "metadata": {},
   "source": [
    "## Building 1D datasets from the new observations\n",
    "\n",
    "Here we will perform the data reduction in 1D with reflected regions.\n",
    "\n",
    "*Beware, with small time intervals the background normalization with OFF\n",
    "regions might become problematic.*\n",
    "\n",
    "\n"
   ]
  },
  {
   "cell_type": "markdown",
   "metadata": {},
   "source": [
    "### Defining the geometry\n",
    "\n",
    "Make sure that the energy range (especially lower bound) matches the paper\n",
    "\n",
    "Don't change `on_region_radius`"
   ]
  },
  {
   "cell_type": "code",
   "execution_count": 34,
   "metadata": {},
   "outputs": [],
   "source": [
    "# Target definition\n",
    "energy_axis = MapAxis.from_energy_bounds(\"0.315 TeV\", \"8 TeV\", nbin=10)\n",
    "energy_axis_true = MapAxis.from_energy_bounds(\n",
    "    \"0.315 TeV\", \"8 TeV\", nbin=10, name=\"energy_true\"\n",
    ")\n",
    "\n",
    "on_region_radius = Angle(\"0.0894427191 deg\")\n",
    "on_region = CircleSkyRegion(center=target_position, radius=on_region_radius)\n",
    "\n",
    "geom = RegionGeom.create(region=on_region, axes=[energy_axis])"
   ]
  },
  {
   "cell_type": "markdown",
   "metadata": {},
   "source": [
    "### Creation of the data reduction makers\n",
    "\n",
    "We now create the dataset and background makers for the selected\n",
    "geometry.\n",
    "\n",
    "\n"
   ]
  },
  {
   "cell_type": "code",
   "execution_count": 35,
   "metadata": {},
   "outputs": [],
   "source": [
    "dataset_maker = SpectrumDatasetMaker(\n",
    "    containment_correction=False, selection=[\"counts\", \"exposure\", \"edisp\"]\n",
    ")\n",
    "bkg_maker = ReflectedRegionsBackgroundMaker()\n",
    "safe_mask_masker = SafeMaskMaker(methods=[\"aeff-max\"], aeff_percent=10)"
   ]
  },
  {
   "cell_type": "markdown",
   "metadata": {},
   "source": [
    "### Creation of the datasets\n",
    "\n",
    "Now we perform the actual data reduction in the time_intervals.\n",
    "\n",
    "\n"
   ]
  },
  {
   "cell_type": "code",
   "execution_count": 36,
   "metadata": {},
   "outputs": [
    {
     "name": "stderr",
     "output_type": "stream",
     "text": [
      "/homes/wang/swong/lib/python3.9/site-packages/gammapy/maps/geom.py:48: RuntimeWarning: invalid value encountered in cast\n",
      "  p_idx = np.rint(p).astype(int)\n",
      "/homes/wang/swong/lib/python3.9/site-packages/gammapy/maps/geom.py:48: RuntimeWarning: invalid value encountered in cast\n",
      "  p_idx = np.rint(p).astype(int)\n",
      "/homes/wang/swong/lib/python3.9/site-packages/gammapy/maps/geom.py:48: RuntimeWarning: invalid value encountered in cast\n",
      "  p_idx = np.rint(p).astype(int)\n",
      "/homes/wang/swong/lib/python3.9/site-packages/gammapy/maps/geom.py:48: RuntimeWarning: invalid value encountered in cast\n",
      "  p_idx = np.rint(p).astype(int)\n",
      "/homes/wang/swong/lib/python3.9/site-packages/gammapy/maps/geom.py:48: RuntimeWarning: invalid value encountered in cast\n",
      "  p_idx = np.rint(p).astype(int)\n",
      "/homes/wang/swong/lib/python3.9/site-packages/gammapy/maps/geom.py:48: RuntimeWarning: invalid value encountered in cast\n",
      "  p_idx = np.rint(p).astype(int)\n",
      "/homes/wang/swong/lib/python3.9/site-packages/gammapy/maps/geom.py:48: RuntimeWarning: invalid value encountered in cast\n",
      "  p_idx = np.rint(p).astype(int)\n",
      "/homes/wang/swong/lib/python3.9/site-packages/gammapy/maps/geom.py:48: RuntimeWarning: invalid value encountered in cast\n",
      "  p_idx = np.rint(p).astype(int)\n",
      "/homes/wang/swong/lib/python3.9/site-packages/gammapy/maps/geom.py:48: RuntimeWarning: invalid value encountered in cast\n",
      "  p_idx = np.rint(p).astype(int)\n",
      "/homes/wang/swong/lib/python3.9/site-packages/gammapy/maps/geom.py:48: RuntimeWarning: invalid value encountered in cast\n",
      "  p_idx = np.rint(p).astype(int)\n",
      "/homes/wang/swong/lib/python3.9/site-packages/gammapy/maps/geom.py:48: RuntimeWarning: invalid value encountered in cast\n",
      "  p_idx = np.rint(p).astype(int)\n",
      "/homes/wang/swong/lib/python3.9/site-packages/gammapy/maps/geom.py:48: RuntimeWarning: invalid value encountered in cast\n",
      "  p_idx = np.rint(p).astype(int)\n",
      "/homes/wang/swong/lib/python3.9/site-packages/gammapy/maps/geom.py:48: RuntimeWarning: invalid value encountered in cast\n",
      "  p_idx = np.rint(p).astype(int)\n",
      "/homes/wang/swong/lib/python3.9/site-packages/gammapy/maps/geom.py:48: RuntimeWarning: invalid value encountered in cast\n",
      "  p_idx = np.rint(p).astype(int)\n",
      "/homes/wang/swong/lib/python3.9/site-packages/gammapy/maps/geom.py:48: RuntimeWarning: invalid value encountered in cast\n",
      "  p_idx = np.rint(p).astype(int)\n",
      "/homes/wang/swong/lib/python3.9/site-packages/gammapy/maps/geom.py:48: RuntimeWarning: invalid value encountered in cast\n",
      "  p_idx = np.rint(p).astype(int)\n",
      "/homes/wang/swong/lib/python3.9/site-packages/gammapy/maps/geom.py:48: RuntimeWarning: invalid value encountered in cast\n",
      "  p_idx = np.rint(p).astype(int)\n",
      "/homes/wang/swong/lib/python3.9/site-packages/gammapy/maps/geom.py:48: RuntimeWarning: invalid value encountered in cast\n",
      "  p_idx = np.rint(p).astype(int)\n",
      "/homes/wang/swong/lib/python3.9/site-packages/gammapy/maps/geom.py:48: RuntimeWarning: invalid value encountered in cast\n",
      "  p_idx = np.rint(p).astype(int)\n",
      "/homes/wang/swong/lib/python3.9/site-packages/gammapy/maps/geom.py:48: RuntimeWarning: invalid value encountered in cast\n",
      "  p_idx = np.rint(p).astype(int)\n",
      "/homes/wang/swong/lib/python3.9/site-packages/gammapy/maps/geom.py:48: RuntimeWarning: invalid value encountered in cast\n",
      "  p_idx = np.rint(p).astype(int)\n",
      "/homes/wang/swong/lib/python3.9/site-packages/gammapy/maps/geom.py:48: RuntimeWarning: invalid value encountered in cast\n",
      "  p_idx = np.rint(p).astype(int)\n",
      "/homes/wang/swong/lib/python3.9/site-packages/gammapy/maps/geom.py:48: RuntimeWarning: invalid value encountered in cast\n",
      "  p_idx = np.rint(p).astype(int)\n",
      "/homes/wang/swong/lib/python3.9/site-packages/gammapy/maps/geom.py:48: RuntimeWarning: invalid value encountered in cast\n",
      "  p_idx = np.rint(p).astype(int)\n",
      "/homes/wang/swong/lib/python3.9/site-packages/gammapy/maps/geom.py:48: RuntimeWarning: invalid value encountered in cast\n",
      "  p_idx = np.rint(p).astype(int)\n",
      "/homes/wang/swong/lib/python3.9/site-packages/gammapy/maps/geom.py:48: RuntimeWarning: invalid value encountered in cast\n",
      "  p_idx = np.rint(p).astype(int)\n",
      "/homes/wang/swong/lib/python3.9/site-packages/gammapy/maps/geom.py:48: RuntimeWarning: invalid value encountered in cast\n",
      "  p_idx = np.rint(p).astype(int)\n",
      "/homes/wang/swong/lib/python3.9/site-packages/gammapy/maps/geom.py:48: RuntimeWarning: invalid value encountered in cast\n",
      "  p_idx = np.rint(p).astype(int)\n",
      "/homes/wang/swong/lib/python3.9/site-packages/gammapy/maps/geom.py:48: RuntimeWarning: invalid value encountered in cast\n",
      "  p_idx = np.rint(p).astype(int)\n",
      "/homes/wang/swong/lib/python3.9/site-packages/gammapy/maps/geom.py:48: RuntimeWarning: invalid value encountered in cast\n",
      "  p_idx = np.rint(p).astype(int)\n",
      "/homes/wang/swong/lib/python3.9/site-packages/gammapy/maps/geom.py:48: RuntimeWarning: invalid value encountered in cast\n",
      "  p_idx = np.rint(p).astype(int)\n",
      "/homes/wang/swong/lib/python3.9/site-packages/gammapy/maps/geom.py:48: RuntimeWarning: invalid value encountered in cast\n",
      "  p_idx = np.rint(p).astype(int)\n"
     ]
    }
   ],
   "source": [
    "datasets = Datasets()\n",
    "\n",
    "dataset_empty = SpectrumDataset.create(geom=geom, energy_axis_true=energy_axis_true)\n",
    "\n",
    "for obs in short_observations:\n",
    "    dataset = dataset_maker.run(dataset_empty.copy(), obs)\n",
    "\n",
    "    dataset_on_off = bkg_maker.run(dataset, obs)\n",
    "    dataset_on_off = safe_mask_masker.run(dataset_on_off, obs)\n",
    "    datasets.append(dataset_on_off)"
   ]
  },
  {
   "cell_type": "markdown",
   "metadata": {},
   "source": [
    "## Define the Model\n",
    "\n",
    "The actual flux will depend on the spectral shape assumed. Use what you got from the spectral analysis fit or the model/parameters in the paper."
   ]
  },
  {
   "cell_type": "code",
   "execution_count": 37,
   "metadata": {},
   "outputs": [],
   "source": [
    "spectral_model = PowerLawSpectralModel(\n",
    "    index=2.6, amplitude=4.64e-12 * u.Unit(\"1 / (cm2 s TeV)\") #from wiki ED analysis\n",
    ")\n",
    "spectral_model.parameters[\"index\"].frozen = False\n",
    "\n",
    "sky_model = SkyModel(spatial_model=None, spectral_model=spectral_model, name=\"mrk421\")"
   ]
  },
  {
   "cell_type": "markdown",
   "metadata": {},
   "source": [
    "### Assign to model to all datasets\n",
    "\n",
    "We assign each dataset its spectral model\n",
    "\n",
    "\n"
   ]
  },
  {
   "cell_type": "code",
   "execution_count": 38,
   "metadata": {},
   "outputs": [],
   "source": [
    "datasets.models = sky_model"
   ]
  },
  {
   "cell_type": "markdown",
   "metadata": {},
   "source": [
    "## Extract the light curve\n",
    "\n",
    "We first create the `~gammapy.estimators.LightCurveEstimator` for the\n",
    "list of datasets we just produced. We give the estimator the name of the\n",
    "source component to be fitted.\n",
    "\n",
    "Again, `energy_edges` should match the energy bounds above and the paper. The following 2 cells will actually make your lightcurve, so this may take a while to run.\n"
   ]
  },
  {
   "cell_type": "code",
   "execution_count": 39,
   "metadata": {},
   "outputs": [],
   "source": [
    "lc_maker_1d = LightCurveEstimator(\n",
    "    energy_edges=[0.315, 8] * u.TeV,\n",
    "    source=0,\n",
    "    time_intervals=time_intervals,\n",
    "    selection_optional=None,\n",
    ")"
   ]
  },
  {
   "cell_type": "code",
   "execution_count": 40,
   "metadata": {},
   "outputs": [],
   "source": [
    "lc_1d = lc_maker_1d.run(datasets)"
   ]
  },
  {
   "cell_type": "markdown",
   "metadata": {},
   "source": [
    "# Overlay LC from paper\n",
    "\n",
    "We do some funky things here to properly read in the paper values.\n",
    "\n",
    "Make sure `header` matches your actual .ecsv header (you can copy/paste). You may need to modify the stuff below based on the columns you have in your file."
   ]
  },
  {
   "cell_type": "code",
   "execution_count": 43,
   "metadata": {},
   "outputs": [
    {
     "data": {
      "image/png": "[encoded data removed]",
      "text/plain": [
       "<Figure size 800x600 with 1 Axes>"
      ]
     },
     "metadata": {},
     "output_type": "display_data"
    }
   ],
   "source": [
    "from astropy.table import Table\n",
    "import numpy as np\n",
    "import matplotlib.pyplot as plt\n",
    "header=\"\"\"# %ECSV 1.0\n",
    "# ---\n",
    "# datatype:\n",
    "# - {name: time_min, datatype: float64}\n",
    "# - {name: time_max, datatype: float64}\n",
    "# - {name: e_ref, unit: TeV, datatype: string, subtype: 'float64[1]'}\n",
    "# - {name: e_min, unit: TeV, datatype: string, subtype: 'float64[1]'}\n",
    "# - {name: e_max, unit: TeV, datatype: string, subtype: 'float64[1]'}\n",
    "# - {name: flux, unit: 1 / (m2 s), datatype: string, subtype: 'float64[1]'}\n",
    "# - {name: flux_err, unit: 1 / (m2 s), datatype: string, subtype: 'float64[1]'}\n",
    "# - {name: ts, unit: '', datatype: string, subtype: 'float64[1]'}\n",
    "# - {name: sqrt_ts, unit: '', datatype: string, subtype: 'float64[1]'}\n",
    "# - {name: npred, unit: '', datatype: string, subtype: 'float64[1,44]'}\n",
    "# - {name: npred_excess, unit: '', datatype: string, subtype: 'float64[1,44]'}\n",
    "# - {name: stat, unit: '', datatype: string, subtype: 'float64[1]'}\n",
    "# - {name: is_ul, datatype: string, subtype: 'bool[1]'}\n",
    "# - {name: counts, unit: '', datatype: string, subtype: 'float64[1,44]'}\n",
    "# - {name: success, unit: '', datatype: string, subtype: 'bool[1]'}\n",
    "# schema: astropy-2.0\n",
    "time_min time_max e_ref e_min e_max flux flux_err ts sqrt_ts npred npred_excess stat is_ul counts success\"\"\"\n",
    "\n",
    "\n",
    "with open(\"temptest.ecsv\", \"w\") as myfile:\n",
    "    myfile.write(header)\n",
    "\n",
    "filename = \"1es_paper.ecsv\"\n",
    "\n",
    "imp_tab=Table.read(\"1es_paper.ecsv\")\n",
    "imp_tab[\"e_max\"]=imp_tab[\"e_cut\"]\n",
    "imp_tab[\"e_ref\"]=np.exp(np.log(imp_tab[\"e_min\"])+np.log(imp_tab[\"e_max\"])/2)\n",
    "\n",
    "imp_tab[\"time_min\"]=imp_tab[\"e_cut\"]\n",
    "imp_tab[\"time_max\"]=imp_tab[\"time\"]+(imp_tab[\"time_bin\"]/2.01)\n",
    "imp_tab[\"time_min\"]=imp_tab[\"time\"]-(imp_tab[\"time_bin\"]/2.01)\n",
    "\n",
    "extend=\"[[NaN,NaN,NaN,NaN,NaN,NaN,NaN,NaN,NaN,NaN,NaN,NaN,NaN,NaN,NaN,NaN,NaN,NaN,NaN,NaN,NaN,NaN,NaN,NaN,NaN,NaN,NaN,NaN,NaN,NaN,NaN,NaN,NaN,NaN,NaN,NaN,NaN,NaN,NaN,NaN,NaN,NaN,NaN,NaN]] [[NaN,NaN,NaN,NaN,NaN,NaN,NaN,NaN,NaN,NaN,NaN,NaN,NaN,NaN,NaN,NaN,NaN,NaN,NaN,NaN,NaN,NaN,NaN,NaN,NaN,NaN,NaN,NaN,NaN,NaN,NaN,NaN,NaN,NaN,NaN,NaN,NaN,NaN,NaN,NaN,NaN,NaN,NaN,NaN]] [0.0] [false] [[NaN,NaN,NaN,NaN,NaN,NaN,NaN,NaN,NaN,NaN,NaN,NaN,NaN,NaN,NaN,NaN,NaN,NaN,NaN,NaN,NaN,NaN,NaN,NaN,NaN,NaN,NaN,NaN,NaN,NaN,NaN,NaN,NaN,NaN,NaN,NaN,NaN,NaN,NaN,NaN,NaN,NaN,NaN,NaN]] [true]\"\n",
    "#for i in range(len(imp_tab)):\n",
    "for i in range(len(imp_tab)):\n",
    "\n",
    "    with open(\"temptest.ecsv\", \"a\") as myfile:\n",
    "        myfile.write(f'\\n{imp_tab[i][\"time_min\"]} {imp_tab[i][\"time_max\"]} [{imp_tab[i][\"e_ref\"]}] [{imp_tab[i][\"e_min\"]}] [{imp_tab[i][\"e_max\"]}] [{imp_tab[i][\"flux\"]}] [{imp_tab[i][\"flux_err\"]}] [0] [0] {extend}')\n",
    "\n",
    "\n",
    "from gammapy.estimators import FluxPoints\n",
    "lc_test=FluxPoints.read('temptest.ecsv',reference_model=spectral_model,sed_type='flux',format='lightcurve')\n",
    "plt.figure(figsize=(8, 6))\n",
    "lc_test.plot(sed_type='dnde',marker=\"o\")\n",
    "plt.show()"
   ]
  },
  {
   "cell_type": "markdown",
   "metadata": {},
   "source": [
    "# Overlay our Gammapy results with the paper\n",
    "\n"
   ]
  },
  {
   "cell_type": "code",
   "execution_count": 44,
   "metadata": {
    "scrolled": false
   },
   "outputs": [
    {
     "data": {
      "image/png": "[encoded data removed]",
      "text/plain": [
       "<Figure size 800x600 with 1 Axes>"
      ]
     },
     "metadata": {},
     "output_type": "display_data"
    }
   ],
   "source": [
    "plt.figure(figsize=(8, 6))\n",
    "lc_1d.plot(marker=\"o\",color='g',label='Gammapy')\n",
    "lc_test.plot(sed_type='dnde',marker=\"o\",color='darkgoldenrod',label='1412.1031')\n",
    "#lc_test2.plot(sed_type='dnde',marker=\"o\",label='Eventdisplay')\n",
    "plt.ylabel('dnde 1/(cm2 s TeV) E > 110 GeV')\n",
    "plt.title('1ES 1959+650 (2012)')\n",
    "plt.grid()\n",
    "plt.show()"
   ]
  },
  {
   "cell_type": "markdown",
   "metadata": {},
   "source": [
    "We'll save these values to a file for later"
   ]
  },
  {
   "cell_type": "code",
   "execution_count": 46,
   "metadata": {},
   "outputs": [
    {
     "data": {
      "text/html": [
       "<div><i>Table length=11</i>\n",
       "<table id=\"table140112691051008\" class=\"table-striped table-bordered table-condensed\">\n",
       "<thead><tr><th>time_min</th><th>time_max</th><th>e_ref</th><th>e_min</th><th>e_max</th><th>dnde</th><th>dnde_err</th><th>ts</th><th>sqrt_ts</th><th>npred</th><th>npred_excess</th><th>stat</th><th>is_ul</th><th>counts</th><th>success</th></tr></thead>\n",
       "<thead><tr><th></th><th></th><th>TeV</th><th>TeV</th><th>TeV</th><th>1 / (cm2 s TeV)</th><th>1 / (cm2 s TeV)</th><th></th><th></th><th></th><th></th><th></th><th></th><th></th><th></th></tr></thead>\n",
       "<thead><tr><th>float64</th><th>float64</th><th>float64[1]</th><th>float64[1]</th><th>float64[1]</th><th>float64[1]</th><th>float64[1]</th><th>float64[1]</th><th>float64[1]</th><th>float64[1,16]</th><th>float64[1,16]</th><th>float64[1]</th><th>bool[1]</th><th>float64[1,16]</th><th>bool[1]</th></tr></thead>\n",
       "<tr><td>56067.39376601852</td><td>56067.400710462956</td><td>1.5874507866387542</td><td>0.315</td><td>7.999999999999999</td><td>5.069217083231274e-12</td><td>1.3466764087437628e-12</td><td>43.93308214552986</td><td>6.628203538329965</td><td>nan .. nan</td><td>nan .. nan</td><td>20.597291503549577</td><td>False</td><td>nan .. nan</td><td>True</td></tr>\n",
       "<tr><td>56067.400710462956</td><td>56067.4076549074</td><td>1.5874507866387542</td><td>0.315</td><td>7.999999999999999</td><td>6.073561742528918e-12</td><td>1.5319060115993427e-12</td><td>66.80262068578098</td><td>8.173287018438847</td><td>nan .. nan</td><td>nan .. nan</td><td>8.451207711910067</td><td>False</td><td>nan .. nan</td><td>True</td></tr>\n",
       "<tr><td>56067.4076549074</td><td>56067.41459935185</td><td>1.5874507866387542</td><td>0.315</td><td>7.999999999999999</td><td>4.974383861841778e-12</td><td>1.3351621400564416e-12</td><td>47.33848415311505</td><td>6.880296807050917</td><td>nan .. nan</td><td>nan .. nan</td><td>12.32746854865749</td><td>False</td><td>nan .. nan</td><td>True</td></tr>\n",
       "<tr><td>56067.41459935185</td><td>56067.42154379629</td><td>1.5874507866387542</td><td>0.315</td><td>7.999999999999999</td><td>1.0062194813135277e-11</td><td>1.9433280110686165e-12</td><td>102.98966884343692</td><td>10.148382572776654</td><td>4.331267474633855 .. nan</td><td>4.196356296539307 .. nan</td><td>18.17481733496946</td><td>False</td><td>5.0 .. nan</td><td>True</td></tr>\n",
       "<tr><td>56067.42154379629</td><td>56067.42848824074</td><td>1.5874507866387542</td><td>0.315</td><td>7.999999999999999</td><td>6.3913197603160095e-12</td><td>1.4891193381289931e-12</td><td>68.27620225922503</td><td>8.262941501621867</td><td>nan .. nan</td><td>nan .. nan</td><td>18.446541254578168</td><td>False</td><td>nan .. nan</td><td>True</td></tr>\n",
       "<tr><td>56067.42848824074</td><td>56067.43543268518</td><td>1.5874507866387542</td><td>0.315</td><td>7.999999999999999</td><td>7.329712506310145e-12</td><td>1.6343353788992794e-12</td><td>75.36260704411914</td><td>8.681163922200707</td><td>nan .. nan</td><td>nan .. nan</td><td>24.2689792557302</td><td>False</td><td>nan .. nan</td><td>True</td></tr>\n",
       "<tr><td>56067.43543268518</td><td>56067.44237712963</td><td>1.5874507866387542</td><td>0.315</td><td>7.999999999999999</td><td>4.467463714981508e-12</td><td>1.257663120449891e-12</td><td>43.99938305903005</td><td>6.6332030768724435</td><td>nan .. nan</td><td>nan .. nan</td><td>7.694197162479649</td><td>False</td><td>nan .. nan</td><td>True</td></tr>\n",
       "<tr><td>56067.44237712963</td><td>56067.44932157407</td><td>1.5874507866387542</td><td>0.315</td><td>7.999999999999999</td><td>1.163561791303915e-12</td><td>7.249117784209922e-13</td><td>5.1476684290041135</td><td>2.268847378957896</td><td>nan .. 2.4846334316268117</td><td>nan .. 2.1475298404693604</td><td>7.640175870815185</td><td>False</td><td>nan .. 4.0</td><td>True</td></tr>\n",
       "<tr><td>56067.44932157407</td><td>56067.45626601852</td><td>1.5874507866387542</td><td>0.315</td><td>7.999999999999999</td><td>3.319656931623904e-12</td><td>1.0674536797133985e-12</td><td>33.01210974782933</td><td>5.745616568117762</td><td>nan .. nan</td><td>nan .. nan</td><td>7.30702260173767</td><td>False</td><td>nan .. nan</td><td>True</td></tr>\n",
       "<tr><td>56067.45626601852</td><td>56067.463210462956</td><td>1.5874507866387542</td><td>0.315</td><td>7.999999999999999</td><td>2.2411824348954172e-12</td><td>9.095985295118472e-13</td><td>20.2720290706721</td><td>4.502447009202007</td><td>nan .. nan</td><td>nan .. nan</td><td>9.830943709767471</td><td>False</td><td>nan .. nan</td><td>True</td></tr>\n",
       "<tr><td>56067.463210462956</td><td>56067.4701549074</td><td>1.5874507866387542</td><td>0.315</td><td>7.999999999999999</td><td>4.2732371638150686e-12</td><td>1.3668639227637935e-12</td><td>38.89725234022605</td><td>6.236766176491312</td><td>nan .. nan</td><td>nan .. nan</td><td>10.055494592343264</td><td>False</td><td>nan .. nan</td><td>True</td></tr>\n",
       "</table></div>"
      ],
      "text/plain": [
       "<Table length=11>\n",
       "     time_min           time_max            e_ref          e_min    ...        stat         is_ul      counts    success\n",
       "                                             TeV            TeV     ...                                                 \n",
       "     float64            float64           float64[1]     float64[1] ...     float64[1]     bool[1] float64[1,16] bool[1]\n",
       "------------------ ------------------ ------------------ ---------- ... ------------------ ------- ------------- -------\n",
       " 56067.39376601852 56067.400710462956 1.5874507866387542      0.315 ... 20.597291503549577   False    nan .. nan    True\n",
       "56067.400710462956   56067.4076549074 1.5874507866387542      0.315 ...  8.451207711910067   False    nan .. nan    True\n",
       "  56067.4076549074  56067.41459935185 1.5874507866387542      0.315 ...  12.32746854865749   False    nan .. nan    True\n",
       " 56067.41459935185  56067.42154379629 1.5874507866387542      0.315 ...  18.17481733496946   False    5.0 .. nan    True\n",
       " 56067.42154379629  56067.42848824074 1.5874507866387542      0.315 ... 18.446541254578168   False    nan .. nan    True\n",
       " 56067.42848824074  56067.43543268518 1.5874507866387542      0.315 ...   24.2689792557302   False    nan .. nan    True\n",
       " 56067.43543268518  56067.44237712963 1.5874507866387542      0.315 ...  7.694197162479649   False    nan .. nan    True\n",
       " 56067.44237712963  56067.44932157407 1.5874507866387542      0.315 ...  7.640175870815185   False    nan .. 4.0    True\n",
       " 56067.44932157407  56067.45626601852 1.5874507866387542      0.315 ...   7.30702260173767   False    nan .. nan    True\n",
       " 56067.45626601852 56067.463210462956 1.5874507866387542      0.315 ...  9.830943709767471   False    nan .. nan    True\n",
       "56067.463210462956   56067.4701549074 1.5874507866387542      0.315 ... 10.055494592343264   False    nan .. nan    True"
      ]
     },
     "metadata": {},
     "output_type": "display_data"
    }
   ],
   "source": [
    "out = lc_1d.to_table(sed_type='dnde',format='lightcurve')\n",
    "display(out)\n",
    "out.write('mrk421_lc_values.ecsv', overwrite=True)  "
   ]
  },
  {
   "cell_type": "code",
   "execution_count": null,
   "metadata": {},
   "outputs": [],
   "source": []
  }
 ],
 "metadata": {
  "kernelspec": {
   "display_name": "Python 3 (ipykernel)",
   "language": "python",
   "name": "python3"
  },
  "language_info": {
   "codemirror_mode": {
    "name": "ipython",
    "version": 3
   },
   "file_extension": ".py",
   "mimetype": "text/x-python",
   "name": "python",
   "nbconvert_exporter": "python",
   "pygments_lexer": "ipython3",
   "version": "3.9.2"
  }
 },
 "nbformat": 4,
 "nbformat_minor": 1
}
