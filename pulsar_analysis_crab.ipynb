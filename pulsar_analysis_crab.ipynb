{
 "cells": [
  {
   "cell_type": "code",
   "execution_count": 1,
   "metadata": {
    "jupyter": {
     "outputs_hidden": false
    }
   },
   "outputs": [],
   "source": [
    "%matplotlib inline"
   ]
  },
  {
   "cell_type": "markdown",
   "metadata": {},
   "source": [
    "\n",
    "# Pulsar analysis\n",
    "\n",
    "Produce a phasogram, phased-resolved maps and spectra for pulsar analysis.\n",
    " \n",
    "## Introduction\n",
    "\n",
    "This notebook shows how to do a simple pulsar analysis with Gammapy. We will produce a\n",
    "phasogram, a phase-resolved map and a phase-resolved spectrum of the Vela pulsar. In\n",
    "order to build these products, we will use the\n",
    "`~gammapy.makers.PhaseBackgroundMaker` which takes into account the on and off phase to compute a\n",
    "`~gammapy.datasets.MapDatasetOnOff` and a `~gammapy.datasets.SpectrumDatasetOnOff` in the phase space.\n",
    "\n",
    "This tutorial uses a simulated run of vel observation from the CTA DC1, which already contains a\n",
    "column for the pulsar phases. The phasing in itself is therefore not show here. It\n",
    "requires specific packages like Tempo2 or [PINT](https://nanograv-pint.readthedocs.io)_. A gammapy\n",
    "recipe shows how to compute phases with PINT in the framework of Gammapy.\n",
    "\n",
    "\n",
    "\n",
    "## Opening the data\n",
    "\n",
    "Let’s first do the imports and load the only observation containing Vela\n",
    "in the CTA 1DC dataset shipped with Gammapy.\n"
   ]
  },
  {
   "cell_type": "code",
   "execution_count": 2,
   "metadata": {
    "jupyter": {
     "outputs_hidden": false
    }
   },
   "outputs": [],
   "source": [
    "# Remove warnings\n",
    "import warnings\n",
    "import numpy as np\n",
    "import astropy.units as u\n",
    "from astropy.coordinates import SkyCoord\n",
    "from astropy.io import ascii\n",
    "import matplotlib.pyplot as plt\n",
    "import pandas as pd\n",
    "\n",
    "# %matplotlib inline\n",
    "from IPython.display import display\n",
    "from gammapy.data import DataStore, EventList\n",
    "from gammapy.datasets import Datasets, FluxPointsDataset, MapDataset, SpectrumDataset\n",
    "from gammapy.estimators import ExcessMapEstimator, FluxPointsEstimator\n",
    "from gammapy.makers import (\n",
    "    MapDatasetMaker,\n",
    "    PhaseBackgroundMaker,\n",
    "    SafeMaskMaker,\n",
    "    SpectrumDatasetMaker,\n",
    ")\n",
    "from gammapy.maps import MapAxis, RegionGeom, WcsGeom\n",
    "from gammapy.modeling import Fit\n",
    "from gammapy.modeling.models import PowerLawSpectralModel, SkyModel\n",
    "from gammapy.stats import WStatCountsStatistic\n",
    "from gammapy.utils.regions import SphericalCircleSkyRegion, CircleSkyRegion\n",
    "\n",
    "from pathlib import Path\n",
    "from astroquery.simbad import Simbad\n",
    "\n",
    "\n",
    "warnings.filterwarnings(\"ignore\")"
   ]
  },
  {
   "cell_type": "code",
   "execution_count": 3,
   "metadata": {},
   "outputs": [
    {
     "data": {
      "text/plain": [
       "'/homes/wang/swong/.local/lib/python3.9/site-packages/gammapy/__init__.py'"
      ]
     },
     "execution_count": 3,
     "metadata": {},
     "output_type": "execute_result"
    }
   ],
   "source": [
    "import gammapy\n",
    "gammapy.__file__"
   ]
  },
  {
   "cell_type": "markdown",
   "metadata": {},
   "source": [
    "## Check setup\n",
    "\n"
   ]
  },
  {
   "cell_type": "markdown",
   "metadata": {},
   "source": [
    "Load the data store (which is a subset of CTA-DC1 data):\n",
    "\n"
   ]
  },
  {
   "cell_type": "code",
   "execution_count": 4,
   "metadata": {
    "jupyter": {
     "outputs_hidden": false
    }
   },
   "outputs": [],
   "source": [
    "# data_store = DataStore.from_dir(\"/Users/dinahibrahim/Desktop/SUMMER_2024_RESEARCH/Code/Data/dl3_fullenclosure_supersoftNN2tel_runwise\", hdu_table_filename=\"hdu-index-crab.fits.gz\")\n",
    "\n",
    "data_store = DataStore.from_dir(\"/raid/romulus/swong/mydl3/crabpsr2024_runwise/\", hdu_table_filename=\"hdu-index-crab.fits.gz\")"
   ]
  },
  {
   "cell_type": "markdown",
   "metadata": {},
   "source": [
    "Define observation ID and print events:\n",
    "\n"
   ]
  },
  {
   "cell_type": "code",
   "execution_count": 5,
   "metadata": {
    "jupyter": {
     "outputs_hidden": false
    },
    "scrolled": true
   },
   "outputs": [],
   "source": [
    "id_list,event,phase = np.genfromtxt(Path('/raid/romulus/swong/CrabTempo2WithJodrell/crab_phases_TEMPO2.csv'),delimiter=',',usecols=(0,1,2),unpack=True,dtype=(int,int,float)) \n",
    "\n",
    "obs_list_crab = data_store.get_observations(skip_missing = True, required_irf = \"point-like\")\n",
    "# print(obs_list_crab)\n",
    "\n",
    "# print(len(obs_list_crab))\n",
    "# print(obs_list_crab[10].events)"
   ]
  },
  {
   "cell_type": "markdown",
   "metadata": {},
   "source": [
    "Now that we have our observation, let’s select the events in 0.12° radius (super soft cuts)\n",
    "around the pulsar position.\n",
    "\n"
   ]
  },
  {
   "cell_type": "code",
   "execution_count": 239,
   "metadata": {
    "jupyter": {
     "outputs_hidden": false
    }
   },
   "outputs": [],
   "source": [
    "pos_target = SkyCoord(SkyCoord(ra=83.633114, dec=22.014487, unit=\"deg\", frame=\"icrs\"))\n",
    "on_radius = 0.2*u.deg #0.0894427191 * u.deg\n",
    "on_region = SphericalCircleSkyRegion(pos_target, on_radius)\n",
    "\n",
    "\n",
    "# Apply angular selection\n",
    "from gammapy.data import EventList\n",
    "\n",
    "events_crab = obs_list_crab[0].events.select_region(on_region)\n",
    "\n",
    "# stack dataset when more than one run\n",
    "for obs in obs_list_crab[1:]: \n",
    "    events_crab.stack(obs.events.select_region(on_region))"
   ]
  },
  {
   "cell_type": "markdown",
   "metadata": {},
   "source": [
    "Let’s load the phases of the selected events in a dedicated array.\n",
    "\n"
   ]
  },
  {
   "cell_type": "code",
   "execution_count": 241,
   "metadata": {
    "jupyter": {
     "outputs_hidden": false
    }
   },
   "outputs": [],
   "source": [
    "phases = events_crab.table[\"PHASE\"]"
   ]
  },
  {
   "cell_type": "code",
   "execution_count": 9,
   "metadata": {},
   "outputs": [],
   "source": [
    "# events_table"
   ]
  },
  {
   "cell_type": "markdown",
   "metadata": {},
   "source": [
    "## Phasogram\n",
    "\n",
    "Once we have the phases, we can make a phasogram. A phasogram is a\n",
    "histogram of phases. It works exactly like any other histogram (you\n",
    "can set the binning, evaluate the errors based on the counts in each\n",
    "bin, etc).\n",
    "\n"
   ]
  },
  {
   "cell_type": "code",
   "execution_count": 242,
   "metadata": {
    "jupyter": {
     "outputs_hidden": false
    }
   },
   "outputs": [
    {
     "data": {
      "image/png": "[encoded data removed]",
      "text/plain": [
       "<Figure size 936x576 with 1 Axes>"
      ]
     },
     "metadata": {
      "needs_background": "light"
     },
     "output_type": "display_data"
    }
   ],
   "source": [
    "from astropy.table import Table, vstack\n",
    "\n",
    "nbins = 50\n",
    "phase_min, phase_max = (0, 1)\n",
    "values, bin_edges = np.histogram(phases, range=(phase_min, phase_max), bins=nbins)\n",
    "\n",
    "bin_width = (phase_max - phase_min) / nbins\n",
    "\n",
    "bin_center = (bin_edges[:-1] + bin_edges[1:]) / 2\n",
    "\n",
    "# Poissonian uncertainty on each bin\n",
    "values_err = np.sqrt(values)\n",
    "\n",
    "# double the range to show phases from 0 to 2\n",
    "values_double = values.copy()\n",
    "values_err_double = values_err.copy()\n",
    "bin_center_double = bin_center.copy() + 1\n",
    "\n",
    "\n",
    "nbins_full = nbins * 2\n",
    "values_full = np.concatenate([values, values_double])\n",
    "values_err_full = np.concatenate([values_err, values_err_double])\n",
    "bin_center_full = np.concatenate([bin_center, bin_center_double])\n",
    "bin_width_full = ((phase_max + 1) - phase_min) / nbins_full\n",
    "\n",
    "\n",
    "fig, ax = plt.subplots(figsize=(13, 8))\n",
    "ax.bar(\n",
    "    x=bin_center_full,\n",
    "    height=values_full,\n",
    "    width=bin_width_full,\n",
    "    color=\"orangered\",\n",
    "    alpha=0.7,\n",
    "    edgecolor=\"black\",\n",
    "    yerr=values_err_full,\n",
    ")\n",
    "ax.set_xlim(0, 2)\n",
    "ax.set_ylim(np.amin(values) - 30 ,np.amax(values) + 30)\n",
    "ax.set_xlabel(\"Phase\")\n",
    "ax.set_ylabel(\"Counts\")\n",
    "ax.set_title(f\"Phasogram with angular cut of {on_radius}\")\n",
    "# plt.figure(figsize = (11, 3))\n",
    "# plt.savefig(\"Figures/Phasogram_supersoft_crabV6_multiple_ephemeris_above120GeV.png\", bbox_inches='tight')\n",
    "plt.show()\n",
    "\n",
    "# double the range to have it from 0 to 2\n"
   ]
  },
  {
   "cell_type": "markdown",
   "metadata": {},
   "source": [
    "Now let’s add some fancy additions to our phasogram: a patch on the ON-\n",
    "and OFF-phase regions and one for the background level.\n",
    "\n"
   ]
  },
  {
   "cell_type": "code",
   "execution_count": 243,
   "metadata": {
    "jupyter": {
     "outputs_hidden": false
    }
   },
   "outputs": [
    {
     "name": "stdout",
     "output_type": "stream",
     "text": [
      "Number of Off events: 66041\n"
     ]
    }
   ],
   "source": [
    "on_phase_range = (0.33, 0.36)\n",
    "off_phase_range = (0.5, 0.9)\n",
    "#on_phase_range = (0.5, 0.7)\n",
    "#off_phase_range = (0.1, 0.3)\n",
    "# Evaluate background level\n",
    "mask_off = (off_phase_range[0] < np.array(phases)) & (np.array(phases) < off_phase_range[1])\n",
    "\n",
    "count_bkg = mask_off.sum()\n",
    "print(f\"Number of Off events: {count_bkg}\")\n",
    "\n",
    "# bkg level normalized by the size of the OFF zone (0.3)\n",
    "bkg = count_bkg / nbins / (off_phase_range[1] - off_phase_range[0])\n",
    "\n",
    "# error on the background estimation\n",
    "bkg_err = np.sqrt(count_bkg) / nbins / (off_phase_range[1] - off_phase_range[0])"
   ]
  },
  {
   "cell_type": "markdown",
   "metadata": {},
   "source": [
    "Let's redo the same plot for the basis\n",
    "\n"
   ]
  },
  {
   "cell_type": "code",
   "execution_count": 244,
   "metadata": {
    "jupyter": {
     "outputs_hidden": false
    }
   },
   "outputs": [
    {
     "data": {
      "image/png": "[encoded data removed]",
      "text/plain": [
       "<Figure size 720x504 with 1 Axes>"
      ]
     },
     "metadata": {
      "needs_background": "light"
     },
     "output_type": "display_data"
    }
   ],
   "source": [
    "fig, ax = plt.subplots(figsize=(10, 7))\n",
    "ax.bar(\n",
    "    x=bin_center_full,\n",
    "    height=values_full,\n",
    "    width=bin_width_full,\n",
    "    color=\"orangered\",\n",
    "    alpha=0.7,\n",
    "    edgecolor=\"black\",\n",
    "    yerr=values_err_full,\n",
    ")\n",
    "\n",
    "# Plot background level\n",
    "x_bkg = np.linspace(0, 2, 50)\n",
    "\n",
    "kwargs = {\"color\": \"black\", \"alpha\": 0.7, \"ls\": \"--\", \"lw\": 2}\n",
    "\n",
    "ax.plot(x_bkg, (bkg - bkg_err) * np.ones_like(x_bkg), **kwargs)\n",
    "ax.plot(x_bkg, (bkg + bkg_err) * np.ones_like(x_bkg), **kwargs)\n",
    "\n",
    "ax.fill_between(\n",
    "    x_bkg, bkg - bkg_err, bkg + bkg_err, facecolor=\"grey\", alpha=0.5\n",
    ")  # grey area for the background level\n",
    "\n",
    "# Let's make patches for the on and off phase zones\n",
    "on_patch = ax.axvspan(\n",
    "    on_phase_range[0], on_phase_range[1], alpha=0.5, color=\"royalblue\", ec=\"black\"\n",
    ")\n",
    "\n",
    "off_patch = ax.axvspan(\n",
    "    off_phase_range[0],\n",
    "    off_phase_range[1],\n",
    "    alpha=0.25,\n",
    "    color=\"white\",\n",
    "    hatch=\"x\",\n",
    "    ec=\"black\",\n",
    ")\n",
    "\n",
    "# Legends \"ON\" and \"OFF\"\n",
    "# ax.text(0.18, 5, \"ON\", color=\"black\", fontsize=17, ha=\"center\")\n",
    "# ax.text(0.63, 5, \"OFF\", color=\"black\", fontsize=17, ha=\"center\")\n",
    "ax.set_xlabel(\"Phase\")\n",
    "ax.set_ylabel(\"Counts\")\n",
    "ax.set_xlim(0, 1)\n",
    "ax.set_ylim(np.amin(values) - 30 ,np.amax(values) + 30)\n",
    "ax.set_title(f\"Phasogram with angular cut of {on_radius}\")\n",
    "#plt.savefig(\"Figures/PhasogramCrab_1000000_v1\")\n",
    "plt.show()"
   ]
  },
  {
   "cell_type": "markdown",
   "metadata": {},
   "source": [
    "## Make a Li&Ma test over the events\n",
    "\n",
    "Another thing that we want to do is to compute a Li&Ma test between the on-phase and the off-phase.\n",
    "\n"
   ]
  },
  {
   "cell_type": "code",
   "execution_count": 245,
   "metadata": {
    "jupyter": {
     "outputs_hidden": false
    }
   },
   "outputs": [
    {
     "name": "stdout",
     "output_type": "stream",
     "text": [
      "Number of excess counts: 470.92500000000473\n",
      "TS: 40.3022071341984\n",
      "Significance: 6.348401935463633\n"
     ]
    }
   ],
   "source": [
    "# Calculate the ratio between the on-phase and the off-phase\n",
    "alpha = (on_phase_range[1] - on_phase_range[0]) / (\n",
    "    off_phase_range[1] - off_phase_range[0]\n",
    ")\n",
    "\n",
    "# Select events in the on region\n",
    "# region_events = obs_list_crab[0].events.select_region(on_region)\n",
    "\n",
    "# Select events in phase space\n",
    "on_events = events_crab.select_parameter(\"PHASE\", band=on_phase_range)\n",
    "off_events = events_crab.select_parameter(\"PHASE\", band=off_phase_range)\n",
    "\n",
    "# Apply the WStat (Li&Ma statistic)\n",
    "pulse_stat = WStatCountsStatistic(\n",
    "    len(on_events.time), len(off_events.time), alpha=alpha\n",
    ")\n",
    "\n",
    "print(f\"Number of excess counts: {pulse_stat.n_sig}\")\n",
    "print(f\"TS: {pulse_stat.ts}\")\n",
    "print(f\"Significance: {pulse_stat.sqrt_ts}\")"
   ]
  },
  {
   "cell_type": "markdown",
   "metadata": {},
   "source": [
    "## Phase-resolved map\n",
    "\n"
   ]
  },
  {
   "cell_type": "markdown",
   "metadata": {},
   "source": [
    "Now that we have an overview of the phasogram of the pulsar, we can do a phase-resolved sky map\n",
    ": a map of the ON-phase events minus alpha times the OFF-phase events.\n",
    "Alpha is the ratio between the size of the ON-phase zone (here 0.1) and\n",
    "the OFF-phase zone (0.3).\n",
    "\n"
   ]
  },
  {
   "cell_type": "code",
   "execution_count": 246,
   "metadata": {
    "jupyter": {
     "outputs_hidden": false
    }
   },
   "outputs": [],
   "source": [
    "e_true = MapAxis.from_energy_bounds(\n",
    "    0.001, 30, 6, per_decade=True, unit=\"TeV\", name=\"energy_true\"\n",
    ")\n",
    "e_reco = MapAxis.from_energy_bounds(\n",
    "    0.01, 30, 4, per_decade=True, unit=\"TeV\", name=\"energy\"\n",
    ")\n",
    "\n",
    "geom = WcsGeom.create(\n",
    "    binsz=0.02 * u.deg, skydir=pos_target, width=\"4 deg\", axes=[e_reco]\n",
    ")"
   ]
  },
  {
   "cell_type": "markdown",
   "metadata": {},
   "source": [
    "Let’s create an ON-map and an OFF-map:\n",
    "\n"
   ]
  },
  {
   "cell_type": "code",
   "execution_count": 249,
   "metadata": {
    "jupyter": {
     "outputs_hidden": false
    },
    "scrolled": true
   },
   "outputs": [
    {
     "data": {
      "application/vnd.jupyter.widget-view+json": {
       "model_id": "88b024a48f5f447cbecde3a3e8cf3718",
       "version_major": 2,
       "version_minor": 0
      },
      "text/plain": [
       "  0%|          | 0/137 [00:00<?, ?it/s]"
      ]
     },
     "metadata": {},
     "output_type": "display_data"
    },
    {
     "name": "stderr",
     "output_type": "stream",
     "text": [
      "The meta information will be empty here.\n",
      "The meta information will be empty here.\n",
      "The meta information will be empty here.\n",
      "The meta information will be empty here.\n",
      "The meta information will be empty here.\n",
      "The meta information will be empty here.\n",
      "The meta information will be empty here.\n",
      "The meta information will be empty here.\n",
      "The meta information will be empty here.\n",
      "The meta information will be empty here.\n",
      "The meta information will be empty here.\n",
      "The meta information will be empty here.\n",
      "The meta information will be empty here.\n",
      "The meta information will be empty here.\n",
      "The meta information will be empty here.\n",
      "The meta information will be empty here.\n",
      "The meta information will be empty here.\n",
      "The meta information will be empty here.\n",
      "The meta information will be empty here.\n",
      "The meta information will be empty here.\n",
      "The meta information will be empty here.\n",
      "The meta information will be empty here.\n",
      "The meta information will be empty here.\n",
      "The meta information will be empty here.\n",
      "The meta information will be empty here.\n",
      "The meta information will be empty here.\n",
      "The meta information will be empty here.\n",
      "The meta information will be empty here.\n",
      "The meta information will be empty here.\n",
      "The meta information will be empty here.\n",
      "The meta information will be empty here.\n",
      "The meta information will be empty here.\n",
      "The meta information will be empty here.\n",
      "The meta information will be empty here.\n",
      "The meta information will be empty here.\n",
      "The meta information will be empty here.\n",
      "The meta information will be empty here.\n",
      "The meta information will be empty here.\n",
      "The meta information will be empty here.\n",
      "The meta information will be empty here.\n",
      "The meta information will be empty here.\n",
      "The meta information will be empty here.\n",
      "The meta information will be empty here.\n",
      "The meta information will be empty here.\n",
      "The meta information will be empty here.\n",
      "The meta information will be empty here.\n",
      "The meta information will be empty here.\n",
      "The meta information will be empty here.\n",
      "The meta information will be empty here.\n",
      "The meta information will be empty here.\n",
      "The meta information will be empty here.\n",
      "The meta information will be empty here.\n",
      "The meta information will be empty here.\n",
      "The meta information will be empty here.\n",
      "The meta information will be empty here.\n",
      "The meta information will be empty here.\n",
      "The meta information will be empty here.\n",
      "The meta information will be empty here.\n",
      "The meta information will be empty here.\n",
      "The meta information will be empty here.\n",
      "The meta information will be empty here.\n",
      "The meta information will be empty here.\n",
      "The meta information will be empty here.\n",
      "The meta information will be empty here.\n",
      "The meta information will be empty here.\n",
      "The meta information will be empty here.\n",
      "The meta information will be empty here.\n",
      "The meta information will be empty here.\n",
      "The meta information will be empty here.\n",
      "The meta information will be empty here.\n",
      "The meta information will be empty here.\n",
      "The meta information will be empty here.\n",
      "The meta information will be empty here.\n",
      "The meta information will be empty here.\n",
      "The meta information will be empty here.\n",
      "The meta information will be empty here.\n",
      "The meta information will be empty here.\n",
      "The meta information will be empty here.\n",
      "The meta information will be empty here.\n",
      "The meta information will be empty here.\n",
      "The meta information will be empty here.\n",
      "The meta information will be empty here.\n",
      "The meta information will be empty here.\n",
      "The meta information will be empty here.\n",
      "The meta information will be empty here.\n",
      "The meta information will be empty here.\n",
      "The meta information will be empty here.\n",
      "The meta information will be empty here.\n",
      "The meta information will be empty here.\n",
      "The meta information will be empty here.\n",
      "The meta information will be empty here.\n",
      "The meta information will be empty here.\n",
      "The meta information will be empty here.\n",
      "The meta information will be empty here.\n",
      "The meta information will be empty here.\n",
      "The meta information will be empty here.\n",
      "The meta information will be empty here.\n",
      "The meta information will be empty here.\n",
      "The meta information will be empty here.\n",
      "The meta information will be empty here.\n",
      "The meta information will be empty here.\n",
      "The meta information will be empty here.\n",
      "The meta information will be empty here.\n",
      "The meta information will be empty here.\n",
      "The meta information will be empty here.\n",
      "The meta information will be empty here.\n",
      "The meta information will be empty here.\n",
      "The meta information will be empty here.\n",
      "The meta information will be empty here.\n",
      "The meta information will be empty here.\n",
      "The meta information will be empty here.\n",
      "The meta information will be empty here.\n",
      "The meta information will be empty here.\n",
      "The meta information will be empty here.\n",
      "The meta information will be empty here.\n",
      "The meta information will be empty here.\n",
      "The meta information will be empty here.\n",
      "The meta information will be empty here.\n",
      "The meta information will be empty here.\n",
      "The meta information will be empty here.\n",
      "The meta information will be empty here.\n",
      "The meta information will be empty here.\n",
      "The meta information will be empty here.\n",
      "The meta information will be empty here.\n",
      "The meta information will be empty here.\n",
      "The meta information will be empty here.\n",
      "The meta information will be empty here.\n",
      "The meta information will be empty here.\n",
      "The meta information will be empty here.\n",
      "The meta information will be empty here.\n",
      "The meta information will be empty here.\n",
      "The meta information will be empty here.\n",
      "The meta information will be empty here.\n",
      "The meta information will be empty here.\n",
      "The meta information will be empty here.\n",
      "The meta information will be empty here.\n",
      "The meta information will be empty here.\n",
      "The meta information will be empty here.\n",
      "The meta information will be empty here.\n",
      "The meta information will be empty here.\n",
      "The meta information will be empty here.\n",
      "The meta information will be empty here.\n",
      "The meta information will be empty here.\n",
      "The meta information will be empty here.\n",
      "The meta information will be empty here.\n",
      "The meta information will be empty here.\n",
      "The meta information will be empty here.\n",
      "The meta information will be empty here.\n",
      "The meta information will be empty here.\n",
      "The meta information will be empty here.\n",
      "The meta information will be empty here.\n",
      "The meta information will be empty here.\n",
      "The meta information will be empty here.\n",
      "The meta information will be empty here.\n",
      "The meta information will be empty here.\n",
      "The meta information will be empty here.\n",
      "The meta information will be empty here.\n",
      "The meta information will be empty here.\n",
      "The meta information will be empty here.\n",
      "The meta information will be empty here.\n",
      "The meta information will be empty here.\n",
      "The meta information will be empty here.\n",
      "The meta information will be empty here.\n",
      "The meta information will be empty here.\n",
      "The meta information will be empty here.\n",
      "The meta information will be empty here.\n",
      "The meta information will be empty here.\n",
      "The meta information will be empty here.\n",
      "The meta information will be empty here.\n",
      "The meta information will be empty here.\n",
      "The meta information will be empty here.\n",
      "The meta information will be empty here.\n",
      "The meta information will be empty here.\n",
      "The meta information will be empty here.\n",
      "The meta information will be empty here.\n",
      "The meta information will be empty here.\n",
      "The meta information will be empty here.\n",
      "The meta information will be empty here.\n",
      "The meta information will be empty here.\n",
      "The meta information will be empty here.\n",
      "The meta information will be empty here.\n",
      "The meta information will be empty here.\n",
      "The meta information will be empty here.\n",
      "The meta information will be empty here.\n",
      "The meta information will be empty here.\n",
      "The meta information will be empty here.\n",
      "The meta information will be empty here.\n",
      "The meta information will be empty here.\n",
      "The meta information will be empty here.\n",
      "The meta information will be empty here.\n",
      "The meta information will be empty here.\n",
      "The meta information will be empty here.\n",
      "The meta information will be empty here.\n",
      "The meta information will be empty here.\n",
      "The meta information will be empty here.\n",
      "The meta information will be empty here.\n",
      "The meta information will be empty here.\n",
      "The meta information will be empty here.\n",
      "The meta information will be empty here.\n",
      "The meta information will be empty here.\n"
     ]
    },
    {
     "name": "stderr",
     "output_type": "stream",
     "text": [
      "The meta information will be empty here.\n",
      "The meta information will be empty here.\n",
      "The meta information will be empty here.\n",
      "The meta information will be empty here.\n",
      "The meta information will be empty here.\n",
      "The meta information will be empty here.\n",
      "The meta information will be empty here.\n",
      "The meta information will be empty here.\n",
      "The meta information will be empty here.\n",
      "The meta information will be empty here.\n",
      "The meta information will be empty here.\n",
      "The meta information will be empty here.\n",
      "The meta information will be empty here.\n",
      "The meta information will be empty here.\n",
      "The meta information will be empty here.\n",
      "The meta information will be empty here.\n",
      "The meta information will be empty here.\n",
      "The meta information will be empty here.\n",
      "The meta information will be empty here.\n",
      "The meta information will be empty here.\n",
      "The meta information will be empty here.\n",
      "The meta information will be empty here.\n",
      "The meta information will be empty here.\n",
      "The meta information will be empty here.\n",
      "The meta information will be empty here.\n",
      "The meta information will be empty here.\n",
      "The meta information will be empty here.\n",
      "The meta information will be empty here.\n",
      "The meta information will be empty here.\n",
      "The meta information will be empty here.\n",
      "The meta information will be empty here.\n",
      "The meta information will be empty here.\n",
      "The meta information will be empty here.\n",
      "The meta information will be empty here.\n",
      "The meta information will be empty here.\n",
      "The meta information will be empty here.\n",
      "The meta information will be empty here.\n",
      "The meta information will be empty here.\n",
      "The meta information will be empty here.\n",
      "The meta information will be empty here.\n",
      "The meta information will be empty here.\n",
      "The meta information will be empty here.\n",
      "The meta information will be empty here.\n",
      "The meta information will be empty here.\n",
      "The meta information will be empty here.\n",
      "The meta information will be empty here.\n",
      "The meta information will be empty here.\n",
      "The meta information will be empty here.\n",
      "The meta information will be empty here.\n",
      "The meta information will be empty here.\n",
      "The meta information will be empty here.\n",
      "The meta information will be empty here.\n",
      "The meta information will be empty here.\n",
      "The meta information will be empty here.\n",
      "The meta information will be empty here.\n",
      "The meta information will be empty here.\n",
      "The meta information will be empty here.\n",
      "The meta information will be empty here.\n",
      "The meta information will be empty here.\n",
      "The meta information will be empty here.\n",
      "The meta information will be empty here.\n",
      "The meta information will be empty here.\n",
      "The meta information will be empty here.\n",
      "The meta information will be empty here.\n",
      "The meta information will be empty here.\n",
      "The meta information will be empty here.\n",
      "The meta information will be empty here.\n",
      "The meta information will be empty here.\n",
      "The meta information will be empty here.\n",
      "The meta information will be empty here.\n",
      "The meta information will be empty here.\n",
      "The meta information will be empty here.\n",
      "The meta information will be empty here.\n",
      "The meta information will be empty here.\n"
     ]
    }
   ],
   "source": [
    "from tqdm.auto import tqdm\n",
    "map_dataset_empty = MapDataset.create(geom=geom, energy_axis_true=e_true)\n",
    "\n",
    "map_dataset_maker = MapDatasetMaker()\n",
    "phase_bkg_maker = PhaseBackgroundMaker(\n",
    "    on_phase=on_phase_range, off_phase=off_phase_range, phase_column_name=\"PHASE\",\n",
    ")\n",
    "\n",
    "offset_max = 1.5 * u.deg\n",
    "safe_mask_maker = SafeMaskMaker(methods=[\"offset-max\"], offset_max=offset_max)\n",
    "\n",
    "map_datasets = Datasets()\n",
    "\n",
    "for obs in tqdm(obs_list_crab):\n",
    "    # print(obs)\n",
    "    #print(obs.events.table)\n",
    "    map_dataset = map_dataset_maker.run(map_dataset_empty, obs)\n",
    "    map_dataset = safe_mask_maker.run(map_dataset, obs)\n",
    "    map_dataset_on_off = phase_bkg_maker.run(map_dataset, obs)\n",
    "    map_datasets.append(map_dataset_on_off)\n",
    "\n",
    "# datasets_stacked = map_datasets.stack_reduce()"
   ]
  },
  {
   "cell_type": "markdown",
   "metadata": {},
   "source": [
    "Once the data reduction is done, we can plot the map of the counts-ON (i.e. in the ON-phase)\n",
    "and the map of the background (i.e. the counts-OFF, selected in the OFF-phase, multiplied by alpha).\n",
    "If one wants to plot the counts-OFF instead, `~background` should be replaced by `~counts_off` in the following cell.\n",
    "\n"
   ]
  },
  {
   "cell_type": "code",
   "execution_count": 263,
   "metadata": {
    "jupyter": {
     "outputs_hidden": false
    }
   },
   "outputs": [
    {
     "data": {
      "image/png": "[encoded data removed]",
      "text/plain": [
       "<Figure size 792x288 with 4 Axes>"
      ]
     },
     "metadata": {
      "needs_background": "light"
     },
     "output_type": "display_data"
    }
   ],
   "source": [
    "counts = (\n",
    "    map_datasets[0].counts.smooth(kernel=\"gauss\", width=0.1 * u.deg).sum_over_axes()\n",
    ")\n",
    "background = (\n",
    "    map_datasets[0].background.smooth(kernel=\"gauss\", width=0.1 * u.deg).sum_over_axes()\n",
    ")\n",
    "\n",
    "fig, (ax1, ax2) = plt.subplots(\n",
    "    figsize=(11, 4), ncols=2, subplot_kw={\"projection\": counts.geom.wcs}\n",
    ")\n",
    "\n",
    "counts.plot(ax=ax1, add_cbar=True)\n",
    "ax1.set_title(\"Counts\")\n",
    "\n",
    "background.plot(ax=ax2, add_cbar=True)\n",
    "ax2.set_title(\"Background\")\n",
    "\n",
    "# plt.savefig(\"Figures/PhaseMapCrab_Run100000_v1\")\n",
    "\n",
    "plt.show()"
   ]
  },
  {
   "cell_type": "markdown",
   "metadata": {},
   "source": [
    "Finally, we can run an `~gammapy.estimators.ExcessMapEstimator` to compute the excess and significance maps.\n",
    "\n"
   ]
  },
  {
   "cell_type": "code",
   "execution_count": 264,
   "metadata": {
    "jupyter": {
     "outputs_hidden": false
    }
   },
   "outputs": [
    {
     "data": {
      "image/png": "[encoded data removed]",
      "text/plain": [
       "<Figure size 792x288 with 4 Axes>"
      ]
     },
     "metadata": {
      "needs_background": "light"
     },
     "output_type": "display_data"
    }
   ],
   "source": [
    "excess_map_estimator = ExcessMapEstimator(\n",
    "    correlation_radius=np.sqrt(0.008)*u.deg, energy_edges=[0.01 * u.TeV, 0.4 * u.TeV] # keep 0.08 fixed\n",
    ")\n",
    "estimator_results = excess_map_estimator.run(dataset=map_datasets[4])\n",
    "\n",
    "npred_excess = estimator_results.npred_excess\n",
    "sqrt_ts = estimator_results.sqrt_ts\n",
    "\n",
    "fig, (ax1, ax2) = plt.subplots(\n",
    "    figsize=(11, 4), ncols=2, subplot_kw={\"projection\": npred_excess.geom.wcs}\n",
    ")\n",
    "\n",
    "npred_excess.plot(ax=ax1, add_cbar=True)\n",
    "ax1.set_title(\"Excess counts\")\n",
    "\n",
    "sqrt_ts.plot(ax=ax2, add_cbar=True)\n",
    "ax2.set_title(\"Significance\")\n",
    "\n",
    "plt.show()"
   ]
  },
  {
   "cell_type": "markdown",
   "metadata": {},
   "source": [
    "Note that here we are lacking statistic because we only use one run of CTA.\n",
    "\n",
    "## Phase-resolved spectrum\n",
    "\n",
    "We can also make a phase-resolved spectrum.\n",
    "In order to do that, we are going to use the `~gammapy.makers.PhaseBackgroundMaker` to create a\n",
    "`~gammapy.datasets.SpectrumDatasetOnOff` with the ON and OFF taken in the phase space.\n",
    "Note that this maker take the ON and OFF in the same spatial region.\n",
    "\n",
    "Here to create the `~gammapy.datasets.SpectrumDatasetOnOff`, we are going to redo the whole data reduction.\n",
    "However, note that one can use the `~gammapy.datasets.MapDatasetOnOff.to_spectrum_dataset()` method\n",
    "(with the `containment_correction` parameter set to True) if such a `~gammapy.datasets.MapDatasetOnOff`\n",
    "has been created as shown above.\n",
    "\n"
   ]
  },
  {
   "cell_type": "code",
   "execution_count": 265,
   "metadata": {
    "jupyter": {
     "outputs_hidden": false
    },
    "scrolled": true
   },
   "outputs": [
    {
     "name": "stderr",
     "output_type": "stream",
     "text": [
      "The meta information will be empty here.\n",
      "The meta information will be empty here.\n",
      "The meta information will be empty here.\n",
      "The meta information will be empty here.\n",
      "The meta information will be empty here.\n",
      "The meta information will be empty here.\n",
      "The meta information will be empty here.\n",
      "The meta information will be empty here.\n",
      "The meta information will be empty here.\n",
      "The meta information will be empty here.\n",
      "The meta information will be empty here.\n",
      "The meta information will be empty here.\n",
      "The meta information will be empty here.\n",
      "The meta information will be empty here.\n",
      "The meta information will be empty here.\n",
      "The meta information will be empty here.\n",
      "The meta information will be empty here.\n",
      "The meta information will be empty here.\n",
      "The meta information will be empty here.\n",
      "The meta information will be empty here.\n",
      "The meta information will be empty here.\n",
      "The meta information will be empty here.\n",
      "The meta information will be empty here.\n",
      "The meta information will be empty here.\n",
      "The meta information will be empty here.\n",
      "The meta information will be empty here.\n",
      "The meta information will be empty here.\n",
      "The meta information will be empty here.\n",
      "The meta information will be empty here.\n",
      "The meta information will be empty here.\n",
      "The meta information will be empty here.\n",
      "The meta information will be empty here.\n",
      "The meta information will be empty here.\n",
      "The meta information will be empty here.\n",
      "The meta information will be empty here.\n",
      "The meta information will be empty here.\n",
      "The meta information will be empty here.\n",
      "The meta information will be empty here.\n",
      "The meta information will be empty here.\n",
      "The meta information will be empty here.\n",
      "The meta information will be empty here.\n",
      "The meta information will be empty here.\n",
      "The meta information will be empty here.\n",
      "The meta information will be empty here.\n",
      "The meta information will be empty here.\n",
      "The meta information will be empty here.\n",
      "The meta information will be empty here.\n",
      "The meta information will be empty here.\n",
      "The meta information will be empty here.\n",
      "The meta information will be empty here.\n",
      "The meta information will be empty here.\n",
      "The meta information will be empty here.\n",
      "The meta information will be empty here.\n",
      "The meta information will be empty here.\n",
      "The meta information will be empty here.\n",
      "The meta information will be empty here.\n",
      "The meta information will be empty here.\n",
      "The meta information will be empty here.\n",
      "The meta information will be empty here.\n",
      "The meta information will be empty here.\n",
      "The meta information will be empty here.\n",
      "The meta information will be empty here.\n",
      "The meta information will be empty here.\n",
      "The meta information will be empty here.\n",
      "The meta information will be empty here.\n",
      "The meta information will be empty here.\n",
      "The meta information will be empty here.\n",
      "The meta information will be empty here.\n",
      "The meta information will be empty here.\n",
      "The meta information will be empty here.\n",
      "The meta information will be empty here.\n",
      "The meta information will be empty here.\n",
      "The meta information will be empty here.\n",
      "The meta information will be empty here.\n",
      "The meta information will be empty here.\n",
      "The meta information will be empty here.\n",
      "The meta information will be empty here.\n",
      "The meta information will be empty here.\n",
      "The meta information will be empty here.\n",
      "The meta information will be empty here.\n",
      "The meta information will be empty here.\n",
      "The meta information will be empty here.\n",
      "The meta information will be empty here.\n",
      "The meta information will be empty here.\n",
      "The meta information will be empty here.\n",
      "The meta information will be empty here.\n",
      "The meta information will be empty here.\n",
      "The meta information will be empty here.\n",
      "The meta information will be empty here.\n",
      "The meta information will be empty here.\n",
      "The meta information will be empty here.\n",
      "The meta information will be empty here.\n",
      "The meta information will be empty here.\n",
      "The meta information will be empty here.\n",
      "The meta information will be empty here.\n",
      "The meta information will be empty here.\n",
      "The meta information will be empty here.\n",
      "The meta information will be empty here.\n",
      "The meta information will be empty here.\n",
      "The meta information will be empty here.\n",
      "The meta information will be empty here.\n",
      "The meta information will be empty here.\n",
      "The meta information will be empty here.\n",
      "The meta information will be empty here.\n",
      "The meta information will be empty here.\n",
      "The meta information will be empty here.\n",
      "The meta information will be empty here.\n",
      "The meta information will be empty here.\n",
      "The meta information will be empty here.\n",
      "The meta information will be empty here.\n",
      "The meta information will be empty here.\n",
      "The meta information will be empty here.\n",
      "The meta information will be empty here.\n",
      "The meta information will be empty here.\n",
      "The meta information will be empty here.\n",
      "The meta information will be empty here.\n",
      "The meta information will be empty here.\n",
      "The meta information will be empty here.\n",
      "The meta information will be empty here.\n",
      "The meta information will be empty here.\n",
      "The meta information will be empty here.\n",
      "The meta information will be empty here.\n",
      "The meta information will be empty here.\n",
      "The meta information will be empty here.\n",
      "The meta information will be empty here.\n",
      "The meta information will be empty here.\n",
      "The meta information will be empty here.\n",
      "The meta information will be empty here.\n",
      "The meta information will be empty here.\n",
      "The meta information will be empty here.\n",
      "The meta information will be empty here.\n",
      "The meta information will be empty here.\n",
      "The meta information will be empty here.\n",
      "The meta information will be empty here.\n",
      "The meta information will be empty here.\n",
      "The meta information will be empty here.\n",
      "The meta information will be empty here.\n",
      "The meta information will be empty here.\n",
      "The meta information will be empty here.\n",
      "The meta information will be empty here.\n",
      "The meta information will be empty here.\n",
      "The meta information will be empty here.\n",
      "The meta information will be empty here.\n",
      "The meta information will be empty here.\n",
      "The meta information will be empty here.\n",
      "The meta information will be empty here.\n",
      "The meta information will be empty here.\n",
      "The meta information will be empty here.\n",
      "The meta information will be empty here.\n",
      "The meta information will be empty here.\n",
      "The meta information will be empty here.\n",
      "The meta information will be empty here.\n",
      "The meta information will be empty here.\n",
      "The meta information will be empty here.\n",
      "The meta information will be empty here.\n",
      "The meta information will be empty here.\n",
      "The meta information will be empty here.\n",
      "The meta information will be empty here.\n",
      "The meta information will be empty here.\n",
      "The meta information will be empty here.\n",
      "The meta information will be empty here.\n",
      "The meta information will be empty here.\n",
      "The meta information will be empty here.\n",
      "The meta information will be empty here.\n",
      "The meta information will be empty here.\n",
      "The meta information will be empty here.\n",
      "The meta information will be empty here.\n",
      "The meta information will be empty here.\n",
      "The meta information will be empty here.\n",
      "The meta information will be empty here.\n",
      "The meta information will be empty here.\n",
      "The meta information will be empty here.\n",
      "The meta information will be empty here.\n",
      "The meta information will be empty here.\n",
      "The meta information will be empty here.\n",
      "The meta information will be empty here.\n",
      "The meta information will be empty here.\n",
      "The meta information will be empty here.\n",
      "The meta information will be empty here.\n",
      "The meta information will be empty here.\n",
      "The meta information will be empty here.\n",
      "The meta information will be empty here.\n",
      "The meta information will be empty here.\n",
      "The meta information will be empty here.\n",
      "The meta information will be empty here.\n",
      "The meta information will be empty here.\n",
      "The meta information will be empty here.\n",
      "The meta information will be empty here.\n",
      "The meta information will be empty here.\n",
      "The meta information will be empty here.\n",
      "The meta information will be empty here.\n",
      "The meta information will be empty here.\n",
      "The meta information will be empty here.\n",
      "The meta information will be empty here.\n",
      "The meta information will be empty here.\n",
      "The meta information will be empty here.\n",
      "The meta information will be empty here.\n",
      "The meta information will be empty here.\n",
      "The meta information will be empty here.\n",
      "The meta information will be empty here.\n"
     ]
    },
    {
     "name": "stderr",
     "output_type": "stream",
     "text": [
      "The meta information will be empty here.\n",
      "The meta information will be empty here.\n",
      "The meta information will be empty here.\n",
      "The meta information will be empty here.\n",
      "The meta information will be empty here.\n",
      "The meta information will be empty here.\n",
      "The meta information will be empty here.\n",
      "The meta information will be empty here.\n",
      "The meta information will be empty here.\n",
      "The meta information will be empty here.\n",
      "The meta information will be empty here.\n",
      "The meta information will be empty here.\n",
      "The meta information will be empty here.\n",
      "The meta information will be empty here.\n",
      "The meta information will be empty here.\n",
      "The meta information will be empty here.\n",
      "The meta information will be empty here.\n",
      "The meta information will be empty here.\n",
      "The meta information will be empty here.\n",
      "The meta information will be empty here.\n",
      "The meta information will be empty here.\n",
      "The meta information will be empty here.\n",
      "The meta information will be empty here.\n",
      "The meta information will be empty here.\n",
      "The meta information will be empty here.\n",
      "The meta information will be empty here.\n",
      "The meta information will be empty here.\n",
      "The meta information will be empty here.\n",
      "The meta information will be empty here.\n",
      "The meta information will be empty here.\n",
      "The meta information will be empty here.\n",
      "The meta information will be empty here.\n",
      "The meta information will be empty here.\n",
      "The meta information will be empty here.\n",
      "The meta information will be empty here.\n",
      "The meta information will be empty here.\n",
      "The meta information will be empty here.\n",
      "The meta information will be empty here.\n",
      "The meta information will be empty here.\n",
      "The meta information will be empty here.\n",
      "The meta information will be empty here.\n",
      "The meta information will be empty here.\n",
      "The meta information will be empty here.\n",
      "The meta information will be empty here.\n",
      "The meta information will be empty here.\n",
      "The meta information will be empty here.\n",
      "The meta information will be empty here.\n",
      "The meta information will be empty here.\n",
      "The meta information will be empty here.\n",
      "The meta information will be empty here.\n",
      "The meta information will be empty here.\n",
      "The meta information will be empty here.\n",
      "The meta information will be empty here.\n",
      "The meta information will be empty here.\n",
      "The meta information will be empty here.\n",
      "The meta information will be empty here.\n",
      "The meta information will be empty here.\n",
      "The meta information will be empty here.\n",
      "The meta information will be empty here.\n",
      "The meta information will be empty here.\n",
      "The meta information will be empty here.\n",
      "The meta information will be empty here.\n",
      "The meta information will be empty here.\n",
      "The meta information will be empty here.\n",
      "The meta information will be empty here.\n",
      "The meta information will be empty here.\n",
      "The meta information will be empty here.\n",
      "The meta information will be empty here.\n",
      "The meta information will be empty here.\n",
      "The meta information will be empty here.\n",
      "The meta information will be empty here.\n",
      "The meta information will be empty here.\n",
      "The meta information will be empty here.\n",
      "The meta information will be empty here.\n"
     ]
    }
   ],
   "source": [
    "e_true = MapAxis.from_energy_bounds(0.01, 100, 200, unit=\"TeV\", name=\"energy_true\")\n",
    "e_reco = MapAxis.from_energy_bounds(0.01, 1, 30, unit=\"TeV\", name=\"energy\")\n",
    "\n",
    "\n",
    "geom = RegionGeom.create(region=on_region, axes=[e_reco])\n",
    "spectrum_dataset_empty = SpectrumDataset.create(geom=geom, energy_axis_true=e_true)\n",
    "\n",
    "spectrum_dataset_maker = SpectrumDatasetMaker()\n",
    "phase_bkg_maker = PhaseBackgroundMaker(\n",
    "    on_phase=on_phase_range, off_phase=off_phase_range, phase_column_name=\"PHASE\"\n",
    ")\n",
    "\n",
    "offset_max = 5 * u.deg\n",
    "safe_mask_maker = SafeMaskMaker(methods=[\"offset-max\"], offset_max=offset_max)\n",
    "\n",
    "spectrum_datasets = Datasets()\n",
    "\n",
    "for obs in obs_list_crab:\n",
    "    spectrum_dataset = spectrum_dataset_maker.run(spectrum_dataset_empty, obs)\n",
    "    spectrum_dataset = safe_mask_maker.run(spectrum_dataset, obs)\n",
    "    spectrum_dataset_on_off = phase_bkg_maker.run(spectrum_dataset, obs)\n",
    "    spectrum_datasets.append(spectrum_dataset_on_off)"
   ]
  },
  {
   "cell_type": "markdown",
   "metadata": {},
   "source": [
    "Now let’s take a look at the datasets we just created:\n",
    "\n"
   ]
  },
  {
   "cell_type": "markdown",
   "metadata": {},
   "source": [
    "Now we’ll fit a model to the spectrum with the `~gammapy.modeling.Fit` class. First we\n",
    "load a power law model with an initial value for the index and the\n",
    "amplitude and then wo do a likelihood fit. The fit results are printed\n",
    "below.\n",
    "\n"
   ]
  },
  {
   "cell_type": "code",
   "execution_count": 269,
   "metadata": {
    "jupyter": {
     "outputs_hidden": false
    }
   },
   "outputs": [
    {
     "name": "stdout",
     "output_type": "stream",
     "text": [
      "OptimizeResult\n",
      "\n",
      "\tbackend    : minuit\n",
      "\tmethod     : migrad\n",
      "\tsuccess    : True\n",
      "\tmessage    : Optimization terminated successfully.\n",
      "\tnfev       : 46\n",
      "\ttotal stat : 1972.08\n",
      "\n",
      "CovarianceResult\n",
      "\n",
      "\tbackend    : minuit\n",
      "\tmethod     : hesse\n",
      "\tsuccess    : True\n",
      "\tmessage    : Hesse terminated successfully.\n",
      "\n"
     ]
    }
   ],
   "source": [
    "spectral_model = PowerLawSpectralModel(\n",
    "    index=3.8, amplitude=4.2e-11 * u.Unit(\"1 / (cm2 s TeV)\"), reference=0.15 * u.TeV)\n",
    "model = SkyModel(spectral_model=spectral_model, name=\"crab\")\n",
    "emin_fit, emax_fit = (0.05 * u.TeV, 1 * u.TeV)\n",
    "\n",
    "#mask_fit = geom.energy_mask(energy_min=emin_fit, energy_max=emax_fit)\n",
    "\n",
    "for dataset in spectrum_datasets:\n",
    "    dataset.models = model\n",
    "    #dataset.mask_fit = mask_fit\n",
    "joint_fit = Fit()\n",
    "joint_result = joint_fit.run(datasets=spectrum_datasets)\n",
    "\n",
    "print(joint_result)"
   ]
  },
  {
   "cell_type": "code",
   "execution_count": 270,
   "metadata": {},
   "outputs": [
    {
     "name": "stdout",
     "output_type": "stream",
     "text": [
      "OptimizeResult\n",
      "\n",
      "\tbackend    : minuit\n",
      "\tmethod     : migrad\n",
      "\tsuccess    : True\n",
      "\tmessage    : Optimization terminated successfully.\n",
      "\tnfev       : 30\n",
      "\ttotal stat : 16.20\n",
      "\n",
      "CovarianceResult\n",
      "\n",
      "\tbackend    : minuit\n",
      "\tmethod     : hesse\n",
      "\tsuccess    : True\n",
      "\tmessage    : Hesse terminated successfully.\n",
      "\n",
      "SkyModel\n",
      "\n",
      "  Name                      : DqtRVAFp\n",
      "  Datasets names            : None\n",
      "  Spectral model type       : PowerLawSpectralModel\n",
      "  Spatial  model type       : \n",
      "  Temporal model type       : \n",
      "  Parameters:\n",
      "    index                         :      3.352   +/-    0.63             \n",
      "    amplitude                     :   1.24e-11   +/- 3.0e-12 1 / (TeV s cm2)\n",
      "    reference             (frozen):      0.150       TeV         \n",
      "\n",
      "\n"
     ]
    }
   ],
   "source": [
    "dataset_stacked_spec = Datasets(spectrum_datasets).stack_reduce()\n",
    "dataset_stacked_spec.models = model\n",
    "stacked_fit = Fit()\n",
    "result_stacked = stacked_fit.run([dataset_stacked_spec])\n",
    "\n",
    "# Make a copy to compare later\n",
    "model_best_stacked = model.copy()\n",
    "\n",
    "print(result_stacked)\n",
    "print(model_best_stacked)"
   ]
  },
  {
   "cell_type": "code",
   "execution_count": 271,
   "metadata": {},
   "outputs": [
    {
     "data": {
      "text/html": [
       "<pre>SkyModel\n",
       "\n",
       "  Name                      : crab\n",
       "  Datasets names            : None\n",
       "  Spectral model type       : PowerLawSpectralModel\n",
       "  Spatial  model type       : \n",
       "  Temporal model type       : \n",
       "  Parameters:\n",
       "    index                         :      3.352   +/-    0.63             \n",
       "    amplitude                     :   1.24e-11   +/- 3.0e-12 1 / (TeV s cm2)\n",
       "    reference             (frozen):      0.150       TeV         \n",
       "\n",
       "</pre>"
      ],
      "text/plain": [
       "SkyModel(spatial_model=None, spectral_model=<gammapy.modeling.models.spectral.PowerLawSpectralModel object at 0x7f96a3fd0fd0>)temporal_model=None)"
      ]
     },
     "execution_count": 271,
     "metadata": {},
     "output_type": "execute_result"
    }
   ],
   "source": [
    "model"
   ]
  },
  {
   "cell_type": "markdown",
   "metadata": {},
   "source": [
    "Now you might want to do the stacking here even if in our case there is\n",
    "only one observation which makes it superfluous. We can compute flux\n",
    "points by fitting the norm of the global model in energy bands.\n",
    "\n"
   ]
  },
  {
   "cell_type": "code",
   "execution_count": 272,
   "metadata": {
    "jupyter": {
     "outputs_hidden": false
    }
   },
   "outputs": [],
   "source": [
    "energy_edges = np.logspace(-1,0,10) * u.TeV\n",
    "\n",
    "stack_dataset = spectrum_datasets.stack_reduce()\n",
    "\n",
    "stack_dataset.models = model\n",
    "\n",
    "fpe = FluxPointsEstimator(\n",
    "    energy_edges=energy_edges, source=\"crab\", selection_optional=\"all\"\n",
    ")\n",
    "\n",
    "flux_points = fpe.run(datasets=[stack_dataset])\n",
    "flux_points.meta[\"ts_threshold_ul\"] = 2\n",
    "\n",
    "# amplitude_ref = 0.57 * 19.4e-14 * u.Unit(\"1 / (cm2 s MeV)\")\n",
    "spec_model_true = PowerLawSpectralModel(\n",
    "    index=3.8, amplitude=4.2e-11 * u.Unit(\"1 / (cm2 s TeV)\"), reference=0.15 * u.TeV)\n",
    "\n",
    "spec_model_true.amplitude.error = 2.4e-11\n",
    "spec_model_true.index.error = 0.54\n",
    "\n",
    "\n",
    "flux_points_dataset = FluxPointsDataset(data=flux_points, models=model)"
   ]
  },
  {
   "cell_type": "code",
   "execution_count": 273,
   "metadata": {},
   "outputs": [
    {
     "data": {
      "text/html": [
       "<div><i>Table length=9</i>\n",
       "<table id=\"table140284942003696\" class=\"table-striped table-bordered table-condensed\">\n",
       "<thead><tr><th>e_ref</th><th>e_min</th><th>e_max</th><th>ref_dnde</th><th>ref_flux</th><th>ref_eflux</th><th>norm</th><th>norm_err</th><th>norm_errn</th><th>norm_errp</th><th>norm_ul</th><th>ts</th><th>sqrt_ts</th><th>npred</th><th>npred_excess</th><th>stat</th><th>stat_null</th><th>stat_scan</th><th>is_ul</th><th>counts</th><th>success</th><th>norm_scan</th></tr></thead>\n",
       "<thead><tr><th>TeV</th><th>TeV</th><th>TeV</th><th>1 / (TeV s cm2)</th><th>1 / (s cm2)</th><th>TeV / (s cm2)</th><th></th><th></th><th></th><th></th><th></th><th></th><th></th><th></th><th></th><th></th><th></th><th></th><th></th><th></th><th></th><th></th></tr></thead>\n",
       "<thead><tr><th>float64</th><th>float64</th><th>float64</th><th>float64</th><th>float64</th><th>float64</th><th>float64</th><th>float64</th><th>float64</th><th>float64</th><th>float64</th><th>float64</th><th>float64</th><th>float64[1]</th><th>float32[1]</th><th>float64</th><th>float64</th><th>float64[11]</th><th>bool</th><th>float64[1]</th><th>bool</th><th>float64[11]</th></tr></thead>\n",
       "<tr><td>0.11659144011798316</td><td>0.09999999999999998</td><td>0.13593563908785253</td><td>2.8911956739417116e-11</td><td>1.0575382728202355e-12</td><td>1.2152906045594899e-13</td><td>0.6934372876721185</td><td>0.42953496953863973</td><td>0.42455287990144547</td><td>0.4345606893224288</td><td>1.5725235320384479</td><td>2.7067629292141646</td><td>1.6452242793048504</td><td>661.0111251243851</td><td>42.936943</td><td>2.0037987269461155e-07</td><td>2.7067631295940373</td><td>1.3549523860856425 .. 81.63589864625828</td><td>True</td><td>661.0</td><td>True</td><td>0.2 .. 4.999999999999999</td></tr>\n",
       "<tr><td>0.1467799267622069</td><td>0.13593563908785253</td><td>0.15848931924611132</td><td>1.3361079184144514e-11</td><td>3.0268411263530535e-13</td><td>4.42668747955366e-14</td><td>1.5884211638376196</td><td>0.4902708647486707</td><td>0.4842096597975174</td><td>0.4964846031346659</td><td>2.5950441105385087</td><td>11.442137477715733</td><td>3.3826228695667115</td><td>581.9432887339929</td><td>80.63905</td><td>5.883484845981002e-06</td><td>11.442143361200579</td><td>8.647401933019864 .. 41.25094951847859</td><td>False</td><td>582.0</td><td>True</td><td>0.2 .. 4.999999999999999</td></tr>\n",
       "<tr><td>0.18478497974222904</td><td>0.15848931924611132</td><td>0.21544346900318834</td><td>6.174553959594052e-12</td><td>3.5795150979735014e-13</td><td>6.519409264107674e-14</td><td>0.6196923302498287</td><td>0.4271568051078906</td><td>nan</td><td>0.4316749143436519</td><td>1.4918753574527004</td><td>2.169129452187917</td><td>1.4727964734436043</td><td>809.7479437177327</td><td>42.62905</td><td>1.5291067586658755</td><td>3.6982362108537927</td><td>2.51352305317414 .. 88.11896317523497</td><td>True</td><td>808.0</td><td>True</td><td>0.2 .. 4.999999999999999</td></tr>\n",
       "<tr><td>0.251188643150958</td><td>0.21544346900318834</td><td>0.29286445646252357</td><td>2.2060955921562897e-12</td><td>1.7385062987070682e-13</td><td>4.3042119463423397e-14</td><td>1.6032507655437769</td><td>0.6474891334184565</td><td>0.639552197450009</td><td>0.6555460695326105</td><td>2.9312977728678686</td><td>6.537102242931724</td><td>2.556775751397006</td><td>598.9397444288472</td><td>62.4601</td><td>0.5579530212344253</td><td>7.095055264166149</td><td>5.5259173843151075 .. 24.926050656496955</td><td>False</td><td>598.0</td><td>True</td><td>0.2 .. 4.999999999999999</td></tr>\n",
       "<tr><td>0.3162277660168379</td><td>0.29286445646252357</td><td>0.34145488738336005</td><td>1.0195026978027579e-12</td><td>4.975878886460748e-14</td><td>1.5678061741557907e-14</td><td>1.0535435862100384</td><td>1.2543047878262275</td><td>nan</td><td>1.2793836777199965</td><td>3.6634141862370386</td><td>0.7300122663218644</td><td>0.8544075528235132</td><td>227.99841492337725</td><td>13.123359</td><td>1.1801603250205517e-08</td><td>0.7300122781234677</td><td>0.47606621476006694 .. 8.805426458086004</td><td>True</td><td>228.0</td><td>True</td><td>0.2 .. 4.999999999999999</td></tr>\n",
       "<tr><td>0.3981071705534972</td><td>0.34145488738336005</td><td>0.464158883361278</td><td>4.711426624134544e-13</td><td>5.884429626881038e-14</td><td>2.3089884125154232e-14</td><td>-0.3535009264033143</td><td>1.192593231080313</td><td>nan</td><td>1.2118757238729179</td><td>2.10941752066457</td><td>0.08700040097392048</td><td>-0.2949583037887228</td><td>346.3947130301466</td><td>-5.70067</td><td>1.349802741962776</td><td>1.4368031429366965</td><td>1.5619938033851213 .. 18.971764642607013</td><td>True</td><td>345.0</td><td>True</td><td>0.2 .. 4.999999999999999</td></tr>\n",
       "<tr><td>0.5411695265464637</td><td>0.464158883361278</td><td>0.6309573444801932</td><td>1.6833373837669663e-13</td><td>2.857961955914867e-14</td><td>1.5244288410961078e-14</td><td>0.9369983081992423</td><td>1.8920376322536763</td><td>nan</td><td>1.9280069995269264</td><td>4.866142452725181</td><td>0.2499827674437256</td><td>0.4999827671467544</td><td>255.6183969115476</td><td>8.164839</td><td>0.2507562028076791</td><td>0.5007389702514047</td><td>0.40479611532282433 .. 4.517459410104493</td><td>True</td><td>255.0</td><td>True</td><td>0.2 .. 4.999999999999999</td></tr>\n",
       "<tr><td>0.6812920690579614</td><td>0.6309573444801932</td><td>0.7356422544596417</td><td>7.779205081431829e-14</td><td>8.179937320515309e-15</td><td>5.552721331863405e-15</td><td>9.059588581166862</td><td>4.107996069624728</td><td>3.9917216164451688</td><td>3.9917216164479115</td><td>nan</td><td>5.57144021653221</td><td>2.3603898441851103</td><td>112.99969952533259</td><td>24.124687</td><td>8.458300726488233e-10</td><td>5.57144021737804</td><td>5.31103277789407 .. 1.0353989030791126</td><td>False</td><td>113.0</td><td>True</td><td>0.2 .. 4.999999999999999</td></tr>\n",
       "<tr><td>0.8576958985908942</td><td>0.7356422544596417</td><td>1.0</td><td>3.5950031338074515e-14</td><td>9.6735203193635e-15</td><td>8.177776962833739e-15</td><td>-0.43954582362168493</td><td>3.707899388196652</td><td>nan</td><td>3.8034073014100063</td><td>nan</td><td>0.014050083516849554</td><td>-0.11853304820534041</td><td>135.484132179468</td><td>-1.429535</td><td>3.115789780331397</td><td>3.1298398638482468</td><td>3.145399875116709 .. 5.119430771523184</td><td>True</td><td>135.0</td><td>True</td><td>0.2 .. 4.999999999999999</td></tr>\n",
       "</table></div>"
      ],
      "text/plain": [
       "<Table length=9>\n",
       "       e_ref               e_min               e_max        ...   counts   success        norm_scan        \n",
       "        TeV                 TeV                 TeV         ...                                            \n",
       "      float64             float64             float64       ... float64[1]   bool        float64[11]       \n",
       "------------------- ------------------- ------------------- ... ---------- ------- ------------------------\n",
       "0.11659144011798316 0.09999999999999998 0.13593563908785253 ...      661.0    True 0.2 .. 4.999999999999999\n",
       " 0.1467799267622069 0.13593563908785253 0.15848931924611132 ...      582.0    True 0.2 .. 4.999999999999999\n",
       "0.18478497974222904 0.15848931924611132 0.21544346900318834 ...      808.0    True 0.2 .. 4.999999999999999\n",
       "  0.251188643150958 0.21544346900318834 0.29286445646252357 ...      598.0    True 0.2 .. 4.999999999999999\n",
       " 0.3162277660168379 0.29286445646252357 0.34145488738336005 ...      228.0    True 0.2 .. 4.999999999999999\n",
       " 0.3981071705534972 0.34145488738336005   0.464158883361278 ...      345.0    True 0.2 .. 4.999999999999999\n",
       " 0.5411695265464637   0.464158883361278  0.6309573444801932 ...      255.0    True 0.2 .. 4.999999999999999\n",
       " 0.6812920690579614  0.6309573444801932  0.7356422544596417 ...      113.0    True 0.2 .. 4.999999999999999\n",
       " 0.8576958985908942  0.7356422544596417                 1.0 ...      135.0    True 0.2 .. 4.999999999999999"
      ]
     },
     "execution_count": 273,
     "metadata": {},
     "output_type": "execute_result"
    }
   ],
   "source": [
    "flux_points.to_table()"
   ]
  },
  {
   "cell_type": "code",
   "execution_count": 274,
   "metadata": {},
   "outputs": [
    {
     "data": {
      "text/plain": [
       "Text(0.5, 1.0, 'TS Profiles')"
      ]
     },
     "execution_count": 274,
     "metadata": {},
     "output_type": "execute_result"
    },
    {
     "data": {
      "image/png": "[encoded data removed]",
      "text/plain": [
       "<Figure size 576x360 with 2 Axes>"
      ]
     },
     "metadata": {
      "needs_background": "light"
     },
     "output_type": "display_data"
    }
   ],
   "source": [
    "plt.figure(figsize=(8,5))\n",
    "ax = flux_points.plot(sed_type=\"dnde\")\n",
    "\n",
    "flux_points.plot_ts_profiles(ax=ax, sed_type=\"dnde\")\n",
    "\n",
    "plt.grid(which='both')\n",
    "plt.title('TS Profiles')"
   ]
  },
  {
   "cell_type": "markdown",
   "metadata": {},
   "source": [
    "Now we can plot.\n",
    "\n"
   ]
  },
  {
   "cell_type": "code",
   "execution_count": 262,
   "metadata": {
    "jupyter": {
     "outputs_hidden": false
    }
   },
   "outputs": [
    {
     "data": {
      "image/png": "[encoded data removed]",
      "text/plain": [
       "<Figure size 432x288 with 1 Axes>"
      ]
     },
     "metadata": {
      "needs_background": "light"
     },
     "output_type": "display_data"
    }
   ],
   "source": [
    "# ax_spectrum, ax_residuals = flux_points_dataset.plot_fit()\n",
    "ax_spectrum = flux_points_dataset.plot_spectrum(kwargs_fp={'sed_type':'dnde'},kwargs_model={'sed_type':'dnde'})\n",
    "model_best_stacked.spectral_model.plot(energy_bounds=(emin_fit, emax_fit))\n",
    "# ax_spectrum.set_ylim([1e-14, 3e-11])\n",
    "# ax_residuals.set_ylim([-1.7, 1.7])\n",
    "\n",
    "spec_model_true.plot(\n",
    "    ax=ax_spectrum,\n",
    "    energy_bounds=(emin_fit, emax_fit),\n",
    "    label=\"Reference model\",\n",
    "    c=\"black\",\n",
    "    linestyle=\"dashed\",\n",
    ")\n",
    "spec_model_true.plot_error(energy_bounds=(emin_fit, emax_fit))\n",
    "\n",
    "ax_spectrum.legend(loc=\"best\")\n",
    "\n",
    "#plt.savefig(\"Figures/PhaseResolvedSpectrumCrab_100000_v1\")\n",
    "plt.show()"
   ]
  },
  {
   "cell_type": "markdown",
   "metadata": {},
   "source": [
    "This tutorial suffers a bit from the lack of statistics: there were 9\n",
    "Vela observations in the CTA DC1 while there is only one here. When done\n",
    "on the 9 observations, the spectral analysis is much better agreement\n",
    "between the input model and the gammapy fit.\n",
    "\n"
   ]
  },
  {
   "cell_type": "code",
   "execution_count": null,
   "metadata": {},
   "outputs": [],
   "source": []
  }
 ],
 "metadata": {
  "kernelspec": {
   "display_name": "Python 3 (ipykernel)",
   "language": "python",
   "name": "python3"
  },
  "language_info": {
   "codemirror_mode": {
    "name": "ipython",
    "version": 3
   },
   "file_extension": ".py",
   "mimetype": "text/x-python",
   "name": "python",
   "nbconvert_exporter": "python",
   "pygments_lexer": "ipython3",
   "version": "3.9.2"
  }
 },
 "nbformat": 4,
 "nbformat_minor": 4
}
